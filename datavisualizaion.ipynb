{
 "cells": [
  {
   "cell_type": "code",
   "execution_count": 1,
   "metadata": {},
   "outputs": [],
   "source": [
    "import pandas as pd"
   ]
  },
  {
   "cell_type": "code",
   "execution_count": 2,
   "metadata": {},
   "outputs": [],
   "source": [
    "sleep = pd.read_csv(\"Sleep_health_and_lifestyle_dataset.csv\")"
   ]
  },
  {
   "cell_type": "code",
   "execution_count": 3,
   "metadata": {},
   "outputs": [
    {
     "data": {
      "text/html": [
       "<div>\n",
       "<style scoped>\n",
       "    .dataframe tbody tr th:only-of-type {\n",
       "        vertical-align: middle;\n",
       "    }\n",
       "\n",
       "    .dataframe tbody tr th {\n",
       "        vertical-align: top;\n",
       "    }\n",
       "\n",
       "    .dataframe thead th {\n",
       "        text-align: right;\n",
       "    }\n",
       "</style>\n",
       "<table border=\"1\" class=\"dataframe\">\n",
       "  <thead>\n",
       "    <tr style=\"text-align: right;\">\n",
       "      <th></th>\n",
       "      <th>Person ID</th>\n",
       "      <th>Gender</th>\n",
       "      <th>Age</th>\n",
       "      <th>Occupation</th>\n",
       "      <th>Sleep Duration</th>\n",
       "      <th>Quality of Sleep</th>\n",
       "      <th>Physical Activity Level</th>\n",
       "      <th>Stress Level</th>\n",
       "      <th>BMI Category</th>\n",
       "      <th>Blood Pressure</th>\n",
       "      <th>Heart Rate</th>\n",
       "      <th>Daily Steps</th>\n",
       "      <th>Sleep Disorder</th>\n",
       "    </tr>\n",
       "  </thead>\n",
       "  <tbody>\n",
       "    <tr>\n",
       "      <th>0</th>\n",
       "      <td>1</td>\n",
       "      <td>Male</td>\n",
       "      <td>27</td>\n",
       "      <td>Software Engineer</td>\n",
       "      <td>6.1</td>\n",
       "      <td>6</td>\n",
       "      <td>42</td>\n",
       "      <td>6</td>\n",
       "      <td>Overweight</td>\n",
       "      <td>126/83</td>\n",
       "      <td>77</td>\n",
       "      <td>4200</td>\n",
       "      <td>NaN</td>\n",
       "    </tr>\n",
       "    <tr>\n",
       "      <th>1</th>\n",
       "      <td>2</td>\n",
       "      <td>Male</td>\n",
       "      <td>28</td>\n",
       "      <td>Doctor</td>\n",
       "      <td>6.2</td>\n",
       "      <td>6</td>\n",
       "      <td>60</td>\n",
       "      <td>8</td>\n",
       "      <td>Normal</td>\n",
       "      <td>125/80</td>\n",
       "      <td>75</td>\n",
       "      <td>10000</td>\n",
       "      <td>NaN</td>\n",
       "    </tr>\n",
       "    <tr>\n",
       "      <th>2</th>\n",
       "      <td>3</td>\n",
       "      <td>Male</td>\n",
       "      <td>28</td>\n",
       "      <td>Doctor</td>\n",
       "      <td>6.2</td>\n",
       "      <td>6</td>\n",
       "      <td>60</td>\n",
       "      <td>8</td>\n",
       "      <td>Normal</td>\n",
       "      <td>125/80</td>\n",
       "      <td>75</td>\n",
       "      <td>10000</td>\n",
       "      <td>NaN</td>\n",
       "    </tr>\n",
       "    <tr>\n",
       "      <th>3</th>\n",
       "      <td>4</td>\n",
       "      <td>Male</td>\n",
       "      <td>28</td>\n",
       "      <td>Sales Representative</td>\n",
       "      <td>5.9</td>\n",
       "      <td>4</td>\n",
       "      <td>30</td>\n",
       "      <td>8</td>\n",
       "      <td>Obese</td>\n",
       "      <td>140/90</td>\n",
       "      <td>85</td>\n",
       "      <td>3000</td>\n",
       "      <td>Sleep Apnea</td>\n",
       "    </tr>\n",
       "    <tr>\n",
       "      <th>4</th>\n",
       "      <td>5</td>\n",
       "      <td>Male</td>\n",
       "      <td>28</td>\n",
       "      <td>Sales Representative</td>\n",
       "      <td>5.9</td>\n",
       "      <td>4</td>\n",
       "      <td>30</td>\n",
       "      <td>8</td>\n",
       "      <td>Obese</td>\n",
       "      <td>140/90</td>\n",
       "      <td>85</td>\n",
       "      <td>3000</td>\n",
       "      <td>Sleep Apnea</td>\n",
       "    </tr>\n",
       "  </tbody>\n",
       "</table>\n",
       "</div>"
      ],
      "text/plain": [
       "   Person ID Gender  Age            Occupation  Sleep Duration  \\\n",
       "0          1   Male   27     Software Engineer             6.1   \n",
       "1          2   Male   28                Doctor             6.2   \n",
       "2          3   Male   28                Doctor             6.2   \n",
       "3          4   Male   28  Sales Representative             5.9   \n",
       "4          5   Male   28  Sales Representative             5.9   \n",
       "\n",
       "   Quality of Sleep  Physical Activity Level  Stress Level BMI Category  \\\n",
       "0                 6                       42             6   Overweight   \n",
       "1                 6                       60             8       Normal   \n",
       "2                 6                       60             8       Normal   \n",
       "3                 4                       30             8        Obese   \n",
       "4                 4                       30             8        Obese   \n",
       "\n",
       "  Blood Pressure  Heart Rate  Daily Steps Sleep Disorder  \n",
       "0         126/83          77         4200            NaN  \n",
       "1         125/80          75        10000            NaN  \n",
       "2         125/80          75        10000            NaN  \n",
       "3         140/90          85         3000    Sleep Apnea  \n",
       "4         140/90          85         3000    Sleep Apnea  "
      ]
     },
     "execution_count": 3,
     "metadata": {},
     "output_type": "execute_result"
    }
   ],
   "source": [
    "sleep.head()"
   ]
  },
  {
   "cell_type": "code",
   "execution_count": 4,
   "metadata": {},
   "outputs": [],
   "source": [
    "import seaborn as sns"
   ]
  },
  {
   "cell_type": "code",
   "execution_count": 7,
   "metadata": {},
   "outputs": [
    {
     "name": "stdout",
     "output_type": "stream",
     "text": [
      "Collecting squarify\n",
      "  Downloading squarify-0.4.4-py3-none-any.whl.metadata (600 bytes)\n",
      "Downloading squarify-0.4.4-py3-none-any.whl (4.1 kB)\n",
      "Installing collected packages: squarify\n",
      "Successfully installed squarify-0.4.4\n",
      "Note: you may need to restart the kernel to use updated packages.\n"
     ]
    },
    {
     "name": "stderr",
     "output_type": "stream",
     "text": [
      "\n",
      "[notice] A new release of pip is available: 24.0 -> 24.2\n",
      "[notice] To update, run: python.exe -m pip install --upgrade pip\n"
     ]
    }
   ],
   "source": [
    "pip install squarify"
   ]
  },
  {
   "cell_type": "code",
   "execution_count": 5,
   "metadata": {},
   "outputs": [],
   "source": [
    "import numpy as np"
   ]
  },
  {
   "cell_type": "code",
   "execution_count": 6,
   "metadata": {},
   "outputs": [
    {
     "ename": "TypeError",
     "evalue": "'Index' object is not callable",
     "output_type": "error",
     "traceback": [
      "\u001b[1;31m---------------------------------------------------------------------------\u001b[0m",
      "\u001b[1;31mTypeError\u001b[0m                                 Traceback (most recent call last)",
      "Cell \u001b[1;32mIn[6], line 1\u001b[0m\n\u001b[1;32m----> 1\u001b[0m \u001b[43msleep\u001b[49m\u001b[38;5;241;43m.\u001b[39;49m\u001b[43mcolumns\u001b[49m\u001b[43m(\u001b[49m\u001b[43m)\u001b[49m\n",
      "\u001b[1;31mTypeError\u001b[0m: 'Index' object is not callable"
     ]
    }
   ],
   "source": [
    "sleep.columns()"
   ]
  },
  {
   "cell_type": "code",
   "execution_count": 10,
   "metadata": {},
   "outputs": [
    {
     "data": {
      "text/plain": [
       "Index(['Person ID', 'Gender', 'Age', 'Occupation', 'Sleep Duration',\n",
       "       'Quality of Sleep', 'Physical Activity Level', 'Stress Level',\n",
       "       'BMI Category', 'Blood Pressure', 'Heart Rate', 'Daily Steps',\n",
       "       'Sleep Disorder'],\n",
       "      dtype='object')"
      ]
     },
     "execution_count": 10,
     "metadata": {},
     "output_type": "execute_result"
    }
   ],
   "source": [
    "sleep.columns"
   ]
  },
  {
   "cell_type": "markdown",
   "metadata": {},
   "source": [
    "#Data Viz"
   ]
  },
  {
   "cell_type": "code",
   "execution_count": 6,
   "metadata": {},
   "outputs": [],
   "source": [
    "import matplotlib.pyplot as plt"
   ]
  },
  {
   "cell_type": "code",
   "execution_count": null,
   "metadata": {},
   "outputs": [],
   "source": []
  },
  {
   "cell_type": "code",
   "execution_count": 7,
   "metadata": {},
   "outputs": [
    {
     "data": {
      "text/plain": [
       "Index(['Person ID', 'Gender', 'Age', 'Occupation', 'Sleep Duration',\n",
       "       'Quality of Sleep', 'Physical Activity Level', 'Stress Level',\n",
       "       'BMI Category', 'Blood Pressure', 'Heart Rate', 'Daily Steps',\n",
       "       'Sleep Disorder'],\n",
       "      dtype='object')"
      ]
     },
     "execution_count": 7,
     "metadata": {},
     "output_type": "execute_result"
    }
   ],
   "source": [
    "sleep.columns"
   ]
  },
  {
   "cell_type": "code",
   "execution_count": 11,
   "metadata": {},
   "outputs": [
    {
     "data": {
      "text/plain": [
       "<Axes: xlabel='Age', ylabel='Heart Rate'>"
      ]
     },
     "execution_count": 11,
     "metadata": {},
     "output_type": "execute_result"
    },
    {
     "data": {
      "image/png": "[encoded data removed]",
      "text/plain": [
       "<Figure size 640x480 with 1 Axes>"
      ]
     },
     "metadata": {},
     "output_type": "display_data"
    }
   ],
   "source": [
    "sleep.plot(kind='scatter', x='Age', y='Heart Rate', color='#cd9d8f')"
   ]
  },
  {
   "cell_type": "code",
   "execution_count": 12,
   "metadata": {},
   "outputs": [
    {
     "data": {
      "text/plain": [
       "<Axes: xlabel='Age', ylabel='Heart Rate'>"
      ]
     },
     "execution_count": 12,
     "metadata": {},
     "output_type": "execute_result"
    },
    {
     "data": {
      "image/png": "[encoded data removed]",
      "text/plain": [
       "<Figure size 640x480 with 1 Axes>"
      ]
     },
     "metadata": {},
     "output_type": "display_data"
    }
   ],
   "source": [
    "sleep.plot(kind='scatter', x='Age', y='Heart Rate', color='yellow')"
   ]
  },
  {
   "cell_type": "code",
   "execution_count": 8,
   "metadata": {},
   "outputs": [],
   "source": [
    "from json import dumps\n",
    "from random import randint"
   ]
  },
  {
   "cell_type": "code",
   "execution_count": 9,
   "metadata": {},
   "outputs": [
    {
     "data": {
      "text/plain": [
       "<Axes: xlabel='Age', ylabel='Heart Rate'>"
      ]
     },
     "execution_count": 9,
     "metadata": {},
     "output_type": "execute_result"
    },
    {
     "data": {
      "image/png": "[encoded data removed]",
      "text/plain": [
       "<Figure size 640x480 with 1 Axes>"
      ]
     },
     "metadata": {},
     "output_type": "display_data"
    }
   ],
   "source": [
    "sleep.plot(kind='scatter', x='Age', y='Heart Rate', color='#d4af37' )"
   ]
  },
  {
   "cell_type": "code",
   "execution_count": 10,
   "metadata": {},
   "outputs": [
    {
     "data": {
      "text/plain": [
       "Occupation\n",
       "Nurse                   73\n",
       "Doctor                  71\n",
       "Engineer                63\n",
       "Lawyer                  47\n",
       "Teacher                 40\n",
       "Accountant              37\n",
       "Salesperson             32\n",
       "Software Engineer        4\n",
       "Scientist                4\n",
       "Sales Representative     2\n",
       "Manager                  1\n",
       "Name: count, dtype: int64"
      ]
     },
     "execution_count": 10,
     "metadata": {},
     "output_type": "execute_result"
    }
   ],
   "source": [
    "sleep['Occupation'].value_counts()"
   ]
  },
  {
   "cell_type": "code",
   "execution_count": 11,
   "metadata": {},
   "outputs": [
    {
     "data": {
      "text/plain": [
       "<Axes: xlabel='Sleep Duration', ylabel='Occupation'>"
      ]
     },
     "execution_count": 11,
     "metadata": {},
     "output_type": "execute_result"
    },
    {
     "data": {
      "image/png": "[encoded data removed]",
      "text/plain": [
       "<Figure size 640x480 with 1 Axes>"
      ]
     },
     "metadata": {},
     "output_type": "display_data"
    }
   ],
   "source": [
    "#which occupant sleep for how many hours\n",
    "sleep.plot(kind='scatter', x='Sleep Duration', y='Occupation', color='#fc03b2')"
   ]
  },
  {
   "cell_type": "code",
   "execution_count": 12,
   "metadata": {},
   "outputs": [
    {
     "data": {
      "text/plain": [
       "<Axes: xlabel='Age', ylabel='Heart Rate'>"
      ]
     },
     "execution_count": 12,
     "metadata": {},
     "output_type": "execute_result"
    },
    {
     "data": {
      "image/png": "[encoded data removed]",
      "text/plain": [
       "<Figure size 640x480 with 1 Axes>"
      ]
     },
     "metadata": {},
     "output_type": "display_data"
    }
   ],
   "source": [
    "sleep.plot(kind='scatter', x='Age', y='Heart Rate')"
   ]
  },
  {
   "cell_type": "code",
   "execution_count": 13,
   "metadata": {},
   "outputs": [
    {
     "data": {
      "text/plain": [
       "Index(['Person ID', 'Gender', 'Age', 'Occupation', 'Sleep Duration',\n",
       "       'Quality of Sleep', 'Physical Activity Level', 'Stress Level',\n",
       "       'BMI Category', 'Blood Pressure', 'Heart Rate', 'Daily Steps',\n",
       "       'Sleep Disorder'],\n",
       "      dtype='object')"
      ]
     },
     "execution_count": 13,
     "metadata": {},
     "output_type": "execute_result"
    }
   ],
   "source": [
    "sleep.columns"
   ]
  },
  {
   "cell_type": "code",
   "execution_count": 14,
   "metadata": {},
   "outputs": [
    {
     "data": {
      "text/html": [
       "<div>\n",
       "<style scoped>\n",
       "    .dataframe tbody tr th:only-of-type {\n",
       "        vertical-align: middle;\n",
       "    }\n",
       "\n",
       "    .dataframe tbody tr th {\n",
       "        vertical-align: top;\n",
       "    }\n",
       "\n",
       "    .dataframe thead th {\n",
       "        text-align: right;\n",
       "    }\n",
       "</style>\n",
       "<table border=\"1\" class=\"dataframe\">\n",
       "  <thead>\n",
       "    <tr style=\"text-align: right;\">\n",
       "      <th></th>\n",
       "      <th>Person ID</th>\n",
       "      <th>Gender</th>\n",
       "      <th>Age</th>\n",
       "      <th>Occupation</th>\n",
       "      <th>Sleep Duration</th>\n",
       "      <th>Quality of Sleep</th>\n",
       "      <th>Physical Activity Level</th>\n",
       "      <th>Stress Level</th>\n",
       "      <th>BMI Category</th>\n",
       "      <th>Blood Pressure</th>\n",
       "      <th>Heart Rate</th>\n",
       "      <th>Daily Steps</th>\n",
       "      <th>Sleep Disorder</th>\n",
       "    </tr>\n",
       "  </thead>\n",
       "  <tbody>\n",
       "    <tr>\n",
       "      <th>0</th>\n",
       "      <td>1</td>\n",
       "      <td>Male</td>\n",
       "      <td>27</td>\n",
       "      <td>Software Engineer</td>\n",
       "      <td>6.1</td>\n",
       "      <td>6</td>\n",
       "      <td>42</td>\n",
       "      <td>6</td>\n",
       "      <td>Overweight</td>\n",
       "      <td>126/83</td>\n",
       "      <td>77</td>\n",
       "      <td>4200</td>\n",
       "      <td>NaN</td>\n",
       "    </tr>\n",
       "    <tr>\n",
       "      <th>1</th>\n",
       "      <td>2</td>\n",
       "      <td>Male</td>\n",
       "      <td>28</td>\n",
       "      <td>Doctor</td>\n",
       "      <td>6.2</td>\n",
       "      <td>6</td>\n",
       "      <td>60</td>\n",
       "      <td>8</td>\n",
       "      <td>Normal</td>\n",
       "      <td>125/80</td>\n",
       "      <td>75</td>\n",
       "      <td>10000</td>\n",
       "      <td>NaN</td>\n",
       "    </tr>\n",
       "    <tr>\n",
       "      <th>2</th>\n",
       "      <td>3</td>\n",
       "      <td>Male</td>\n",
       "      <td>28</td>\n",
       "      <td>Doctor</td>\n",
       "      <td>6.2</td>\n",
       "      <td>6</td>\n",
       "      <td>60</td>\n",
       "      <td>8</td>\n",
       "      <td>Normal</td>\n",
       "      <td>125/80</td>\n",
       "      <td>75</td>\n",
       "      <td>10000</td>\n",
       "      <td>NaN</td>\n",
       "    </tr>\n",
       "    <tr>\n",
       "      <th>3</th>\n",
       "      <td>4</td>\n",
       "      <td>Male</td>\n",
       "      <td>28</td>\n",
       "      <td>Sales Representative</td>\n",
       "      <td>5.9</td>\n",
       "      <td>4</td>\n",
       "      <td>30</td>\n",
       "      <td>8</td>\n",
       "      <td>Obese</td>\n",
       "      <td>140/90</td>\n",
       "      <td>85</td>\n",
       "      <td>3000</td>\n",
       "      <td>Sleep Apnea</td>\n",
       "    </tr>\n",
       "    <tr>\n",
       "      <th>4</th>\n",
       "      <td>5</td>\n",
       "      <td>Male</td>\n",
       "      <td>28</td>\n",
       "      <td>Sales Representative</td>\n",
       "      <td>5.9</td>\n",
       "      <td>4</td>\n",
       "      <td>30</td>\n",
       "      <td>8</td>\n",
       "      <td>Obese</td>\n",
       "      <td>140/90</td>\n",
       "      <td>85</td>\n",
       "      <td>3000</td>\n",
       "      <td>Sleep Apnea</td>\n",
       "    </tr>\n",
       "  </tbody>\n",
       "</table>\n",
       "</div>"
      ],
      "text/plain": [
       "   Person ID Gender  Age            Occupation  Sleep Duration  \\\n",
       "0          1   Male   27     Software Engineer             6.1   \n",
       "1          2   Male   28                Doctor             6.2   \n",
       "2          3   Male   28                Doctor             6.2   \n",
       "3          4   Male   28  Sales Representative             5.9   \n",
       "4          5   Male   28  Sales Representative             5.9   \n",
       "\n",
       "   Quality of Sleep  Physical Activity Level  Stress Level BMI Category  \\\n",
       "0                 6                       42             6   Overweight   \n",
       "1                 6                       60             8       Normal   \n",
       "2                 6                       60             8       Normal   \n",
       "3                 4                       30             8        Obese   \n",
       "4                 4                       30             8        Obese   \n",
       "\n",
       "  Blood Pressure  Heart Rate  Daily Steps Sleep Disorder  \n",
       "0         126/83          77         4200            NaN  \n",
       "1         125/80          75        10000            NaN  \n",
       "2         125/80          75        10000            NaN  \n",
       "3         140/90          85         3000    Sleep Apnea  \n",
       "4         140/90          85         3000    Sleep Apnea  "
      ]
     },
     "execution_count": 14,
     "metadata": {},
     "output_type": "execute_result"
    }
   ],
   "source": [
    "sleep.head()"
   ]
  },
  {
   "cell_type": "code",
   "execution_count": 15,
   "metadata": {},
   "outputs": [
    {
     "data": {
      "text/plain": [
       "Gender\n",
       "Female    47.405405\n",
       "Male      37.074074\n",
       "Name: Age, dtype: float64"
      ]
     },
     "execution_count": 15,
     "metadata": {},
     "output_type": "execute_result"
    }
   ],
   "source": [
    "sleep.groupby('Gender')['Age'].mean()"
   ]
  },
  {
   "cell_type": "code",
   "execution_count": 17,
   "metadata": {},
   "outputs": [
    {
     "data": {
      "text/plain": [
       "<bound method GroupBy.median of <pandas.core.groupby.generic.SeriesGroupBy object at 0x0000025FAE52D1C0>>"
      ]
     },
     "execution_count": 17,
     "metadata": {},
     "output_type": "execute_result"
    }
   ],
   "source": [
    "sleep.groupby('Gender')['Age'].median"
   ]
  },
  {
   "cell_type": "code",
   "execution_count": 18,
   "metadata": {},
   "outputs": [
    {
     "ename": "AttributeError",
     "evalue": "'SeriesGroupBy' object has no attribute 'mode'",
     "output_type": "error",
     "traceback": [
      "\u001b[1;31m---------------------------------------------------------------------------\u001b[0m",
      "\u001b[1;31mAttributeError\u001b[0m                            Traceback (most recent call last)",
      "Cell \u001b[1;32mIn[18], line 1\u001b[0m\n\u001b[1;32m----> 1\u001b[0m \u001b[43msleep\u001b[49m\u001b[38;5;241;43m.\u001b[39;49m\u001b[43mgroupby\u001b[49m\u001b[43m(\u001b[49m\u001b[38;5;124;43m'\u001b[39;49m\u001b[38;5;124;43mGender\u001b[39;49m\u001b[38;5;124;43m'\u001b[39;49m\u001b[43m)\u001b[49m\u001b[43m[\u001b[49m\u001b[38;5;124;43m'\u001b[39;49m\u001b[38;5;124;43mAge\u001b[39;49m\u001b[38;5;124;43m'\u001b[39;49m\u001b[43m]\u001b[49m\u001b[38;5;241;43m.\u001b[39;49m\u001b[43mmode\u001b[49m\n",
      "File \u001b[1;32mc:\\Users\\DELL\\AppData\\Local\\Programs\\Python\\Python312\\Lib\\site-packages\\pandas\\core\\groupby\\groupby.py:1312\u001b[0m, in \u001b[0;36mGroupBy.__getattr__\u001b[1;34m(self, attr)\u001b[0m\n\u001b[0;32m   1309\u001b[0m \u001b[38;5;28;01mif\u001b[39;00m attr \u001b[38;5;129;01min\u001b[39;00m \u001b[38;5;28mself\u001b[39m\u001b[38;5;241m.\u001b[39mobj:\n\u001b[0;32m   1310\u001b[0m     \u001b[38;5;28;01mreturn\u001b[39;00m \u001b[38;5;28mself\u001b[39m[attr]\n\u001b[1;32m-> 1312\u001b[0m \u001b[38;5;28;01mraise\u001b[39;00m \u001b[38;5;167;01mAttributeError\u001b[39;00m(\n\u001b[0;32m   1313\u001b[0m     \u001b[38;5;124mf\u001b[39m\u001b[38;5;124m\"\u001b[39m\u001b[38;5;124m'\u001b[39m\u001b[38;5;132;01m{\u001b[39;00m\u001b[38;5;28mtype\u001b[39m(\u001b[38;5;28mself\u001b[39m)\u001b[38;5;241m.\u001b[39m\u001b[38;5;18m__name__\u001b[39m\u001b[38;5;132;01m}\u001b[39;00m\u001b[38;5;124m'\u001b[39m\u001b[38;5;124m object has no attribute \u001b[39m\u001b[38;5;124m'\u001b[39m\u001b[38;5;132;01m{\u001b[39;00mattr\u001b[38;5;132;01m}\u001b[39;00m\u001b[38;5;124m'\u001b[39m\u001b[38;5;124m\"\u001b[39m\n\u001b[0;32m   1314\u001b[0m )\n",
      "\u001b[1;31mAttributeError\u001b[0m: 'SeriesGroupBy' object has no attribute 'mode'"
     ]
    }
   ],
   "source": [
    "sleep.groupby('Gender')['Age'].mode\n",
    "\n",
    "\n"
   ]
  },
  {
   "cell_type": "code",
   "execution_count": 19,
   "metadata": {},
   "outputs": [
    {
     "data": {
      "text/plain": [
       "<Axes: xlabel='Gender'>"
      ]
     },
     "execution_count": 19,
     "metadata": {},
     "output_type": "execute_result"
    },
    {
     "data": {
      "image/png": "[encoded data removed]",
      "text/plain": [
       "<Figure size 640x480 with 1 Axes>"
      ]
     },
     "metadata": {},
     "output_type": "display_data"
    }
   ],
   "source": [
    "sleep.groupby('Gender')['Age'].mean().plot(kind='bar')"
   ]
  },
  {
   "cell_type": "code",
   "execution_count": 18,
   "metadata": {},
   "outputs": [
    {
     "data": {
      "text/plain": [
       "Gender\n",
       "Female    7.229730\n",
       "Male      7.036508\n",
       "Name: Sleep Duration, dtype: float64"
      ]
     },
     "execution_count": 18,
     "metadata": {},
     "output_type": "execute_result"
    }
   ],
   "source": [
    "sleep.groupby('Gender')['Sleep Duration'].mean()"
   ]
  },
  {
   "cell_type": "code",
   "execution_count": 20,
   "metadata": {},
   "outputs": [
    {
     "data": {
      "text/plain": [
       "<Axes: xlabel='Gender'>"
      ]
     },
     "execution_count": 20,
     "metadata": {},
     "output_type": "execute_result"
    },
    {
     "data": {
      "image/png": "[encoded data removed]",
      "text/plain": [
       "<Figure size 640x480 with 1 Axes>"
      ]
     },
     "metadata": {},
     "output_type": "display_data"
    }
   ],
   "source": [
    "sleep.groupby('Gender')['Sleep Duration'].mean().plot(kind='bar')"
   ]
  },
  {
   "cell_type": "code",
   "execution_count": 20,
   "metadata": {},
   "outputs": [
    {
     "data": {
      "text/plain": [
       "Occupation\n",
       "Accountant              6881.081081\n",
       "Doctor                  6808.450704\n",
       "Engineer                5980.952381\n",
       "Lawyer                  7661.702128\n",
       "Manager                 5500.000000\n",
       "Nurse                   8057.534247\n",
       "Sales Representative    3000.000000\n",
       "Salesperson             6000.000000\n",
       "Scientist               5350.000000\n",
       "Software Engineer       5800.000000\n",
       "Teacher                 5957.500000\n",
       "Name: Daily Steps, dtype: float64"
      ]
     },
     "execution_count": 20,
     "metadata": {},
     "output_type": "execute_result"
    }
   ],
   "source": [
    "sleep.groupby('Occupation')['Daily Steps'].mean()"
   ]
  },
  {
   "cell_type": "code",
   "execution_count": 21,
   "metadata": {},
   "outputs": [
    {
     "data": {
      "text/plain": [
       "<Axes: xlabel='Occupation'>"
      ]
     },
     "execution_count": 21,
     "metadata": {},
     "output_type": "execute_result"
    },
    {
     "data": {
      "image/png": "[encoded data removed]",
      "text/plain": [
       "<Figure size 640x480 with 1 Axes>"
      ]
     },
     "metadata": {},
     "output_type": "display_data"
    }
   ],
   "source": [
    "sleep.groupby('Occupation')['Daily Steps'].mean().plot(kind='bar')"
   ]
  },
  {
   "cell_type": "code",
   "execution_count": 22,
   "metadata": {},
   "outputs": [
    {
     "data": {
      "text/plain": [
       "<Axes: xlabel='Occupation', ylabel='Heart Rate'>"
      ]
     },
     "execution_count": 22,
     "metadata": {},
     "output_type": "execute_result"
    },
    {
     "data": {
      "image/png": "[encoded data removed]",
      "text/plain": [
       "<Figure size 640x480 with 1 Axes>"
      ]
     },
     "metadata": {},
     "output_type": "display_data"
    }
   ],
   "source": [
    "sns.barplot(data = sleep , x='Occupation', y='Heart Rate')"
   ]
  },
  {
   "cell_type": "code",
   "execution_count": 23,
   "metadata": {},
   "outputs": [
    {
     "data": {
      "text/plain": [
       "<Axes: xlabel='Occupation', ylabel='Heart Rate'>"
      ]
     },
     "execution_count": 23,
     "metadata": {},
     "output_type": "execute_result"
    },
    {
     "data": {
      "image/png": "[encoded data removed]",
      "text/plain": [
       "<Figure size 640x480 with 1 Axes>"
      ]
     },
     "metadata": {},
     "output_type": "display_data"
    }
   ],
   "source": [
    "sns.boxplot(data = sleep , x='Occupation', y='Heart Rate')"
   ]
  },
  {
   "cell_type": "code",
   "execution_count": 24,
   "metadata": {},
   "outputs": [
    {
     "data": {
      "text/plain": [
       "<Axes: xlabel='Heart Rate', ylabel='Occupation'>"
      ]
     },
     "execution_count": 24,
     "metadata": {},
     "output_type": "execute_result"
    },
    {
     "data": {
      "image/png": "[encoded data removed]",
      "text/plain": [
       "<Figure size 640x480 with 1 Axes>"
      ]
     },
     "metadata": {},
     "output_type": "display_data"
    }
   ],
   "source": [
    "sns.boxplot(data = sleep , x='Heart Rate', y='Occupation')"
   ]
  },
  {
   "cell_type": "code",
   "execution_count": 25,
   "metadata": {},
   "outputs": [
    {
     "data": {
      "text/plain": [
       "<Axes: xlabel='Heart Rate', ylabel='Occupation'>"
      ]
     },
     "execution_count": 25,
     "metadata": {},
     "output_type": "execute_result"
    },
    {
     "data": {
      "image/png": "[encoded data removed]",
      "text/plain": [
       "<Figure size 640x480 with 1 Axes>"
      ]
     },
     "metadata": {},
     "output_type": "display_data"
    }
   ],
   "source": [
    "sns.boxplot(data = sleep , x='Heart Rate', y='Occupation', hue='BMI Category')"
   ]
  },
  {
   "cell_type": "code",
   "execution_count": 26,
   "metadata": {},
   "outputs": [
    {
     "data": {
      "text/html": [
       "<div>\n",
       "<style scoped>\n",
       "    .dataframe tbody tr th:only-of-type {\n",
       "        vertical-align: middle;\n",
       "    }\n",
       "\n",
       "    .dataframe tbody tr th {\n",
       "        vertical-align: top;\n",
       "    }\n",
       "\n",
       "    .dataframe thead th {\n",
       "        text-align: right;\n",
       "    }\n",
       "</style>\n",
       "<table border=\"1\" class=\"dataframe\">\n",
       "  <thead>\n",
       "    <tr style=\"text-align: right;\">\n",
       "      <th></th>\n",
       "      <th>Person ID</th>\n",
       "      <th>Gender</th>\n",
       "      <th>Age</th>\n",
       "      <th>Occupation</th>\n",
       "      <th>Sleep Duration</th>\n",
       "      <th>Quality of Sleep</th>\n",
       "      <th>Physical Activity Level</th>\n",
       "      <th>Stress Level</th>\n",
       "      <th>BMI Category</th>\n",
       "      <th>Blood Pressure</th>\n",
       "      <th>Heart Rate</th>\n",
       "      <th>Daily Steps</th>\n",
       "      <th>Sleep Disorder</th>\n",
       "    </tr>\n",
       "  </thead>\n",
       "  <tbody>\n",
       "    <tr>\n",
       "      <th>0</th>\n",
       "      <td>1</td>\n",
       "      <td>Male</td>\n",
       "      <td>27</td>\n",
       "      <td>Software Engineer</td>\n",
       "      <td>6.1</td>\n",
       "      <td>6</td>\n",
       "      <td>42</td>\n",
       "      <td>6</td>\n",
       "      <td>Overweight</td>\n",
       "      <td>126/83</td>\n",
       "      <td>77</td>\n",
       "      <td>4200</td>\n",
       "      <td>NaN</td>\n",
       "    </tr>\n",
       "    <tr>\n",
       "      <th>1</th>\n",
       "      <td>2</td>\n",
       "      <td>Male</td>\n",
       "      <td>28</td>\n",
       "      <td>Doctor</td>\n",
       "      <td>6.2</td>\n",
       "      <td>6</td>\n",
       "      <td>60</td>\n",
       "      <td>8</td>\n",
       "      <td>Normal</td>\n",
       "      <td>125/80</td>\n",
       "      <td>75</td>\n",
       "      <td>10000</td>\n",
       "      <td>NaN</td>\n",
       "    </tr>\n",
       "    <tr>\n",
       "      <th>2</th>\n",
       "      <td>3</td>\n",
       "      <td>Male</td>\n",
       "      <td>28</td>\n",
       "      <td>Doctor</td>\n",
       "      <td>6.2</td>\n",
       "      <td>6</td>\n",
       "      <td>60</td>\n",
       "      <td>8</td>\n",
       "      <td>Normal</td>\n",
       "      <td>125/80</td>\n",
       "      <td>75</td>\n",
       "      <td>10000</td>\n",
       "      <td>NaN</td>\n",
       "    </tr>\n",
       "    <tr>\n",
       "      <th>3</th>\n",
       "      <td>4</td>\n",
       "      <td>Male</td>\n",
       "      <td>28</td>\n",
       "      <td>Sales Representative</td>\n",
       "      <td>5.9</td>\n",
       "      <td>4</td>\n",
       "      <td>30</td>\n",
       "      <td>8</td>\n",
       "      <td>Obese</td>\n",
       "      <td>140/90</td>\n",
       "      <td>85</td>\n",
       "      <td>3000</td>\n",
       "      <td>Sleep Apnea</td>\n",
       "    </tr>\n",
       "    <tr>\n",
       "      <th>4</th>\n",
       "      <td>5</td>\n",
       "      <td>Male</td>\n",
       "      <td>28</td>\n",
       "      <td>Sales Representative</td>\n",
       "      <td>5.9</td>\n",
       "      <td>4</td>\n",
       "      <td>30</td>\n",
       "      <td>8</td>\n",
       "      <td>Obese</td>\n",
       "      <td>140/90</td>\n",
       "      <td>85</td>\n",
       "      <td>3000</td>\n",
       "      <td>Sleep Apnea</td>\n",
       "    </tr>\n",
       "  </tbody>\n",
       "</table>\n",
       "</div>"
      ],
      "text/plain": [
       "   Person ID Gender  Age            Occupation  Sleep Duration  \\\n",
       "0          1   Male   27     Software Engineer             6.1   \n",
       "1          2   Male   28                Doctor             6.2   \n",
       "2          3   Male   28                Doctor             6.2   \n",
       "3          4   Male   28  Sales Representative             5.9   \n",
       "4          5   Male   28  Sales Representative             5.9   \n",
       "\n",
       "   Quality of Sleep  Physical Activity Level  Stress Level BMI Category  \\\n",
       "0                 6                       42             6   Overweight   \n",
       "1                 6                       60             8       Normal   \n",
       "2                 6                       60             8       Normal   \n",
       "3                 4                       30             8        Obese   \n",
       "4                 4                       30             8        Obese   \n",
       "\n",
       "  Blood Pressure  Heart Rate  Daily Steps Sleep Disorder  \n",
       "0         126/83          77         4200            NaN  \n",
       "1         125/80          75        10000            NaN  \n",
       "2         125/80          75        10000            NaN  \n",
       "3         140/90          85         3000    Sleep Apnea  \n",
       "4         140/90          85         3000    Sleep Apnea  "
      ]
     },
     "execution_count": 26,
     "metadata": {},
     "output_type": "execute_result"
    }
   ],
   "source": [
    "sleep.head()"
   ]
  },
  {
   "cell_type": "code",
   "execution_count": 27,
   "metadata": {},
   "outputs": [
    {
     "data": {
      "text/plain": [
       "<Axes: xlabel='Sleep Duration', ylabel='Physical Activity Level'>"
      ]
     },
     "execution_count": 27,
     "metadata": {},
     "output_type": "execute_result"
    },
    {
     "data": {
      "image/png": "[encoded data removed]",
      "text/plain": [
       "<Figure size 640x480 with 1 Axes>"
      ]
     },
     "metadata": {},
     "output_type": "display_data"
    }
   ],
   "source": [
    "sns.scatterplot(data = sleep , x='Sleep Duration', y='Physical Activity Level', hue='Gender')"
   ]
  },
  {
   "cell_type": "code",
   "execution_count": 28,
   "metadata": {},
   "outputs": [
    {
     "data": {
      "text/plain": [
       "<Axes: xlabel='Gender', ylabel='Physical Activity Level'>"
      ]
     },
     "execution_count": 28,
     "metadata": {},
     "output_type": "execute_result"
    },
    {
     "data": {
      "image/png": "[encoded data removed]",
      "text/plain": [
       "<Figure size 640x480 with 1 Axes>"
      ]
     },
     "metadata": {},
     "output_type": "display_data"
    }
   ],
   "source": [
    "sns.scatterplot(data = sleep , x='Gender', y='Physical Activity Level', hue='BMI Category')"
   ]
  },
  {
   "cell_type": "code",
   "execution_count": 29,
   "metadata": {},
   "outputs": [
    {
     "data": {
      "text/plain": [
       "<Axes: xlabel='Sleep Duration', ylabel='Physical Activity Level'>"
      ]
     },
     "execution_count": 29,
     "metadata": {},
     "output_type": "execute_result"
    },
    {
     "data": {
      "image/png": "[encoded data removed]",
      "text/plain": [
       "<Figure size 640x480 with 1 Axes>"
      ]
     },
     "metadata": {},
     "output_type": "display_data"
    }
   ],
   "source": [
    "sns.scatterplot(data = sleep , x='Sleep Duration', y='Physical Activity Level', hue='BMI Category')"
   ]
  },
  {
   "cell_type": "code",
   "execution_count": 30,
   "metadata": {},
   "outputs": [
    {
     "data": {
      "text/plain": [
       "<Axes: xlabel='Sleep Duration', ylabel='Physical Activity Level'>"
      ]
     },
     "execution_count": 30,
     "metadata": {},
     "output_type": "execute_result"
    },
    {
     "data": {
      "image/png": "[encoded data removed]",
      "text/plain": [
       "<Figure size 640x480 with 1 Axes>"
      ]
     },
     "metadata": {},
     "output_type": "display_data"
    }
   ],
   "source": [
    "sns.scatterplot(data = sleep , x='Sleep Duration', y='Physical Activity Level', hue='Sleep Disorder')"
   ]
  },
  {
   "cell_type": "code",
   "execution_count": 31,
   "metadata": {},
   "outputs": [
    {
     "data": {
      "text/plain": [
       "<seaborn.axisgrid.FacetGrid at 0x25fb09760f0>"
      ]
     },
     "execution_count": 31,
     "metadata": {},
     "output_type": "execute_result"
    },
    {
     "data": {
      "image/png": "[encoded data removed]",
      "text/plain": [
       "<Figure size 637.125x500 with 1 Axes>"
      ]
     },
     "metadata": {},
     "output_type": "display_data"
    }
   ],
   "source": [
    "sns.relplot(data = sleep , x='Gender', y='Occupation', hue='Sleep Disorder')"
   ]
  },
  {
   "cell_type": "code",
   "execution_count": 33,
   "metadata": {},
   "outputs": [
    {
     "data": {
      "text/plain": [
       "<Axes: xlabel='Occupation', ylabel='Gender'>"
      ]
     },
     "execution_count": 33,
     "metadata": {},
     "output_type": "execute_result"
    },
    {
     "data": {
      "image/png": "[encoded data removed]",
      "text/plain": [
       "<Figure size 640x480 with 1 Axes>"
      ]
     },
     "metadata": {},
     "output_type": "display_data"
    }
   ],
   "source": [
    "sns.barplot(data = sleep , x='Occupation', y='Gender', hue='Sleep Disorder')"
   ]
  },
  {
   "cell_type": "code",
   "execution_count": 32,
   "metadata": {},
   "outputs": [
    {
     "data": {
      "text/plain": [
       "<Axes: xlabel='Gender', ylabel='Occupation'>"
      ]
     },
     "execution_count": 32,
     "metadata": {},
     "output_type": "execute_result"
    },
    {
     "data": {
      "image/png": "[encoded data removed]",
      "text/plain": [
       "<Figure size 640x480 with 1 Axes>"
      ]
     },
     "metadata": {},
     "output_type": "display_data"
    }
   ],
   "source": [
    "sns.barplot(data = sleep , x='Gender', y='Occupation', hue='Sleep Disorder')"
   ]
  },
  {
   "cell_type": "code",
   "execution_count": 9,
   "metadata": {},
   "outputs": [
    {
     "data": {
      "text/plain": [
       "<Axes: xlabel='Gender', ylabel='Occupation'>"
      ]
     },
     "execution_count": 9,
     "metadata": {},
     "output_type": "execute_result"
    },
    {
     "data": {
      "image/png": "[encoded data removed]",
      "text/plain": [
       "<Figure size 640x480 with 1 Axes>"
      ]
     },
     "metadata": {},
     "output_type": "display_data"
    }
   ],
   "source": [
    "sns.scatterplot(data = sleep , x='Gender', y='Occupation', hue='Sleep Disorder')"
   ]
  },
  {
   "cell_type": "code",
   "execution_count": 16,
   "metadata": {},
   "outputs": [
    {
     "data": {
      "text/plain": [
       "<seaborn.axisgrid.FacetGrid at 0x1bd5a602c60>"
      ]
     },
     "execution_count": 16,
     "metadata": {},
     "output_type": "execute_result"
    },
    {
     "data": {
      "image/png": "[encoded data removed]",
      "text/plain": [
       "<Figure size 511.111x500 with 1 Axes>"
      ]
     },
     "metadata": {},
     "output_type": "display_data"
    }
   ],
   "source": [
    "sns.catplot(data = sleep , x='Gender', y='Occupation')"
   ]
  },
  {
   "cell_type": "code",
   "execution_count": null,
   "metadata": {},
   "outputs": [],
   "source": []
  },
  {
   "cell_type": "code",
   "execution_count": 34,
   "metadata": {},
   "outputs": [
    {
     "data": {
      "text/plain": [
       "<Axes: xlabel='Gender', ylabel='Occupation'>"
      ]
     },
     "execution_count": 34,
     "metadata": {},
     "output_type": "execute_result"
    },
    {
     "data": {
      "image/png": "[encoded data removed]",
      "text/plain": [
       "<Figure size 640x480 with 1 Axes>"
      ]
     },
     "metadata": {},
     "output_type": "display_data"
    }
   ],
   "source": [
    "sns.barplot(data = sleep , x='Gender', y='Occupation')"
   ]
  },
  {
   "cell_type": "code",
   "execution_count": 37,
   "metadata": {},
   "outputs": [
    {
     "data": {
      "text/plain": [
       "<Axes: xlabel='Gender', ylabel='Occupation'>"
      ]
     },
     "execution_count": 37,
     "metadata": {},
     "output_type": "execute_result"
    },
    {
     "data": {
      "image/png": "[encoded data removed]",
      "text/plain": [
       "<Figure size 640x480 with 1 Axes>"
      ]
     },
     "metadata": {},
     "output_type": "display_data"
    }
   ],
   "source": [
    "sns.boxplot(data = sleep , x='Gender', y='Occupation')"
   ]
  },
  {
   "cell_type": "code",
   "execution_count": 36,
   "metadata": {},
   "outputs": [],
   "source": [
    "import plotly.express as px"
   ]
  },
  {
   "cell_type": "code",
   "execution_count": 8,
   "metadata": {},
   "outputs": [
    {
     "data": {
      "text/plain": [
       "Index(['Person ID', 'Gender', 'Age', 'Occupation', 'Sleep Duration',\n",
       "       'Quality of Sleep', 'Physical Activity Level', 'Stress Level',\n",
       "       'BMI Category', 'Blood Pressure', 'Heart Rate', 'Daily Steps',\n",
       "       'Sleep Disorder'],\n",
       "      dtype='object')"
      ]
     },
     "execution_count": 8,
     "metadata": {},
     "output_type": "execute_result"
    }
   ],
   "source": [
    "sleep.columns"
   ]
  },
  {
   "cell_type": "code",
   "execution_count": 38,
   "metadata": {},
   "outputs": [
    {
     "ename": "TypeError",
     "evalue": "scatter() got an unexpected keyword argument 'data'",
     "output_type": "error",
     "traceback": [
      "\u001b[1;31m---------------------------------------------------------------------------\u001b[0m",
      "\u001b[1;31mTypeError\u001b[0m                                 Traceback (most recent call last)",
      "Cell \u001b[1;32mIn[38], line 1\u001b[0m\n\u001b[1;32m----> 1\u001b[0m fig \u001b[38;5;241m=\u001b[39m \u001b[43mpx\u001b[49m\u001b[38;5;241;43m.\u001b[39;49m\u001b[43mscatter\u001b[49m\u001b[43m(\u001b[49m\u001b[43mdata\u001b[49m\u001b[38;5;241;43m=\u001b[39;49m\u001b[43msleep\u001b[49m\u001b[43m,\u001b[49m\u001b[43m \u001b[49m\u001b[43mx\u001b[49m\u001b[38;5;241;43m=\u001b[39;49m\u001b[38;5;124;43m'\u001b[39;49m\u001b[38;5;124;43mAge\u001b[39;49m\u001b[38;5;124;43m'\u001b[39;49m\u001b[43m,\u001b[49m\u001b[43m \u001b[49m\u001b[43my\u001b[49m\u001b[38;5;241;43m=\u001b[39;49m\u001b[38;5;124;43m'\u001b[39;49m\u001b[38;5;124;43mSleep Duration\u001b[39;49m\u001b[38;5;124;43m'\u001b[39;49m\u001b[43m,\u001b[49m\u001b[43m \u001b[49m\u001b[43mcolor\u001b[49m\u001b[43m \u001b[49m\u001b[38;5;241;43m=\u001b[39;49m\u001b[38;5;124;43m'\u001b[39;49m\u001b[38;5;124;43mGender\u001b[39;49m\u001b[38;5;124;43m'\u001b[39;49m\u001b[43m)\u001b[49m\n",
      "\u001b[1;31mTypeError\u001b[0m: scatter() got an unexpected keyword argument 'data'"
     ]
    }
   ],
   "source": [
    "fig = px.scatter(data=sleep, x='Age', y='Sleep Duration', color ='Gender')"
   ]
  },
  {
   "cell_type": "code",
   "execution_count": 13,
   "metadata": {},
   "outputs": [
    {
     "ename": "ValueError",
     "evalue": "Mime type rendering requires nbformat>=4.2.0 but it is not installed",
     "output_type": "error",
     "traceback": [
      "\u001b[1;31m---------------------------------------------------------------------------\u001b[0m",
      "\u001b[1;31mValueError\u001b[0m                                Traceback (most recent call last)",
      "Cell \u001b[1;32mIn[13], line 7\u001b[0m\n\u001b[0;32m      4\u001b[0m fig \u001b[38;5;241m=\u001b[39m px\u001b[38;5;241m.\u001b[39mscatter(sleep, x\u001b[38;5;241m=\u001b[39m\u001b[38;5;124m'\u001b[39m\u001b[38;5;124mAge\u001b[39m\u001b[38;5;124m'\u001b[39m, y\u001b[38;5;241m=\u001b[39m\u001b[38;5;124m'\u001b[39m\u001b[38;5;124mSleep Duration\u001b[39m\u001b[38;5;124m'\u001b[39m, color\u001b[38;5;241m=\u001b[39m\u001b[38;5;124m'\u001b[39m\u001b[38;5;124mGender\u001b[39m\u001b[38;5;124m'\u001b[39m)\n\u001b[0;32m      6\u001b[0m \u001b[38;5;66;03m# Show the plot\u001b[39;00m\n\u001b[1;32m----> 7\u001b[0m \u001b[43mfig\u001b[49m\u001b[38;5;241;43m.\u001b[39;49m\u001b[43mshow\u001b[49m\u001b[43m(\u001b[49m\u001b[43m)\u001b[49m\n",
      "File \u001b[1;32mc:\\Users\\DELL\\AppData\\Local\\Programs\\Python\\Python312\\Lib\\site-packages\\plotly\\basedatatypes.py:3410\u001b[0m, in \u001b[0;36mBaseFigure.show\u001b[1;34m(self, *args, **kwargs)\u001b[0m\n\u001b[0;32m   3377\u001b[0m \u001b[38;5;250m\u001b[39m\u001b[38;5;124;03m\"\"\"\u001b[39;00m\n\u001b[0;32m   3378\u001b[0m \u001b[38;5;124;03mShow a figure using either the default renderer(s) or the renderer(s)\u001b[39;00m\n\u001b[0;32m   3379\u001b[0m \u001b[38;5;124;03mspecified by the renderer argument\u001b[39;00m\n\u001b[1;32m   (...)\u001b[0m\n\u001b[0;32m   3406\u001b[0m \u001b[38;5;124;03mNone\u001b[39;00m\n\u001b[0;32m   3407\u001b[0m \u001b[38;5;124;03m\"\"\"\u001b[39;00m\n\u001b[0;32m   3408\u001b[0m \u001b[38;5;28;01mimport\u001b[39;00m \u001b[38;5;21;01mplotly\u001b[39;00m\u001b[38;5;21;01m.\u001b[39;00m\u001b[38;5;21;01mio\u001b[39;00m \u001b[38;5;28;01mas\u001b[39;00m \u001b[38;5;21;01mpio\u001b[39;00m\n\u001b[1;32m-> 3410\u001b[0m \u001b[38;5;28;01mreturn\u001b[39;00m \u001b[43mpio\u001b[49m\u001b[38;5;241;43m.\u001b[39;49m\u001b[43mshow\u001b[49m\u001b[43m(\u001b[49m\u001b[38;5;28;43mself\u001b[39;49m\u001b[43m,\u001b[49m\u001b[43m \u001b[49m\u001b[38;5;241;43m*\u001b[39;49m\u001b[43margs\u001b[49m\u001b[43m,\u001b[49m\u001b[43m \u001b[49m\u001b[38;5;241;43m*\u001b[39;49m\u001b[38;5;241;43m*\u001b[39;49m\u001b[43mkwargs\u001b[49m\u001b[43m)\u001b[49m\n",
      "File \u001b[1;32mc:\\Users\\DELL\\AppData\\Local\\Programs\\Python\\Python312\\Lib\\site-packages\\plotly\\io\\_renderers.py:394\u001b[0m, in \u001b[0;36mshow\u001b[1;34m(fig, renderer, validate, **kwargs)\u001b[0m\n\u001b[0;32m    389\u001b[0m         \u001b[38;5;28;01mraise\u001b[39;00m \u001b[38;5;167;01mValueError\u001b[39;00m(\n\u001b[0;32m    390\u001b[0m             \u001b[38;5;124m\"\u001b[39m\u001b[38;5;124mMime type rendering requires ipython but it is not installed\u001b[39m\u001b[38;5;124m\"\u001b[39m\n\u001b[0;32m    391\u001b[0m         )\n\u001b[0;32m    393\u001b[0m     \u001b[38;5;28;01mif\u001b[39;00m \u001b[38;5;129;01mnot\u001b[39;00m nbformat \u001b[38;5;129;01mor\u001b[39;00m Version(nbformat\u001b[38;5;241m.\u001b[39m__version__) \u001b[38;5;241m<\u001b[39m Version(\u001b[38;5;124m\"\u001b[39m\u001b[38;5;124m4.2.0\u001b[39m\u001b[38;5;124m\"\u001b[39m):\n\u001b[1;32m--> 394\u001b[0m         \u001b[38;5;28;01mraise\u001b[39;00m \u001b[38;5;167;01mValueError\u001b[39;00m(\n\u001b[0;32m    395\u001b[0m             \u001b[38;5;124m\"\u001b[39m\u001b[38;5;124mMime type rendering requires nbformat>=4.2.0 but it is not installed\u001b[39m\u001b[38;5;124m\"\u001b[39m\n\u001b[0;32m    396\u001b[0m         )\n\u001b[0;32m    398\u001b[0m     ipython_display\u001b[38;5;241m.\u001b[39mdisplay(bundle, raw\u001b[38;5;241m=\u001b[39m\u001b[38;5;28;01mTrue\u001b[39;00m)\n\u001b[0;32m    400\u001b[0m \u001b[38;5;66;03m# external renderers\u001b[39;00m\n",
      "\u001b[1;31mValueError\u001b[0m: Mime type rendering requires nbformat>=4.2.0 but it is not installed"
     ]
    }
   ],
   "source": [
    "import plotly.express as px\n",
    "\n",
    "# Assuming 'sleep' is your DataFrame containing columns 'Age', 'Sleep Duration', and 'Gender'\n",
    "fig = px.scatter(sleep, x='Age', y='Sleep Duration', color='Gender')\n",
    "\n",
    "# Show the plot\n",
    "fig.show()\n"
   ]
  },
  {
   "cell_type": "code",
   "execution_count": 39,
   "metadata": {},
   "outputs": [],
   "source": [
    "fig = px.scatter(sleep,x='Age',y='Sleep Duration', color='Gender')"
   ]
  },
  {
   "cell_type": "code",
   "execution_count": 40,
   "metadata": {},
   "outputs": [
    {
     "data": {
      "application/vnd.plotly.v1+json": {
       "config": {
        "plotlyServerURL": "https://plot.ly"
       },
       "data": [
        {
         "hovertemplate": "Gender=Male<br>Age=%{x}<br>Sleep Duration=%{y}<extra></extra>",
         "legendgroup": "Male",
         "marker": {
          "color": "#636efa",
          "symbol": "circle"
         },
         "mode": "markers",
         "name": "Male",
         "orientation": "v",
         "showlegend": true,
         "type": "scatter",
         "x": [
          27,
          28,
          28,
          28,
          28,
          28,
          29,
          29,
          29,
          29,
          29,
          29,
          29,
          29,
          29,
          29,
          29,
          30,
          30,
          30,
          30,
          30,
          30,
          30,
          30,
          30,
          30,
          30,
          31,
          31,
          31,
          31,
          31,
          31,
          31,
          31,
          31,
          31,
          31,
          31,
          31,
          31,
          31,
          31,
          31,
          32,
          32,
          32,
          32,
          32,
          32,
          32,
          32,
          32,
          32,
          32,
          32,
          32,
          32,
          32,
          32,
          32,
          33,
          33,
          33,
          33,
          33,
          33,
          33,
          33,
          33,
          33,
          33,
          35,
          35,
          35,
          35,
          35,
          35,
          35,
          35,
          35,
          35,
          35,
          36,
          36,
          37,
          37,
          37,
          37,
          37,
          38,
          38,
          38,
          38,
          38,
          38,
          38,
          38,
          38,
          38,
          38,
          39,
          39,
          39,
          39,
          39,
          39,
          39,
          39,
          39,
          39,
          39,
          39,
          40,
          40,
          41,
          41,
          41,
          41,
          41,
          41,
          41,
          41,
          41,
          41,
          41,
          41,
          42,
          42,
          42,
          42,
          42,
          42,
          42,
          43,
          43,
          43,
          43,
          43,
          43,
          43,
          43,
          43,
          43,
          43,
          43,
          43,
          43,
          43,
          43,
          43,
          43,
          43,
          43,
          43,
          43,
          43,
          43,
          43,
          43,
          43,
          43,
          43,
          43,
          43,
          44,
          44,
          44,
          44,
          44,
          44,
          44,
          44,
          44,
          44,
          44,
          44,
          44,
          44,
          44,
          44,
          44,
          44,
          44,
          48,
          48,
          49,
          49
         ],
         "xaxis": "x",
         "y": [
          6.1,
          6.2,
          6.2,
          5.9,
          5.9,
          5.9,
          6.3,
          7.8,
          7.8,
          7.8,
          6.1,
          7.8,
          6.1,
          6,
          6,
          6,
          6,
          7.6,
          7.7,
          7.7,
          7.7,
          7.7,
          7.8,
          7.9,
          7.8,
          7.9,
          7.9,
          7.9,
          6.1,
          7.7,
          6.1,
          6.1,
          7.6,
          7.6,
          7.6,
          7.7,
          7.7,
          7.7,
          7.8,
          7.7,
          7.8,
          7.7,
          7.8,
          7.7,
          7.7,
          7.5,
          7.5,
          6,
          7.6,
          6,
          6,
          7.7,
          6,
          6,
          7.7,
          6,
          6,
          6.2,
          6.2,
          6.2,
          6.2,
          7.2,
          6,
          6.1,
          6.1,
          6.1,
          6.1,
          6,
          6,
          6,
          6,
          6,
          6,
          6.7,
          6.7,
          7.5,
          7.2,
          7.2,
          7.3,
          7.3,
          7.3,
          7.3,
          7.5,
          7.4,
          6.6,
          6.6,
          7.8,
          7.8,
          7.4,
          7.4,
          7.4,
          7.3,
          7.3,
          7.3,
          7.3,
          7.3,
          7.3,
          7.3,
          7.1,
          7.1,
          7.1,
          7.1,
          7.2,
          6.5,
          7.2,
          7.2,
          7.2,
          7.2,
          7.2,
          7.2,
          7.2,
          7.2,
          7.2,
          7.2,
          7.9,
          7.9,
          7.6,
          7.3,
          7.1,
          7.1,
          7.7,
          7.7,
          7.7,
          7.7,
          7.7,
          7.6,
          7.6,
          7.6,
          6.5,
          7.8,
          7.8,
          7.8,
          7.8,
          7.8,
          7.8,
          6.3,
          6.5,
          6.4,
          6.5,
          6.5,
          6.5,
          6.5,
          6.5,
          6.5,
          6.5,
          6.5,
          6.5,
          7.8,
          7.8,
          6.9,
          7.6,
          7.7,
          7.7,
          7.7,
          7.7,
          7.8,
          7.7,
          7.8,
          7.8,
          7.8,
          7.8,
          7.8,
          7.8,
          7.8,
          7.8,
          6.5,
          6.4,
          6.3,
          6.4,
          6.3,
          6.3,
          6.3,
          6.3,
          6.3,
          6.3,
          6.4,
          6.3,
          6.4,
          6.3,
          6.4,
          6.3,
          6.3,
          6.8,
          6.4,
          6.5,
          7.3,
          7.3,
          8.1,
          8.1
         ],
         "yaxis": "y"
        },
        {
         "hovertemplate": "Gender=Female<br>Age=%{x}<br>Sleep Duration=%{y}<extra></extra>",
         "legendgroup": "Female",
         "marker": {
          "color": "#EF553B",
          "symbol": "circle"
         },
         "mode": "markers",
         "name": "Female",
         "orientation": "v",
         "showlegend": true,
         "type": "scatter",
         "x": [
          29,
          29,
          30,
          30,
          31,
          33,
          33,
          34,
          34,
          35,
          36,
          36,
          36,
          36,
          36,
          36,
          36,
          36,
          36,
          36,
          37,
          37,
          37,
          37,
          37,
          37,
          37,
          37,
          37,
          37,
          37,
          37,
          37,
          37,
          37,
          38,
          38,
          38,
          38,
          38,
          38,
          38,
          38,
          38,
          39,
          39,
          39,
          40,
          40,
          42,
          42,
          43,
          43,
          43,
          44,
          44,
          44,
          44,
          44,
          44,
          44,
          44,
          44,
          44,
          44,
          45,
          45,
          45,
          45,
          45,
          45,
          45,
          45,
          45,
          45,
          45,
          45,
          45,
          45,
          48,
          49,
          49,
          49,
          49,
          49,
          49,
          49,
          49,
          49,
          50,
          50,
          50,
          50,
          50,
          50,
          50,
          50,
          50,
          50,
          50,
          50,
          50,
          50,
          50,
          50,
          50,
          50,
          50,
          50,
          51,
          51,
          51,
          51,
          51,
          51,
          51,
          51,
          52,
          52,
          52,
          52,
          52,
          52,
          52,
          52,
          52,
          53,
          53,
          53,
          53,
          53,
          53,
          53,
          53,
          53,
          53,
          53,
          53,
          53,
          53,
          53,
          53,
          53,
          54,
          54,
          54,
          54,
          54,
          54,
          54,
          55,
          55,
          56,
          56,
          57,
          57,
          57,
          57,
          57,
          57,
          57,
          57,
          57,
          58,
          58,
          58,
          58,
          58,
          58,
          59,
          59,
          59,
          59,
          59,
          59,
          59,
          59,
          59,
          59,
          59,
          59,
          59,
          59,
          59,
          59
         ],
         "xaxis": "x",
         "y": [
          6.5,
          6.5,
          6.4,
          6.4,
          7.9,
          6.2,
          6.2,
          5.8,
          5.8,
          7.2,
          7.2,
          7.1,
          7.2,
          7.1,
          7.1,
          7.1,
          7.2,
          7.2,
          7.2,
          7.2,
          6.1,
          7.2,
          7.2,
          7.2,
          7.2,
          7.2,
          7.2,
          7.2,
          7.2,
          7.2,
          7.2,
          7.2,
          7.2,
          7.2,
          7.5,
          7.1,
          7.1,
          7.1,
          7.1,
          7.1,
          7.1,
          7.1,
          7.1,
          7.4,
          6.9,
          8,
          8,
          7.2,
          7.2,
          6.8,
          6.8,
          6.7,
          6.7,
          6.7,
          6.6,
          6.6,
          6.6,
          6.6,
          6.6,
          6.6,
          6.6,
          6.5,
          6.5,
          6.5,
          6.5,
          6.8,
          6.8,
          6.5,
          6.5,
          6.5,
          6.5,
          6.6,
          6.6,
          6.6,
          6.6,
          6.6,
          6.6,
          6.6,
          6.9,
          5.9,
          6.2,
          6,
          6.1,
          6.1,
          6.1,
          6.1,
          6.2,
          6.2,
          6.2,
          6.1,
          8.3,
          6,
          6.1,
          6,
          6,
          6,
          6,
          6,
          6,
          6,
          6.1,
          6,
          6.1,
          6.1,
          6,
          6.1,
          6,
          6.1,
          6.1,
          8.5,
          8.5,
          8.5,
          8.5,
          7.1,
          6,
          6.1,
          6.1,
          6.5,
          6.5,
          6.6,
          6.6,
          6.6,
          6.6,
          8.4,
          8.4,
          8.4,
          8.3,
          8.5,
          8.5,
          8.4,
          8.4,
          8.5,
          8.4,
          8.4,
          8.5,
          8.3,
          8.5,
          8.3,
          8.5,
          8.3,
          8.5,
          8.5,
          8.4,
          8.4,
          8.4,
          8.4,
          8.4,
          8.4,
          8.4,
          8.5,
          8.1,
          8.1,
          8.2,
          8.2,
          8.1,
          8.2,
          8.2,
          8.2,
          8.2,
          8.2,
          8.1,
          8.1,
          8.1,
          8,
          8,
          8,
          8,
          8,
          8,
          8,
          8.1,
          8.2,
          8.2,
          8.2,
          8.2,
          8,
          8,
          8.1,
          8,
          8.1,
          8.1,
          8,
          8.1,
          8.1,
          8.1
         ],
         "yaxis": "y"
        }
       ],
       "layout": {
        "legend": {
         "title": {
          "text": "Gender"
         },
         "tracegroupgap": 0
        },
        "margin": {
         "t": 60
        },
        "template": {
         "data": {
          "bar": [
           {
            "error_x": {
             "color": "#2a3f5f"
            },
            "error_y": {
             "color": "#2a3f5f"
            },
            "marker": {
             "line": {
              "color": "#E5ECF6",
              "width": 0.5
             },
             "pattern": {
              "fillmode": "overlay",
              "size": 10,
              "solidity": 0.2
             }
            },
            "type": "bar"
           }
          ],
          "barpolar": [
           {
            "marker": {
             "line": {
              "color": "#E5ECF6",
              "width": 0.5
             },
             "pattern": {
              "fillmode": "overlay",
              "size": 10,
              "solidity": 0.2
             }
            },
            "type": "barpolar"
           }
          ],
          "carpet": [
           {
            "aaxis": {
             "endlinecolor": "#2a3f5f",
             "gridcolor": "white",
             "linecolor": "white",
             "minorgridcolor": "white",
             "startlinecolor": "#2a3f5f"
            },
            "baxis": {
             "endlinecolor": "#2a3f5f",
             "gridcolor": "white",
             "linecolor": "white",
             "minorgridcolor": "white",
             "startlinecolor": "#2a3f5f"
            },
            "type": "carpet"
           }
          ],
          "choropleth": [
           {
            "colorbar": {
             "outlinewidth": 0,
             "ticks": ""
            },
            "type": "choropleth"
           }
          ],
          "contour": [
           {
            "colorbar": {
             "outlinewidth": 0,
             "ticks": ""
            },
            "colorscale": [
             [
              0,
              "#0d0887"
             ],
             [
              0.1111111111111111,
              "#46039f"
             ],
             [
              0.2222222222222222,
              "#7201a8"
             ],
             [
              0.3333333333333333,
              "#9c179e"
             ],
             [
              0.4444444444444444,
              "#bd3786"
             ],
             [
              0.5555555555555556,
              "#d8576b"
             ],
             [
              0.6666666666666666,
              "#ed7953"
             ],
             [
              0.7777777777777778,
              "#fb9f3a"
             ],
             [
              0.8888888888888888,
              "#fdca26"
             ],
             [
              1,
              "#f0f921"
             ]
            ],
            "type": "contour"
           }
          ],
          "contourcarpet": [
           {
            "colorbar": {
             "outlinewidth": 0,
             "ticks": ""
            },
            "type": "contourcarpet"
           }
          ],
          "heatmap": [
           {
            "colorbar": {
             "outlinewidth": 0,
             "ticks": ""
            },
            "colorscale": [
             [
              0,
              "#0d0887"
             ],
             [
              0.1111111111111111,
              "#46039f"
             ],
             [
              0.2222222222222222,
              "#7201a8"
             ],
             [
              0.3333333333333333,
              "#9c179e"
             ],
             [
              0.4444444444444444,
              "#bd3786"
             ],
             [
              0.5555555555555556,
              "#d8576b"
             ],
             [
              0.6666666666666666,
              "#ed7953"
             ],
             [
              0.7777777777777778,
              "#fb9f3a"
             ],
             [
              0.8888888888888888,
              "#fdca26"
             ],
             [
              1,
              "#f0f921"
             ]
            ],
            "type": "heatmap"
           }
          ],
          "heatmapgl": [
           {
            "colorbar": {
             "outlinewidth": 0,
             "ticks": ""
            },
            "colorscale": [
             [
              0,
              "#0d0887"
             ],
             [
              0.1111111111111111,
              "#46039f"
             ],
             [
              0.2222222222222222,
              "#7201a8"
             ],
             [
              0.3333333333333333,
              "#9c179e"
             ],
             [
              0.4444444444444444,
              "#bd3786"
             ],
             [
              0.5555555555555556,
              "#d8576b"
             ],
             [
              0.6666666666666666,
              "#ed7953"
             ],
             [
              0.7777777777777778,
              "#fb9f3a"
             ],
             [
              0.8888888888888888,
              "#fdca26"
             ],
             [
              1,
              "#f0f921"
             ]
            ],
            "type": "heatmapgl"
           }
          ],
          "histogram": [
           {
            "marker": {
             "pattern": {
              "fillmode": "overlay",
              "size": 10,
              "solidity": 0.2
             }
            },
            "type": "histogram"
           }
          ],
          "histogram2d": [
           {
            "colorbar": {
             "outlinewidth": 0,
             "ticks": ""
            },
            "colorscale": [
             [
              0,
              "#0d0887"
             ],
             [
              0.1111111111111111,
              "#46039f"
             ],
             [
              0.2222222222222222,
              "#7201a8"
             ],
             [
              0.3333333333333333,
              "#9c179e"
             ],
             [
              0.4444444444444444,
              "#bd3786"
             ],
             [
              0.5555555555555556,
              "#d8576b"
             ],
             [
              0.6666666666666666,
              "#ed7953"
             ],
             [
              0.7777777777777778,
              "#fb9f3a"
             ],
             [
              0.8888888888888888,
              "#fdca26"
             ],
             [
              1,
              "#f0f921"
             ]
            ],
            "type": "histogram2d"
           }
          ],
          "histogram2dcontour": [
           {
            "colorbar": {
             "outlinewidth": 0,
             "ticks": ""
            },
            "colorscale": [
             [
              0,
              "#0d0887"
             ],
             [
              0.1111111111111111,
              "#46039f"
             ],
             [
              0.2222222222222222,
              "#7201a8"
             ],
             [
              0.3333333333333333,
              "#9c179e"
             ],
             [
              0.4444444444444444,
              "#bd3786"
             ],
             [
              0.5555555555555556,
              "#d8576b"
             ],
             [
              0.6666666666666666,
              "#ed7953"
             ],
             [
              0.7777777777777778,
              "#fb9f3a"
             ],
             [
              0.8888888888888888,
              "#fdca26"
             ],
             [
              1,
              "#f0f921"
             ]
            ],
            "type": "histogram2dcontour"
           }
          ],
          "mesh3d": [
           {
            "colorbar": {
             "outlinewidth": 0,
             "ticks": ""
            },
            "type": "mesh3d"
           }
          ],
          "parcoords": [
           {
            "line": {
             "colorbar": {
              "outlinewidth": 0,
              "ticks": ""
             }
            },
            "type": "parcoords"
           }
          ],
          "pie": [
           {
            "automargin": true,
            "type": "pie"
           }
          ],
          "scatter": [
           {
            "fillpattern": {
             "fillmode": "overlay",
             "size": 10,
             "solidity": 0.2
            },
            "type": "scatter"
           }
          ],
          "scatter3d": [
           {
            "line": {
             "colorbar": {
              "outlinewidth": 0,
              "ticks": ""
             }
            },
            "marker": {
             "colorbar": {
              "outlinewidth": 0,
              "ticks": ""
             }
            },
            "type": "scatter3d"
           }
          ],
          "scattercarpet": [
           {
            "marker": {
             "colorbar": {
              "outlinewidth": 0,
              "ticks": ""
             }
            },
            "type": "scattercarpet"
           }
          ],
          "scattergeo": [
           {
            "marker": {
             "colorbar": {
              "outlinewidth": 0,
              "ticks": ""
             }
            },
            "type": "scattergeo"
           }
          ],
          "scattergl": [
           {
            "marker": {
             "colorbar": {
              "outlinewidth": 0,
              "ticks": ""
             }
            },
            "type": "scattergl"
           }
          ],
          "scattermapbox": [
           {
            "marker": {
             "colorbar": {
              "outlinewidth": 0,
              "ticks": ""
             }
            },
            "type": "scattermapbox"
           }
          ],
          "scatterpolar": [
           {
            "marker": {
             "colorbar": {
              "outlinewidth": 0,
              "ticks": ""
             }
            },
            "type": "scatterpolar"
           }
          ],
          "scatterpolargl": [
           {
            "marker": {
             "colorbar": {
              "outlinewidth": 0,
              "ticks": ""
             }
            },
            "type": "scatterpolargl"
           }
          ],
          "scatterternary": [
           {
            "marker": {
             "colorbar": {
              "outlinewidth": 0,
              "ticks": ""
             }
            },
            "type": "scatterternary"
           }
          ],
          "surface": [
           {
            "colorbar": {
             "outlinewidth": 0,
             "ticks": ""
            },
            "colorscale": [
             [
              0,
              "#0d0887"
             ],
             [
              0.1111111111111111,
              "#46039f"
             ],
             [
              0.2222222222222222,
              "#7201a8"
             ],
             [
              0.3333333333333333,
              "#9c179e"
             ],
             [
              0.4444444444444444,
              "#bd3786"
             ],
             [
              0.5555555555555556,
              "#d8576b"
             ],
             [
              0.6666666666666666,
              "#ed7953"
             ],
             [
              0.7777777777777778,
              "#fb9f3a"
             ],
             [
              0.8888888888888888,
              "#fdca26"
             ],
             [
              1,
              "#f0f921"
             ]
            ],
            "type": "surface"
           }
          ],
          "table": [
           {
            "cells": {
             "fill": {
              "color": "#EBF0F8"
             },
             "line": {
              "color": "white"
             }
            },
            "header": {
             "fill": {
              "color": "#C8D4E3"
             },
             "line": {
              "color": "white"
             }
            },
            "type": "table"
           }
          ]
         },
         "layout": {
          "annotationdefaults": {
           "arrowcolor": "#2a3f5f",
           "arrowhead": 0,
           "arrowwidth": 1
          },
          "autotypenumbers": "strict",
          "coloraxis": {
           "colorbar": {
            "outlinewidth": 0,
            "ticks": ""
           }
          },
          "colorscale": {
           "diverging": [
            [
             0,
             "#8e0152"
            ],
            [
             0.1,
             "#c51b7d"
            ],
            [
             0.2,
             "#de77ae"
            ],
            [
             0.3,
             "#f1b6da"
            ],
            [
             0.4,
             "#fde0ef"
            ],
            [
             0.5,
             "#f7f7f7"
            ],
            [
             0.6,
             "#e6f5d0"
            ],
            [
             0.7,
             "#b8e186"
            ],
            [
             0.8,
             "#7fbc41"
            ],
            [
             0.9,
             "#4d9221"
            ],
            [
             1,
             "#276419"
            ]
           ],
           "sequential": [
            [
             0,
             "#0d0887"
            ],
            [
             0.1111111111111111,
             "#46039f"
            ],
            [
             0.2222222222222222,
             "#7201a8"
            ],
            [
             0.3333333333333333,
             "#9c179e"
            ],
            [
             0.4444444444444444,
             "#bd3786"
            ],
            [
             0.5555555555555556,
             "#d8576b"
            ],
            [
             0.6666666666666666,
             "#ed7953"
            ],
            [
             0.7777777777777778,
             "#fb9f3a"
            ],
            [
             0.8888888888888888,
             "#fdca26"
            ],
            [
             1,
             "#f0f921"
            ]
           ],
           "sequentialminus": [
            [
             0,
             "#0d0887"
            ],
            [
             0.1111111111111111,
             "#46039f"
            ],
            [
             0.2222222222222222,
             "#7201a8"
            ],
            [
             0.3333333333333333,
             "#9c179e"
            ],
            [
             0.4444444444444444,
             "#bd3786"
            ],
            [
             0.5555555555555556,
             "#d8576b"
            ],
            [
             0.6666666666666666,
             "#ed7953"
            ],
            [
             0.7777777777777778,
             "#fb9f3a"
            ],
            [
             0.8888888888888888,
             "#fdca26"
            ],
            [
             1,
             "#f0f921"
            ]
           ]
          },
          "colorway": [
           "#636efa",
           "#EF553B",
           "#00cc96",
           "#ab63fa",
           "#FFA15A",
           "#19d3f3",
           "#FF6692",
           "#B6E880",
           "#FF97FF",
           "#FECB52"
          ],
          "font": {
           "color": "#2a3f5f"
          },
          "geo": {
           "bgcolor": "white",
           "lakecolor": "white",
           "landcolor": "#E5ECF6",
           "showlakes": true,
           "showland": true,
           "subunitcolor": "white"
          },
          "hoverlabel": {
           "align": "left"
          },
          "hovermode": "closest",
          "mapbox": {
           "style": "light"
          },
          "paper_bgcolor": "white",
          "plot_bgcolor": "#E5ECF6",
          "polar": {
           "angularaxis": {
            "gridcolor": "white",
            "linecolor": "white",
            "ticks": ""
           },
           "bgcolor": "#E5ECF6",
           "radialaxis": {
            "gridcolor": "white",
            "linecolor": "white",
            "ticks": ""
           }
          },
          "scene": {
           "xaxis": {
            "backgroundcolor": "#E5ECF6",
            "gridcolor": "white",
            "gridwidth": 2,
            "linecolor": "white",
            "showbackground": true,
            "ticks": "",
            "zerolinecolor": "white"
           },
           "yaxis": {
            "backgroundcolor": "#E5ECF6",
            "gridcolor": "white",
            "gridwidth": 2,
            "linecolor": "white",
            "showbackground": true,
            "ticks": "",
            "zerolinecolor": "white"
           },
           "zaxis": {
            "backgroundcolor": "#E5ECF6",
            "gridcolor": "white",
            "gridwidth": 2,
            "linecolor": "white",
            "showbackground": true,
            "ticks": "",
            "zerolinecolor": "white"
           }
          },
          "shapedefaults": {
           "line": {
            "color": "#2a3f5f"
           }
          },
          "ternary": {
           "aaxis": {
            "gridcolor": "white",
            "linecolor": "white",
            "ticks": ""
           },
           "baxis": {
            "gridcolor": "white",
            "linecolor": "white",
            "ticks": ""
           },
           "bgcolor": "#E5ECF6",
           "caxis": {
            "gridcolor": "white",
            "linecolor": "white",
            "ticks": ""
           }
          },
          "title": {
           "x": 0.05
          },
          "xaxis": {
           "automargin": true,
           "gridcolor": "white",
           "linecolor": "white",
           "ticks": "",
           "title": {
            "standoff": 15
           },
           "zerolinecolor": "white",
           "zerolinewidth": 2
          },
          "yaxis": {
           "automargin": true,
           "gridcolor": "white",
           "linecolor": "white",
           "ticks": "",
           "title": {
            "standoff": 15
           },
           "zerolinecolor": "white",
           "zerolinewidth": 2
          }
         }
        },
        "xaxis": {
         "anchor": "y",
         "domain": [
          0,
          1
         ],
         "title": {
          "text": "Age"
         }
        },
        "yaxis": {
         "anchor": "x",
         "domain": [
          0,
          1
         ],
         "title": {
          "text": "Sleep Duration"
         }
        }
       }
      }
     },
     "metadata": {},
     "output_type": "display_data"
    }
   ],
   "source": [
    "fig"
   ]
  },
  {
   "cell_type": "code",
   "execution_count": 41,
   "metadata": {},
   "outputs": [
    {
     "name": "stdout",
     "output_type": "stream",
     "text": [
      "Note: you may need to restart the kernel to use updated packages.\n"
     ]
    },
    {
     "name": "stderr",
     "output_type": "stream",
     "text": [
      "\n",
      "[notice] A new release of pip is available: 24.0 -> 24.2\n",
      "[notice] To update, run: python.exe -m pip install --upgrade pip\n"
     ]
    }
   ],
   "source": [
    "pip install nbformat>=4.2.0\n"
   ]
  },
  {
   "cell_type": "code",
   "execution_count": 42,
   "metadata": {},
   "outputs": [
    {
     "ename": "AttributeError",
     "evalue": "module 'plotly.express' has no attribute 'violen'",
     "output_type": "error",
     "traceback": [
      "\u001b[1;31m---------------------------------------------------------------------------\u001b[0m",
      "\u001b[1;31mAttributeError\u001b[0m                            Traceback (most recent call last)",
      "Cell \u001b[1;32mIn[42], line 1\u001b[0m\n\u001b[1;32m----> 1\u001b[0m fig2 \u001b[38;5;241m=\u001b[39m \u001b[43mpx\u001b[49m\u001b[38;5;241;43m.\u001b[39;49m\u001b[43mviolen\u001b[49m\n",
      "\u001b[1;31mAttributeError\u001b[0m: module 'plotly.express' has no attribute 'violen'"
     ]
    }
   ],
   "source": [
    "fig2 = px.violen"
   ]
  },
  {
   "cell_type": "code",
   "execution_count": 20,
   "metadata": {},
   "outputs": [
    {
     "data": {
      "text/html": [
       "<div>\n",
       "<style scoped>\n",
       "    .dataframe tbody tr th:only-of-type {\n",
       "        vertical-align: middle;\n",
       "    }\n",
       "\n",
       "    .dataframe tbody tr th {\n",
       "        vertical-align: top;\n",
       "    }\n",
       "\n",
       "    .dataframe thead th {\n",
       "        text-align: right;\n",
       "    }\n",
       "</style>\n",
       "<table border=\"1\" class=\"dataframe\">\n",
       "  <thead>\n",
       "    <tr style=\"text-align: right;\">\n",
       "      <th></th>\n",
       "      <th>Person ID</th>\n",
       "      <th>Gender</th>\n",
       "      <th>Age</th>\n",
       "      <th>Occupation</th>\n",
       "      <th>Sleep Duration</th>\n",
       "      <th>Quality of Sleep</th>\n",
       "      <th>Physical Activity Level</th>\n",
       "      <th>Stress Level</th>\n",
       "      <th>BMI Category</th>\n",
       "      <th>Blood Pressure</th>\n",
       "      <th>Heart Rate</th>\n",
       "      <th>Daily Steps</th>\n",
       "      <th>Sleep Disorder</th>\n",
       "    </tr>\n",
       "  </thead>\n",
       "  <tbody>\n",
       "    <tr>\n",
       "      <th>0</th>\n",
       "      <td>1</td>\n",
       "      <td>Male</td>\n",
       "      <td>27</td>\n",
       "      <td>Software Engineer</td>\n",
       "      <td>6.1</td>\n",
       "      <td>6</td>\n",
       "      <td>42</td>\n",
       "      <td>6</td>\n",
       "      <td>Overweight</td>\n",
       "      <td>126/83</td>\n",
       "      <td>77</td>\n",
       "      <td>4200</td>\n",
       "      <td>NaN</td>\n",
       "    </tr>\n",
       "    <tr>\n",
       "      <th>1</th>\n",
       "      <td>2</td>\n",
       "      <td>Male</td>\n",
       "      <td>28</td>\n",
       "      <td>Doctor</td>\n",
       "      <td>6.2</td>\n",
       "      <td>6</td>\n",
       "      <td>60</td>\n",
       "      <td>8</td>\n",
       "      <td>Normal</td>\n",
       "      <td>125/80</td>\n",
       "      <td>75</td>\n",
       "      <td>10000</td>\n",
       "      <td>NaN</td>\n",
       "    </tr>\n",
       "    <tr>\n",
       "      <th>2</th>\n",
       "      <td>3</td>\n",
       "      <td>Male</td>\n",
       "      <td>28</td>\n",
       "      <td>Doctor</td>\n",
       "      <td>6.2</td>\n",
       "      <td>6</td>\n",
       "      <td>60</td>\n",
       "      <td>8</td>\n",
       "      <td>Normal</td>\n",
       "      <td>125/80</td>\n",
       "      <td>75</td>\n",
       "      <td>10000</td>\n",
       "      <td>NaN</td>\n",
       "    </tr>\n",
       "    <tr>\n",
       "      <th>3</th>\n",
       "      <td>4</td>\n",
       "      <td>Male</td>\n",
       "      <td>28</td>\n",
       "      <td>Sales Representative</td>\n",
       "      <td>5.9</td>\n",
       "      <td>4</td>\n",
       "      <td>30</td>\n",
       "      <td>8</td>\n",
       "      <td>Obese</td>\n",
       "      <td>140/90</td>\n",
       "      <td>85</td>\n",
       "      <td>3000</td>\n",
       "      <td>Sleep Apnea</td>\n",
       "    </tr>\n",
       "    <tr>\n",
       "      <th>4</th>\n",
       "      <td>5</td>\n",
       "      <td>Male</td>\n",
       "      <td>28</td>\n",
       "      <td>Sales Representative</td>\n",
       "      <td>5.9</td>\n",
       "      <td>4</td>\n",
       "      <td>30</td>\n",
       "      <td>8</td>\n",
       "      <td>Obese</td>\n",
       "      <td>140/90</td>\n",
       "      <td>85</td>\n",
       "      <td>3000</td>\n",
       "      <td>Sleep Apnea</td>\n",
       "    </tr>\n",
       "  </tbody>\n",
       "</table>\n",
       "</div>"
      ],
      "text/plain": [
       "   Person ID Gender  Age            Occupation  Sleep Duration  \\\n",
       "0          1   Male   27     Software Engineer             6.1   \n",
       "1          2   Male   28                Doctor             6.2   \n",
       "2          3   Male   28                Doctor             6.2   \n",
       "3          4   Male   28  Sales Representative             5.9   \n",
       "4          5   Male   28  Sales Representative             5.9   \n",
       "\n",
       "   Quality of Sleep  Physical Activity Level  Stress Level BMI Category  \\\n",
       "0                 6                       42             6   Overweight   \n",
       "1                 6                       60             8       Normal   \n",
       "2                 6                       60             8       Normal   \n",
       "3                 4                       30             8        Obese   \n",
       "4                 4                       30             8        Obese   \n",
       "\n",
       "  Blood Pressure  Heart Rate  Daily Steps Sleep Disorder  \n",
       "0         126/83          77         4200            NaN  \n",
       "1         125/80          75        10000            NaN  \n",
       "2         125/80          75        10000            NaN  \n",
       "3         140/90          85         3000    Sleep Apnea  \n",
       "4         140/90          85         3000    Sleep Apnea  "
      ]
     },
     "execution_count": 20,
     "metadata": {},
     "output_type": "execute_result"
    }
   ],
   "source": [
    "sleep.head()"
   ]
  },
  {
   "cell_type": "code",
   "execution_count": 43,
   "metadata": {},
   "outputs": [],
   "source": [
    "fig2 = px.bar(sleep,x='Age',y='Sleep Duration', color='Gender')"
   ]
  },
  {
   "cell_type": "code",
   "execution_count": 44,
   "metadata": {},
   "outputs": [
    {
     "data": {
      "application/vnd.plotly.v1+json": {
       "config": {
        "plotlyServerURL": "https://plot.ly"
       },
       "data": [
        {
         "alignmentgroup": "True",
         "hovertemplate": "Gender=Male<br>Age=%{x}<br>Sleep Duration=%{y}<extra></extra>",
         "legendgroup": "Male",
         "marker": {
          "color": "#636efa",
          "pattern": {
           "shape": ""
          }
         },
         "name": "Male",
         "offsetgroup": "Male",
         "orientation": "v",
         "showlegend": true,
         "textposition": "auto",
         "type": "bar",
         "x": [
          27,
          28,
          28,
          28,
          28,
          28,
          29,
          29,
          29,
          29,
          29,
          29,
          29,
          29,
          29,
          29,
          29,
          30,
          30,
          30,
          30,
          30,
          30,
          30,
          30,
          30,
          30,
          30,
          31,
          31,
          31,
          31,
          31,
          31,
          31,
          31,
          31,
          31,
          31,
          31,
          31,
          31,
          31,
          31,
          31,
          32,
          32,
          32,
          32,
          32,
          32,
          32,
          32,
          32,
          32,
          32,
          32,
          32,
          32,
          32,
          32,
          32,
          33,
          33,
          33,
          33,
          33,
          33,
          33,
          33,
          33,
          33,
          33,
          35,
          35,
          35,
          35,
          35,
          35,
          35,
          35,
          35,
          35,
          35,
          36,
          36,
          37,
          37,
          37,
          37,
          37,
          38,
          38,
          38,
          38,
          38,
          38,
          38,
          38,
          38,
          38,
          38,
          39,
          39,
          39,
          39,
          39,
          39,
          39,
          39,
          39,
          39,
          39,
          39,
          40,
          40,
          41,
          41,
          41,
          41,
          41,
          41,
          41,
          41,
          41,
          41,
          41,
          41,
          42,
          42,
          42,
          42,
          42,
          42,
          42,
          43,
          43,
          43,
          43,
          43,
          43,
          43,
          43,
          43,
          43,
          43,
          43,
          43,
          43,
          43,
          43,
          43,
          43,
          43,
          43,
          43,
          43,
          43,
          43,
          43,
          43,
          43,
          43,
          43,
          43,
          43,
          44,
          44,
          44,
          44,
          44,
          44,
          44,
          44,
          44,
          44,
          44,
          44,
          44,
          44,
          44,
          44,
          44,
          44,
          44,
          48,
          48,
          49,
          49
         ],
         "xaxis": "x",
         "y": [
          6.1,
          6.2,
          6.2,
          5.9,
          5.9,
          5.9,
          6.3,
          7.8,
          7.8,
          7.8,
          6.1,
          7.8,
          6.1,
          6,
          6,
          6,
          6,
          7.6,
          7.7,
          7.7,
          7.7,
          7.7,
          7.8,
          7.9,
          7.8,
          7.9,
          7.9,
          7.9,
          6.1,
          7.7,
          6.1,
          6.1,
          7.6,
          7.6,
          7.6,
          7.7,
          7.7,
          7.7,
          7.8,
          7.7,
          7.8,
          7.7,
          7.8,
          7.7,
          7.7,
          7.5,
          7.5,
          6,
          7.6,
          6,
          6,
          7.7,
          6,
          6,
          7.7,
          6,
          6,
          6.2,
          6.2,
          6.2,
          6.2,
          7.2,
          6,
          6.1,
          6.1,
          6.1,
          6.1,
          6,
          6,
          6,
          6,
          6,
          6,
          6.7,
          6.7,
          7.5,
          7.2,
          7.2,
          7.3,
          7.3,
          7.3,
          7.3,
          7.5,
          7.4,
          6.6,
          6.6,
          7.8,
          7.8,
          7.4,
          7.4,
          7.4,
          7.3,
          7.3,
          7.3,
          7.3,
          7.3,
          7.3,
          7.3,
          7.1,
          7.1,
          7.1,
          7.1,
          7.2,
          6.5,
          7.2,
          7.2,
          7.2,
          7.2,
          7.2,
          7.2,
          7.2,
          7.2,
          7.2,
          7.2,
          7.9,
          7.9,
          7.6,
          7.3,
          7.1,
          7.1,
          7.7,
          7.7,
          7.7,
          7.7,
          7.7,
          7.6,
          7.6,
          7.6,
          6.5,
          7.8,
          7.8,
          7.8,
          7.8,
          7.8,
          7.8,
          6.3,
          6.5,
          6.4,
          6.5,
          6.5,
          6.5,
          6.5,
          6.5,
          6.5,
          6.5,
          6.5,
          6.5,
          7.8,
          7.8,
          6.9,
          7.6,
          7.7,
          7.7,
          7.7,
          7.7,
          7.8,
          7.7,
          7.8,
          7.8,
          7.8,
          7.8,
          7.8,
          7.8,
          7.8,
          7.8,
          6.5,
          6.4,
          6.3,
          6.4,
          6.3,
          6.3,
          6.3,
          6.3,
          6.3,
          6.3,
          6.4,
          6.3,
          6.4,
          6.3,
          6.4,
          6.3,
          6.3,
          6.8,
          6.4,
          6.5,
          7.3,
          7.3,
          8.1,
          8.1
         ],
         "yaxis": "y"
        },
        {
         "alignmentgroup": "True",
         "hovertemplate": "Gender=Female<br>Age=%{x}<br>Sleep Duration=%{y}<extra></extra>",
         "legendgroup": "Female",
         "marker": {
          "color": "#EF553B",
          "pattern": {
           "shape": ""
          }
         },
         "name": "Female",
         "offsetgroup": "Female",
         "orientation": "v",
         "showlegend": true,
         "textposition": "auto",
         "type": "bar",
         "x": [
          29,
          29,
          30,
          30,
          31,
          33,
          33,
          34,
          34,
          35,
          36,
          36,
          36,
          36,
          36,
          36,
          36,
          36,
          36,
          36,
          37,
          37,
          37,
          37,
          37,
          37,
          37,
          37,
          37,
          37,
          37,
          37,
          37,
          37,
          37,
          38,
          38,
          38,
          38,
          38,
          38,
          38,
          38,
          38,
          39,
          39,
          39,
          40,
          40,
          42,
          42,
          43,
          43,
          43,
          44,
          44,
          44,
          44,
          44,
          44,
          44,
          44,
          44,
          44,
          44,
          45,
          45,
          45,
          45,
          45,
          45,
          45,
          45,
          45,
          45,
          45,
          45,
          45,
          45,
          48,
          49,
          49,
          49,
          49,
          49,
          49,
          49,
          49,
          49,
          50,
          50,
          50,
          50,
          50,
          50,
          50,
          50,
          50,
          50,
          50,
          50,
          50,
          50,
          50,
          50,
          50,
          50,
          50,
          50,
          51,
          51,
          51,
          51,
          51,
          51,
          51,
          51,
          52,
          52,
          52,
          52,
          52,
          52,
          52,
          52,
          52,
          53,
          53,
          53,
          53,
          53,
          53,
          53,
          53,
          53,
          53,
          53,
          53,
          53,
          53,
          53,
          53,
          53,
          54,
          54,
          54,
          54,
          54,
          54,
          54,
          55,
          55,
          56,
          56,
          57,
          57,
          57,
          57,
          57,
          57,
          57,
          57,
          57,
          58,
          58,
          58,
          58,
          58,
          58,
          59,
          59,
          59,
          59,
          59,
          59,
          59,
          59,
          59,
          59,
          59,
          59,
          59,
          59,
          59,
          59
         ],
         "xaxis": "x",
         "y": [
          6.5,
          6.5,
          6.4,
          6.4,
          7.9,
          6.2,
          6.2,
          5.8,
          5.8,
          7.2,
          7.2,
          7.1,
          7.2,
          7.1,
          7.1,
          7.1,
          7.2,
          7.2,
          7.2,
          7.2,
          6.1,
          7.2,
          7.2,
          7.2,
          7.2,
          7.2,
          7.2,
          7.2,
          7.2,
          7.2,
          7.2,
          7.2,
          7.2,
          7.2,
          7.5,
          7.1,
          7.1,
          7.1,
          7.1,
          7.1,
          7.1,
          7.1,
          7.1,
          7.4,
          6.9,
          8,
          8,
          7.2,
          7.2,
          6.8,
          6.8,
          6.7,
          6.7,
          6.7,
          6.6,
          6.6,
          6.6,
          6.6,
          6.6,
          6.6,
          6.6,
          6.5,
          6.5,
          6.5,
          6.5,
          6.8,
          6.8,
          6.5,
          6.5,
          6.5,
          6.5,
          6.6,
          6.6,
          6.6,
          6.6,
          6.6,
          6.6,
          6.6,
          6.9,
          5.9,
          6.2,
          6,
          6.1,
          6.1,
          6.1,
          6.1,
          6.2,
          6.2,
          6.2,
          6.1,
          8.3,
          6,
          6.1,
          6,
          6,
          6,
          6,
          6,
          6,
          6,
          6.1,
          6,
          6.1,
          6.1,
          6,
          6.1,
          6,
          6.1,
          6.1,
          8.5,
          8.5,
          8.5,
          8.5,
          7.1,
          6,
          6.1,
          6.1,
          6.5,
          6.5,
          6.6,
          6.6,
          6.6,
          6.6,
          8.4,
          8.4,
          8.4,
          8.3,
          8.5,
          8.5,
          8.4,
          8.4,
          8.5,
          8.4,
          8.4,
          8.5,
          8.3,
          8.5,
          8.3,
          8.5,
          8.3,
          8.5,
          8.5,
          8.4,
          8.4,
          8.4,
          8.4,
          8.4,
          8.4,
          8.4,
          8.5,
          8.1,
          8.1,
          8.2,
          8.2,
          8.1,
          8.2,
          8.2,
          8.2,
          8.2,
          8.2,
          8.1,
          8.1,
          8.1,
          8,
          8,
          8,
          8,
          8,
          8,
          8,
          8.1,
          8.2,
          8.2,
          8.2,
          8.2,
          8,
          8,
          8.1,
          8,
          8.1,
          8.1,
          8,
          8.1,
          8.1,
          8.1
         ],
         "yaxis": "y"
        }
       ],
       "layout": {
        "barmode": "relative",
        "legend": {
         "title": {
          "text": "Gender"
         },
         "tracegroupgap": 0
        },
        "margin": {
         "t": 60
        },
        "template": {
         "data": {
          "bar": [
           {
            "error_x": {
             "color": "#2a3f5f"
            },
            "error_y": {
             "color": "#2a3f5f"
            },
            "marker": {
             "line": {
              "color": "#E5ECF6",
              "width": 0.5
             },
             "pattern": {
              "fillmode": "overlay",
              "size": 10,
              "solidity": 0.2
             }
            },
            "type": "bar"
           }
          ],
          "barpolar": [
           {
            "marker": {
             "line": {
              "color": "#E5ECF6",
              "width": 0.5
             },
             "pattern": {
              "fillmode": "overlay",
              "size": 10,
              "solidity": 0.2
             }
            },
            "type": "barpolar"
           }
          ],
          "carpet": [
           {
            "aaxis": {
             "endlinecolor": "#2a3f5f",
             "gridcolor": "white",
             "linecolor": "white",
             "minorgridcolor": "white",
             "startlinecolor": "#2a3f5f"
            },
            "baxis": {
             "endlinecolor": "#2a3f5f",
             "gridcolor": "white",
             "linecolor": "white",
             "minorgridcolor": "white",
             "startlinecolor": "#2a3f5f"
            },
            "type": "carpet"
           }
          ],
          "choropleth": [
           {
            "colorbar": {
             "outlinewidth": 0,
             "ticks": ""
            },
            "type": "choropleth"
           }
          ],
          "contour": [
           {
            "colorbar": {
             "outlinewidth": 0,
             "ticks": ""
            },
            "colorscale": [
             [
              0,
              "#0d0887"
             ],
             [
              0.1111111111111111,
              "#46039f"
             ],
             [
              0.2222222222222222,
              "#7201a8"
             ],
             [
              0.3333333333333333,
              "#9c179e"
             ],
             [
              0.4444444444444444,
              "#bd3786"
             ],
             [
              0.5555555555555556,
              "#d8576b"
             ],
             [
              0.6666666666666666,
              "#ed7953"
             ],
             [
              0.7777777777777778,
              "#fb9f3a"
             ],
             [
              0.8888888888888888,
              "#fdca26"
             ],
             [
              1,
              "#f0f921"
             ]
            ],
            "type": "contour"
           }
          ],
          "contourcarpet": [
           {
            "colorbar": {
             "outlinewidth": 0,
             "ticks": ""
            },
            "type": "contourcarpet"
           }
          ],
          "heatmap": [
           {
            "colorbar": {
             "outlinewidth": 0,
             "ticks": ""
            },
            "colorscale": [
             [
              0,
              "#0d0887"
             ],
             [
              0.1111111111111111,
              "#46039f"
             ],
             [
              0.2222222222222222,
              "#7201a8"
             ],
             [
              0.3333333333333333,
              "#9c179e"
             ],
             [
              0.4444444444444444,
              "#bd3786"
             ],
             [
              0.5555555555555556,
              "#d8576b"
             ],
             [
              0.6666666666666666,
              "#ed7953"
             ],
             [
              0.7777777777777778,
              "#fb9f3a"
             ],
             [
              0.8888888888888888,
              "#fdca26"
             ],
             [
              1,
              "#f0f921"
             ]
            ],
            "type": "heatmap"
           }
          ],
          "heatmapgl": [
           {
            "colorbar": {
             "outlinewidth": 0,
             "ticks": ""
            },
            "colorscale": [
             [
              0,
              "#0d0887"
             ],
             [
              0.1111111111111111,
              "#46039f"
             ],
             [
              0.2222222222222222,
              "#7201a8"
             ],
             [
              0.3333333333333333,
              "#9c179e"
             ],
             [
              0.4444444444444444,
              "#bd3786"
             ],
             [
              0.5555555555555556,
              "#d8576b"
             ],
             [
              0.6666666666666666,
              "#ed7953"
             ],
             [
              0.7777777777777778,
              "#fb9f3a"
             ],
             [
              0.8888888888888888,
              "#fdca26"
             ],
             [
              1,
              "#f0f921"
             ]
            ],
            "type": "heatmapgl"
           }
          ],
          "histogram": [
           {
            "marker": {
             "pattern": {
              "fillmode": "overlay",
              "size": 10,
              "solidity": 0.2
             }
            },
            "type": "histogram"
           }
          ],
          "histogram2d": [
           {
            "colorbar": {
             "outlinewidth": 0,
             "ticks": ""
            },
            "colorscale": [
             [
              0,
              "#0d0887"
             ],
             [
              0.1111111111111111,
              "#46039f"
             ],
             [
              0.2222222222222222,
              "#7201a8"
             ],
             [
              0.3333333333333333,
              "#9c179e"
             ],
             [
              0.4444444444444444,
              "#bd3786"
             ],
             [
              0.5555555555555556,
              "#d8576b"
             ],
             [
              0.6666666666666666,
              "#ed7953"
             ],
             [
              0.7777777777777778,
              "#fb9f3a"
             ],
             [
              0.8888888888888888,
              "#fdca26"
             ],
             [
              1,
              "#f0f921"
             ]
            ],
            "type": "histogram2d"
           }
          ],
          "histogram2dcontour": [
           {
            "colorbar": {
             "outlinewidth": 0,
             "ticks": ""
            },
            "colorscale": [
             [
              0,
              "#0d0887"
             ],
             [
              0.1111111111111111,
              "#46039f"
             ],
             [
              0.2222222222222222,
              "#7201a8"
             ],
             [
              0.3333333333333333,
              "#9c179e"
             ],
             [
              0.4444444444444444,
              "#bd3786"
             ],
             [
              0.5555555555555556,
              "#d8576b"
             ],
             [
              0.6666666666666666,
              "#ed7953"
             ],
             [
              0.7777777777777778,
              "#fb9f3a"
             ],
             [
              0.8888888888888888,
              "#fdca26"
             ],
             [
              1,
              "#f0f921"
             ]
            ],
            "type": "histogram2dcontour"
           }
          ],
          "mesh3d": [
           {
            "colorbar": {
             "outlinewidth": 0,
             "ticks": ""
            },
            "type": "mesh3d"
           }
          ],
          "parcoords": [
           {
            "line": {
             "colorbar": {
              "outlinewidth": 0,
              "ticks": ""
             }
            },
            "type": "parcoords"
           }
          ],
          "pie": [
           {
            "automargin": true,
            "type": "pie"
           }
          ],
          "scatter": [
           {
            "fillpattern": {
             "fillmode": "overlay",
             "size": 10,
             "solidity": 0.2
            },
            "type": "scatter"
           }
          ],
          "scatter3d": [
           {
            "line": {
             "colorbar": {
              "outlinewidth": 0,
              "ticks": ""
             }
            },
            "marker": {
             "colorbar": {
              "outlinewidth": 0,
              "ticks": ""
             }
            },
            "type": "scatter3d"
           }
          ],
          "scattercarpet": [
           {
            "marker": {
             "colorbar": {
              "outlinewidth": 0,
              "ticks": ""
             }
            },
            "type": "scattercarpet"
           }
          ],
          "scattergeo": [
           {
            "marker": {
             "colorbar": {
              "outlinewidth": 0,
              "ticks": ""
             }
            },
            "type": "scattergeo"
           }
          ],
          "scattergl": [
           {
            "marker": {
             "colorbar": {
              "outlinewidth": 0,
              "ticks": ""
             }
            },
            "type": "scattergl"
           }
          ],
          "scattermapbox": [
           {
            "marker": {
             "colorbar": {
              "outlinewidth": 0,
              "ticks": ""
             }
            },
            "type": "scattermapbox"
           }
          ],
          "scatterpolar": [
           {
            "marker": {
             "colorbar": {
              "outlinewidth": 0,
              "ticks": ""
             }
            },
            "type": "scatterpolar"
           }
          ],
          "scatterpolargl": [
           {
            "marker": {
             "colorbar": {
              "outlinewidth": 0,
              "ticks": ""
             }
            },
            "type": "scatterpolargl"
           }
          ],
          "scatterternary": [
           {
            "marker": {
             "colorbar": {
              "outlinewidth": 0,
              "ticks": ""
             }
            },
            "type": "scatterternary"
           }
          ],
          "surface": [
           {
            "colorbar": {
             "outlinewidth": 0,
             "ticks": ""
            },
            "colorscale": [
             [
              0,
              "#0d0887"
             ],
             [
              0.1111111111111111,
              "#46039f"
             ],
             [
              0.2222222222222222,
              "#7201a8"
             ],
             [
              0.3333333333333333,
              "#9c179e"
             ],
             [
              0.4444444444444444,
              "#bd3786"
             ],
             [
              0.5555555555555556,
              "#d8576b"
             ],
             [
              0.6666666666666666,
              "#ed7953"
             ],
             [
              0.7777777777777778,
              "#fb9f3a"
             ],
             [
              0.8888888888888888,
              "#fdca26"
             ],
             [
              1,
              "#f0f921"
             ]
            ],
            "type": "surface"
           }
          ],
          "table": [
           {
            "cells": {
             "fill": {
              "color": "#EBF0F8"
             },
             "line": {
              "color": "white"
             }
            },
            "header": {
             "fill": {
              "color": "#C8D4E3"
             },
             "line": {
              "color": "white"
             }
            },
            "type": "table"
           }
          ]
         },
         "layout": {
          "annotationdefaults": {
           "arrowcolor": "#2a3f5f",
           "arrowhead": 0,
           "arrowwidth": 1
          },
          "autotypenumbers": "strict",
          "coloraxis": {
           "colorbar": {
            "outlinewidth": 0,
            "ticks": ""
           }
          },
          "colorscale": {
           "diverging": [
            [
             0,
             "#8e0152"
            ],
            [
             0.1,
             "#c51b7d"
            ],
            [
             0.2,
             "#de77ae"
            ],
            [
             0.3,
             "#f1b6da"
            ],
            [
             0.4,
             "#fde0ef"
            ],
            [
             0.5,
             "#f7f7f7"
            ],
            [
             0.6,
             "#e6f5d0"
            ],
            [
             0.7,
             "#b8e186"
            ],
            [
             0.8,
             "#7fbc41"
            ],
            [
             0.9,
             "#4d9221"
            ],
            [
             1,
             "#276419"
            ]
           ],
           "sequential": [
            [
             0,
             "#0d0887"
            ],
            [
             0.1111111111111111,
             "#46039f"
            ],
            [
             0.2222222222222222,
             "#7201a8"
            ],
            [
             0.3333333333333333,
             "#9c179e"
            ],
            [
             0.4444444444444444,
             "#bd3786"
            ],
            [
             0.5555555555555556,
             "#d8576b"
            ],
            [
             0.6666666666666666,
             "#ed7953"
            ],
            [
             0.7777777777777778,
             "#fb9f3a"
            ],
            [
             0.8888888888888888,
             "#fdca26"
            ],
            [
             1,
             "#f0f921"
            ]
           ],
           "sequentialminus": [
            [
             0,
             "#0d0887"
            ],
            [
             0.1111111111111111,
             "#46039f"
            ],
            [
             0.2222222222222222,
             "#7201a8"
            ],
            [
             0.3333333333333333,
             "#9c179e"
            ],
            [
             0.4444444444444444,
             "#bd3786"
            ],
            [
             0.5555555555555556,
             "#d8576b"
            ],
            [
             0.6666666666666666,
             "#ed7953"
            ],
            [
             0.7777777777777778,
             "#fb9f3a"
            ],
            [
             0.8888888888888888,
             "#fdca26"
            ],
            [
             1,
             "#f0f921"
            ]
           ]
          },
          "colorway": [
           "#636efa",
           "#EF553B",
           "#00cc96",
           "#ab63fa",
           "#FFA15A",
           "#19d3f3",
           "#FF6692",
           "#B6E880",
           "#FF97FF",
           "#FECB52"
          ],
          "font": {
           "color": "#2a3f5f"
          },
          "geo": {
           "bgcolor": "white",
           "lakecolor": "white",
           "landcolor": "#E5ECF6",
           "showlakes": true,
           "showland": true,
           "subunitcolor": "white"
          },
          "hoverlabel": {
           "align": "left"
          },
          "hovermode": "closest",
          "mapbox": {
           "style": "light"
          },
          "paper_bgcolor": "white",
          "plot_bgcolor": "#E5ECF6",
          "polar": {
           "angularaxis": {
            "gridcolor": "white",
            "linecolor": "white",
            "ticks": ""
           },
           "bgcolor": "#E5ECF6",
           "radialaxis": {
            "gridcolor": "white",
            "linecolor": "white",
            "ticks": ""
           }
          },
          "scene": {
           "xaxis": {
            "backgroundcolor": "#E5ECF6",
            "gridcolor": "white",
            "gridwidth": 2,
            "linecolor": "white",
            "showbackground": true,
            "ticks": "",
            "zerolinecolor": "white"
           },
           "yaxis": {
            "backgroundcolor": "#E5ECF6",
            "gridcolor": "white",
            "gridwidth": 2,
            "linecolor": "white",
            "showbackground": true,
            "ticks": "",
            "zerolinecolor": "white"
           },
           "zaxis": {
            "backgroundcolor": "#E5ECF6",
            "gridcolor": "white",
            "gridwidth": 2,
            "linecolor": "white",
            "showbackground": true,
            "ticks": "",
            "zerolinecolor": "white"
           }
          },
          "shapedefaults": {
           "line": {
            "color": "#2a3f5f"
           }
          },
          "ternary": {
           "aaxis": {
            "gridcolor": "white",
            "linecolor": "white",
            "ticks": ""
           },
           "baxis": {
            "gridcolor": "white",
            "linecolor": "white",
            "ticks": ""
           },
           "bgcolor": "#E5ECF6",
           "caxis": {
            "gridcolor": "white",
            "linecolor": "white",
            "ticks": ""
           }
          },
          "title": {
           "x": 0.05
          },
          "xaxis": {
           "automargin": true,
           "gridcolor": "white",
           "linecolor": "white",
           "ticks": "",
           "title": {
            "standoff": 15
           },
           "zerolinecolor": "white",
           "zerolinewidth": 2
          },
          "yaxis": {
           "automargin": true,
           "gridcolor": "white",
           "linecolor": "white",
           "ticks": "",
           "title": {
            "standoff": 15
           },
           "zerolinecolor": "white",
           "zerolinewidth": 2
          }
         }
        },
        "xaxis": {
         "anchor": "y",
         "domain": [
          0,
          1
         ],
         "title": {
          "text": "Age"
         }
        },
        "yaxis": {
         "anchor": "x",
         "domain": [
          0,
          1
         ],
         "title": {
          "text": "Sleep Duration"
         }
        }
       }
      }
     },
     "metadata": {},
     "output_type": "display_data"
    }
   ],
   "source": [
    "fig2"
   ]
  },
  {
   "cell_type": "code",
   "execution_count": 45,
   "metadata": {},
   "outputs": [
    {
     "ename": "TypeError",
     "evalue": "choropleth_mapbox() got an unexpected keyword argument 'x'",
     "output_type": "error",
     "traceback": [
      "\u001b[1;31m---------------------------------------------------------------------------\u001b[0m",
      "\u001b[1;31mTypeError\u001b[0m                                 Traceback (most recent call last)",
      "Cell \u001b[1;32mIn[45], line 1\u001b[0m\n\u001b[1;32m----> 1\u001b[0m fig3 \u001b[38;5;241m=\u001b[39m \u001b[43mpx\u001b[49m\u001b[38;5;241;43m.\u001b[39;49m\u001b[43mchoropleth_mapbox\u001b[49m\u001b[43m(\u001b[49m\u001b[43msleep\u001b[49m\u001b[43m,\u001b[49m\u001b[43mx\u001b[49m\u001b[38;5;241;43m=\u001b[39;49m\u001b[38;5;124;43m'\u001b[39;49m\u001b[38;5;124;43mAge\u001b[39;49m\u001b[38;5;124;43m'\u001b[39;49m\u001b[43m,\u001b[49m\u001b[43my\u001b[49m\u001b[38;5;241;43m=\u001b[39;49m\u001b[38;5;124;43m'\u001b[39;49m\u001b[38;5;124;43mSleep Duration\u001b[39;49m\u001b[38;5;124;43m'\u001b[39;49m\u001b[43m,\u001b[49m\u001b[43m \u001b[49m\u001b[43mcolor\u001b[49m\u001b[38;5;241;43m=\u001b[39;49m\u001b[38;5;124;43m'\u001b[39;49m\u001b[38;5;124;43mGender\u001b[39;49m\u001b[38;5;124;43m'\u001b[39;49m\u001b[43m)\u001b[49m\n",
      "\u001b[1;31mTypeError\u001b[0m: choropleth_mapbox() got an unexpected keyword argument 'x'"
     ]
    }
   ],
   "source": [
    "fig3 = px.choropleth_mapbox(sleep,x='Age',y='Sleep Duration', color='Gender')"
   ]
  },
  {
   "cell_type": "code",
   "execution_count": 46,
   "metadata": {},
   "outputs": [],
   "source": [
    "fig4 = px.funnel(sleep,x='Age',y='Sleep Duration', color='Gender')"
   ]
  },
  {
   "cell_type": "code",
   "execution_count": 47,
   "metadata": {},
   "outputs": [
    {
     "data": {
      "application/vnd.plotly.v1+json": {
       "config": {
        "plotlyServerURL": "https://plot.ly"
       },
       "data": [
        {
         "hovertemplate": "Gender=Male<br>Age=%{x}<br>Sleep Duration=%{y}<extra></extra>",
         "legendgroup": "Male",
         "marker": {
          "color": "#636efa"
         },
         "name": "Male",
         "orientation": "v",
         "showlegend": true,
         "type": "funnel",
         "x": [
          27,
          28,
          28,
          28,
          28,
          28,
          29,
          29,
          29,
          29,
          29,
          29,
          29,
          29,
          29,
          29,
          29,
          30,
          30,
          30,
          30,
          30,
          30,
          30,
          30,
          30,
          30,
          30,
          31,
          31,
          31,
          31,
          31,
          31,
          31,
          31,
          31,
          31,
          31,
          31,
          31,
          31,
          31,
          31,
          31,
          32,
          32,
          32,
          32,
          32,
          32,
          32,
          32,
          32,
          32,
          32,
          32,
          32,
          32,
          32,
          32,
          32,
          33,
          33,
          33,
          33,
          33,
          33,
          33,
          33,
          33,
          33,
          33,
          35,
          35,
          35,
          35,
          35,
          35,
          35,
          35,
          35,
          35,
          35,
          36,
          36,
          37,
          37,
          37,
          37,
          37,
          38,
          38,
          38,
          38,
          38,
          38,
          38,
          38,
          38,
          38,
          38,
          39,
          39,
          39,
          39,
          39,
          39,
          39,
          39,
          39,
          39,
          39,
          39,
          40,
          40,
          41,
          41,
          41,
          41,
          41,
          41,
          41,
          41,
          41,
          41,
          41,
          41,
          42,
          42,
          42,
          42,
          42,
          42,
          42,
          43,
          43,
          43,
          43,
          43,
          43,
          43,
          43,
          43,
          43,
          43,
          43,
          43,
          43,
          43,
          43,
          43,
          43,
          43,
          43,
          43,
          43,
          43,
          43,
          43,
          43,
          43,
          43,
          43,
          43,
          43,
          44,
          44,
          44,
          44,
          44,
          44,
          44,
          44,
          44,
          44,
          44,
          44,
          44,
          44,
          44,
          44,
          44,
          44,
          44,
          48,
          48,
          49,
          49
         ],
         "xaxis": "x",
         "y": [
          6.1,
          6.2,
          6.2,
          5.9,
          5.9,
          5.9,
          6.3,
          7.8,
          7.8,
          7.8,
          6.1,
          7.8,
          6.1,
          6,
          6,
          6,
          6,
          7.6,
          7.7,
          7.7,
          7.7,
          7.7,
          7.8,
          7.9,
          7.8,
          7.9,
          7.9,
          7.9,
          6.1,
          7.7,
          6.1,
          6.1,
          7.6,
          7.6,
          7.6,
          7.7,
          7.7,
          7.7,
          7.8,
          7.7,
          7.8,
          7.7,
          7.8,
          7.7,
          7.7,
          7.5,
          7.5,
          6,
          7.6,
          6,
          6,
          7.7,
          6,
          6,
          7.7,
          6,
          6,
          6.2,
          6.2,
          6.2,
          6.2,
          7.2,
          6,
          6.1,
          6.1,
          6.1,
          6.1,
          6,
          6,
          6,
          6,
          6,
          6,
          6.7,
          6.7,
          7.5,
          7.2,
          7.2,
          7.3,
          7.3,
          7.3,
          7.3,
          7.5,
          7.4,
          6.6,
          6.6,
          7.8,
          7.8,
          7.4,
          7.4,
          7.4,
          7.3,
          7.3,
          7.3,
          7.3,
          7.3,
          7.3,
          7.3,
          7.1,
          7.1,
          7.1,
          7.1,
          7.2,
          6.5,
          7.2,
          7.2,
          7.2,
          7.2,
          7.2,
          7.2,
          7.2,
          7.2,
          7.2,
          7.2,
          7.9,
          7.9,
          7.6,
          7.3,
          7.1,
          7.1,
          7.7,
          7.7,
          7.7,
          7.7,
          7.7,
          7.6,
          7.6,
          7.6,
          6.5,
          7.8,
          7.8,
          7.8,
          7.8,
          7.8,
          7.8,
          6.3,
          6.5,
          6.4,
          6.5,
          6.5,
          6.5,
          6.5,
          6.5,
          6.5,
          6.5,
          6.5,
          6.5,
          7.8,
          7.8,
          6.9,
          7.6,
          7.7,
          7.7,
          7.7,
          7.7,
          7.8,
          7.7,
          7.8,
          7.8,
          7.8,
          7.8,
          7.8,
          7.8,
          7.8,
          7.8,
          6.5,
          6.4,
          6.3,
          6.4,
          6.3,
          6.3,
          6.3,
          6.3,
          6.3,
          6.3,
          6.4,
          6.3,
          6.4,
          6.3,
          6.4,
          6.3,
          6.3,
          6.8,
          6.4,
          6.5,
          7.3,
          7.3,
          8.1,
          8.1
         ],
         "yaxis": "y"
        },
        {
         "hovertemplate": "Gender=Female<br>Age=%{x}<br>Sleep Duration=%{y}<extra></extra>",
         "legendgroup": "Female",
         "marker": {
          "color": "#EF553B"
         },
         "name": "Female",
         "orientation": "v",
         "showlegend": true,
         "type": "funnel",
         "x": [
          29,
          29,
          30,
          30,
          31,
          33,
          33,
          34,
          34,
          35,
          36,
          36,
          36,
          36,
          36,
          36,
          36,
          36,
          36,
          36,
          37,
          37,
          37,
          37,
          37,
          37,
          37,
          37,
          37,
          37,
          37,
          37,
          37,
          37,
          37,
          38,
          38,
          38,
          38,
          38,
          38,
          38,
          38,
          38,
          39,
          39,
          39,
          40,
          40,
          42,
          42,
          43,
          43,
          43,
          44,
          44,
          44,
          44,
          44,
          44,
          44,
          44,
          44,
          44,
          44,
          45,
          45,
          45,
          45,
          45,
          45,
          45,
          45,
          45,
          45,
          45,
          45,
          45,
          45,
          48,
          49,
          49,
          49,
          49,
          49,
          49,
          49,
          49,
          49,
          50,
          50,
          50,
          50,
          50,
          50,
          50,
          50,
          50,
          50,
          50,
          50,
          50,
          50,
          50,
          50,
          50,
          50,
          50,
          50,
          51,
          51,
          51,
          51,
          51,
          51,
          51,
          51,
          52,
          52,
          52,
          52,
          52,
          52,
          52,
          52,
          52,
          53,
          53,
          53,
          53,
          53,
          53,
          53,
          53,
          53,
          53,
          53,
          53,
          53,
          53,
          53,
          53,
          53,
          54,
          54,
          54,
          54,
          54,
          54,
          54,
          55,
          55,
          56,
          56,
          57,
          57,
          57,
          57,
          57,
          57,
          57,
          57,
          57,
          58,
          58,
          58,
          58,
          58,
          58,
          59,
          59,
          59,
          59,
          59,
          59,
          59,
          59,
          59,
          59,
          59,
          59,
          59,
          59,
          59,
          59
         ],
         "xaxis": "x",
         "y": [
          6.5,
          6.5,
          6.4,
          6.4,
          7.9,
          6.2,
          6.2,
          5.8,
          5.8,
          7.2,
          7.2,
          7.1,
          7.2,
          7.1,
          7.1,
          7.1,
          7.2,
          7.2,
          7.2,
          7.2,
          6.1,
          7.2,
          7.2,
          7.2,
          7.2,
          7.2,
          7.2,
          7.2,
          7.2,
          7.2,
          7.2,
          7.2,
          7.2,
          7.2,
          7.5,
          7.1,
          7.1,
          7.1,
          7.1,
          7.1,
          7.1,
          7.1,
          7.1,
          7.4,
          6.9,
          8,
          8,
          7.2,
          7.2,
          6.8,
          6.8,
          6.7,
          6.7,
          6.7,
          6.6,
          6.6,
          6.6,
          6.6,
          6.6,
          6.6,
          6.6,
          6.5,
          6.5,
          6.5,
          6.5,
          6.8,
          6.8,
          6.5,
          6.5,
          6.5,
          6.5,
          6.6,
          6.6,
          6.6,
          6.6,
          6.6,
          6.6,
          6.6,
          6.9,
          5.9,
          6.2,
          6,
          6.1,
          6.1,
          6.1,
          6.1,
          6.2,
          6.2,
          6.2,
          6.1,
          8.3,
          6,
          6.1,
          6,
          6,
          6,
          6,
          6,
          6,
          6,
          6.1,
          6,
          6.1,
          6.1,
          6,
          6.1,
          6,
          6.1,
          6.1,
          8.5,
          8.5,
          8.5,
          8.5,
          7.1,
          6,
          6.1,
          6.1,
          6.5,
          6.5,
          6.6,
          6.6,
          6.6,
          6.6,
          8.4,
          8.4,
          8.4,
          8.3,
          8.5,
          8.5,
          8.4,
          8.4,
          8.5,
          8.4,
          8.4,
          8.5,
          8.3,
          8.5,
          8.3,
          8.5,
          8.3,
          8.5,
          8.5,
          8.4,
          8.4,
          8.4,
          8.4,
          8.4,
          8.4,
          8.4,
          8.5,
          8.1,
          8.1,
          8.2,
          8.2,
          8.1,
          8.2,
          8.2,
          8.2,
          8.2,
          8.2,
          8.1,
          8.1,
          8.1,
          8,
          8,
          8,
          8,
          8,
          8,
          8,
          8.1,
          8.2,
          8.2,
          8.2,
          8.2,
          8,
          8,
          8.1,
          8,
          8.1,
          8.1,
          8,
          8.1,
          8.1,
          8.1
         ],
         "yaxis": "y"
        }
       ],
       "layout": {
        "legend": {
         "title": {
          "text": "Gender"
         },
         "tracegroupgap": 0
        },
        "margin": {
         "t": 60
        },
        "template": {
         "data": {
          "bar": [
           {
            "error_x": {
             "color": "#2a3f5f"
            },
            "error_y": {
             "color": "#2a3f5f"
            },
            "marker": {
             "line": {
              "color": "#E5ECF6",
              "width": 0.5
             },
             "pattern": {
              "fillmode": "overlay",
              "size": 10,
              "solidity": 0.2
             }
            },
            "type": "bar"
           }
          ],
          "barpolar": [
           {
            "marker": {
             "line": {
              "color": "#E5ECF6",
              "width": 0.5
             },
             "pattern": {
              "fillmode": "overlay",
              "size": 10,
              "solidity": 0.2
             }
            },
            "type": "barpolar"
           }
          ],
          "carpet": [
           {
            "aaxis": {
             "endlinecolor": "#2a3f5f",
             "gridcolor": "white",
             "linecolor": "white",
             "minorgridcolor": "white",
             "startlinecolor": "#2a3f5f"
            },
            "baxis": {
             "endlinecolor": "#2a3f5f",
             "gridcolor": "white",
             "linecolor": "white",
             "minorgridcolor": "white",
             "startlinecolor": "#2a3f5f"
            },
            "type": "carpet"
           }
          ],
          "choropleth": [
           {
            "colorbar": {
             "outlinewidth": 0,
             "ticks": ""
            },
            "type": "choropleth"
           }
          ],
          "contour": [
           {
            "colorbar": {
             "outlinewidth": 0,
             "ticks": ""
            },
            "colorscale": [
             [
              0,
              "#0d0887"
             ],
             [
              0.1111111111111111,
              "#46039f"
             ],
             [
              0.2222222222222222,
              "#7201a8"
             ],
             [
              0.3333333333333333,
              "#9c179e"
             ],
             [
              0.4444444444444444,
              "#bd3786"
             ],
             [
              0.5555555555555556,
              "#d8576b"
             ],
             [
              0.6666666666666666,
              "#ed7953"
             ],
             [
              0.7777777777777778,
              "#fb9f3a"
             ],
             [
              0.8888888888888888,
              "#fdca26"
             ],
             [
              1,
              "#f0f921"
             ]
            ],
            "type": "contour"
           }
          ],
          "contourcarpet": [
           {
            "colorbar": {
             "outlinewidth": 0,
             "ticks": ""
            },
            "type": "contourcarpet"
           }
          ],
          "heatmap": [
           {
            "colorbar": {
             "outlinewidth": 0,
             "ticks": ""
            },
            "colorscale": [
             [
              0,
              "#0d0887"
             ],
             [
              0.1111111111111111,
              "#46039f"
             ],
             [
              0.2222222222222222,
              "#7201a8"
             ],
             [
              0.3333333333333333,
              "#9c179e"
             ],
             [
              0.4444444444444444,
              "#bd3786"
             ],
             [
              0.5555555555555556,
              "#d8576b"
             ],
             [
              0.6666666666666666,
              "#ed7953"
             ],
             [
              0.7777777777777778,
              "#fb9f3a"
             ],
             [
              0.8888888888888888,
              "#fdca26"
             ],
             [
              1,
              "#f0f921"
             ]
            ],
            "type": "heatmap"
           }
          ],
          "heatmapgl": [
           {
            "colorbar": {
             "outlinewidth": 0,
             "ticks": ""
            },
            "colorscale": [
             [
              0,
              "#0d0887"
             ],
             [
              0.1111111111111111,
              "#46039f"
             ],
             [
              0.2222222222222222,
              "#7201a8"
             ],
             [
              0.3333333333333333,
              "#9c179e"
             ],
             [
              0.4444444444444444,
              "#bd3786"
             ],
             [
              0.5555555555555556,
              "#d8576b"
             ],
             [
              0.6666666666666666,
              "#ed7953"
             ],
             [
              0.7777777777777778,
              "#fb9f3a"
             ],
             [
              0.8888888888888888,
              "#fdca26"
             ],
             [
              1,
              "#f0f921"
             ]
            ],
            "type": "heatmapgl"
           }
          ],
          "histogram": [
           {
            "marker": {
             "pattern": {
              "fillmode": "overlay",
              "size": 10,
              "solidity": 0.2
             }
            },
            "type": "histogram"
           }
          ],
          "histogram2d": [
           {
            "colorbar": {
             "outlinewidth": 0,
             "ticks": ""
            },
            "colorscale": [
             [
              0,
              "#0d0887"
             ],
             [
              0.1111111111111111,
              "#46039f"
             ],
             [
              0.2222222222222222,
              "#7201a8"
             ],
             [
              0.3333333333333333,
              "#9c179e"
             ],
             [
              0.4444444444444444,
              "#bd3786"
             ],
             [
              0.5555555555555556,
              "#d8576b"
             ],
             [
              0.6666666666666666,
              "#ed7953"
             ],
             [
              0.7777777777777778,
              "#fb9f3a"
             ],
             [
              0.8888888888888888,
              "#fdca26"
             ],
             [
              1,
              "#f0f921"
             ]
            ],
            "type": "histogram2d"
           }
          ],
          "histogram2dcontour": [
           {
            "colorbar": {
             "outlinewidth": 0,
             "ticks": ""
            },
            "colorscale": [
             [
              0,
              "#0d0887"
             ],
             [
              0.1111111111111111,
              "#46039f"
             ],
             [
              0.2222222222222222,
              "#7201a8"
             ],
             [
              0.3333333333333333,
              "#9c179e"
             ],
             [
              0.4444444444444444,
              "#bd3786"
             ],
             [
              0.5555555555555556,
              "#d8576b"
             ],
             [
              0.6666666666666666,
              "#ed7953"
             ],
             [
              0.7777777777777778,
              "#fb9f3a"
             ],
             [
              0.8888888888888888,
              "#fdca26"
             ],
             [
              1,
              "#f0f921"
             ]
            ],
            "type": "histogram2dcontour"
           }
          ],
          "mesh3d": [
           {
            "colorbar": {
             "outlinewidth": 0,
             "ticks": ""
            },
            "type": "mesh3d"
           }
          ],
          "parcoords": [
           {
            "line": {
             "colorbar": {
              "outlinewidth": 0,
              "ticks": ""
             }
            },
            "type": "parcoords"
           }
          ],
          "pie": [
           {
            "automargin": true,
            "type": "pie"
           }
          ],
          "scatter": [
           {
            "fillpattern": {
             "fillmode": "overlay",
             "size": 10,
             "solidity": 0.2
            },
            "type": "scatter"
           }
          ],
          "scatter3d": [
           {
            "line": {
             "colorbar": {
              "outlinewidth": 0,
              "ticks": ""
             }
            },
            "marker": {
             "colorbar": {
              "outlinewidth": 0,
              "ticks": ""
             }
            },
            "type": "scatter3d"
           }
          ],
          "scattercarpet": [
           {
            "marker": {
             "colorbar": {
              "outlinewidth": 0,
              "ticks": ""
             }
            },
            "type": "scattercarpet"
           }
          ],
          "scattergeo": [
           {
            "marker": {
             "colorbar": {
              "outlinewidth": 0,
              "ticks": ""
             }
            },
            "type": "scattergeo"
           }
          ],
          "scattergl": [
           {
            "marker": {
             "colorbar": {
              "outlinewidth": 0,
              "ticks": ""
             }
            },
            "type": "scattergl"
           }
          ],
          "scattermapbox": [
           {
            "marker": {
             "colorbar": {
              "outlinewidth": 0,
              "ticks": ""
             }
            },
            "type": "scattermapbox"
           }
          ],
          "scatterpolar": [
           {
            "marker": {
             "colorbar": {
              "outlinewidth": 0,
              "ticks": ""
             }
            },
            "type": "scatterpolar"
           }
          ],
          "scatterpolargl": [
           {
            "marker": {
             "colorbar": {
              "outlinewidth": 0,
              "ticks": ""
             }
            },
            "type": "scatterpolargl"
           }
          ],
          "scatterternary": [
           {
            "marker": {
             "colorbar": {
              "outlinewidth": 0,
              "ticks": ""
             }
            },
            "type": "scatterternary"
           }
          ],
          "surface": [
           {
            "colorbar": {
             "outlinewidth": 0,
             "ticks": ""
            },
            "colorscale": [
             [
              0,
              "#0d0887"
             ],
             [
              0.1111111111111111,
              "#46039f"
             ],
             [
              0.2222222222222222,
              "#7201a8"
             ],
             [
              0.3333333333333333,
              "#9c179e"
             ],
             [
              0.4444444444444444,
              "#bd3786"
             ],
             [
              0.5555555555555556,
              "#d8576b"
             ],
             [
              0.6666666666666666,
              "#ed7953"
             ],
             [
              0.7777777777777778,
              "#fb9f3a"
             ],
             [
              0.8888888888888888,
              "#fdca26"
             ],
             [
              1,
              "#f0f921"
             ]
            ],
            "type": "surface"
           }
          ],
          "table": [
           {
            "cells": {
             "fill": {
              "color": "#EBF0F8"
             },
             "line": {
              "color": "white"
             }
            },
            "header": {
             "fill": {
              "color": "#C8D4E3"
             },
             "line": {
              "color": "white"
             }
            },
            "type": "table"
           }
          ]
         },
         "layout": {
          "annotationdefaults": {
           "arrowcolor": "#2a3f5f",
           "arrowhead": 0,
           "arrowwidth": 1
          },
          "autotypenumbers": "strict",
          "coloraxis": {
           "colorbar": {
            "outlinewidth": 0,
            "ticks": ""
           }
          },
          "colorscale": {
           "diverging": [
            [
             0,
             "#8e0152"
            ],
            [
             0.1,
             "#c51b7d"
            ],
            [
             0.2,
             "#de77ae"
            ],
            [
             0.3,
             "#f1b6da"
            ],
            [
             0.4,
             "#fde0ef"
            ],
            [
             0.5,
             "#f7f7f7"
            ],
            [
             0.6,
             "#e6f5d0"
            ],
            [
             0.7,
             "#b8e186"
            ],
            [
             0.8,
             "#7fbc41"
            ],
            [
             0.9,
             "#4d9221"
            ],
            [
             1,
             "#276419"
            ]
           ],
           "sequential": [
            [
             0,
             "#0d0887"
            ],
            [
             0.1111111111111111,
             "#46039f"
            ],
            [
             0.2222222222222222,
             "#7201a8"
            ],
            [
             0.3333333333333333,
             "#9c179e"
            ],
            [
             0.4444444444444444,
             "#bd3786"
            ],
            [
             0.5555555555555556,
             "#d8576b"
            ],
            [
             0.6666666666666666,
             "#ed7953"
            ],
            [
             0.7777777777777778,
             "#fb9f3a"
            ],
            [
             0.8888888888888888,
             "#fdca26"
            ],
            [
             1,
             "#f0f921"
            ]
           ],
           "sequentialminus": [
            [
             0,
             "#0d0887"
            ],
            [
             0.1111111111111111,
             "#46039f"
            ],
            [
             0.2222222222222222,
             "#7201a8"
            ],
            [
             0.3333333333333333,
             "#9c179e"
            ],
            [
             0.4444444444444444,
             "#bd3786"
            ],
            [
             0.5555555555555556,
             "#d8576b"
            ],
            [
             0.6666666666666666,
             "#ed7953"
            ],
            [
             0.7777777777777778,
             "#fb9f3a"
            ],
            [
             0.8888888888888888,
             "#fdca26"
            ],
            [
             1,
             "#f0f921"
            ]
           ]
          },
          "colorway": [
           "#636efa",
           "#EF553B",
           "#00cc96",
           "#ab63fa",
           "#FFA15A",
           "#19d3f3",
           "#FF6692",
           "#B6E880",
           "#FF97FF",
           "#FECB52"
          ],
          "font": {
           "color": "#2a3f5f"
          },
          "geo": {
           "bgcolor": "white",
           "lakecolor": "white",
           "landcolor": "#E5ECF6",
           "showlakes": true,
           "showland": true,
           "subunitcolor": "white"
          },
          "hoverlabel": {
           "align": "left"
          },
          "hovermode": "closest",
          "mapbox": {
           "style": "light"
          },
          "paper_bgcolor": "white",
          "plot_bgcolor": "#E5ECF6",
          "polar": {
           "angularaxis": {
            "gridcolor": "white",
            "linecolor": "white",
            "ticks": ""
           },
           "bgcolor": "#E5ECF6",
           "radialaxis": {
            "gridcolor": "white",
            "linecolor": "white",
            "ticks": ""
           }
          },
          "scene": {
           "xaxis": {
            "backgroundcolor": "#E5ECF6",
            "gridcolor": "white",
            "gridwidth": 2,
            "linecolor": "white",
            "showbackground": true,
            "ticks": "",
            "zerolinecolor": "white"
           },
           "yaxis": {
            "backgroundcolor": "#E5ECF6",
            "gridcolor": "white",
            "gridwidth": 2,
            "linecolor": "white",
            "showbackground": true,
            "ticks": "",
            "zerolinecolor": "white"
           },
           "zaxis": {
            "backgroundcolor": "#E5ECF6",
            "gridcolor": "white",
            "gridwidth": 2,
            "linecolor": "white",
            "showbackground": true,
            "ticks": "",
            "zerolinecolor": "white"
           }
          },
          "shapedefaults": {
           "line": {
            "color": "#2a3f5f"
           }
          },
          "ternary": {
           "aaxis": {
            "gridcolor": "white",
            "linecolor": "white",
            "ticks": ""
           },
           "baxis": {
            "gridcolor": "white",
            "linecolor": "white",
            "ticks": ""
           },
           "bgcolor": "#E5ECF6",
           "caxis": {
            "gridcolor": "white",
            "linecolor": "white",
            "ticks": ""
           }
          },
          "title": {
           "x": 0.05
          },
          "xaxis": {
           "automargin": true,
           "gridcolor": "white",
           "linecolor": "white",
           "ticks": "",
           "title": {
            "standoff": 15
           },
           "zerolinecolor": "white",
           "zerolinewidth": 2
          },
          "yaxis": {
           "automargin": true,
           "gridcolor": "white",
           "linecolor": "white",
           "ticks": "",
           "title": {
            "standoff": 15
           },
           "zerolinecolor": "white",
           "zerolinewidth": 2
          }
         }
        },
        "xaxis": {
         "anchor": "y",
         "domain": [
          0,
          1
         ],
         "title": {
          "text": "Age"
         }
        },
        "yaxis": {
         "anchor": "x",
         "domain": [
          0,
          1
         ],
         "title": {
          "text": "Sleep Duration"
         }
        }
       }
      }
     },
     "metadata": {},
     "output_type": "display_data"
    }
   ],
   "source": [
    "fig4"
   ]
  },
  {
   "cell_type": "code",
   "execution_count": 48,
   "metadata": {},
   "outputs": [
    {
     "name": "stdout",
     "output_type": "stream",
     "text": [
      "Collecting kaleidoNote: you may need to restart the kernel to use updated packages.\n",
      "\n",
      "  Downloading kaleido-0.2.1-py2.py3-none-win_amd64.whl.metadata (15 kB)\n",
      "Downloading kaleido-0.2.1-py2.py3-none-win_amd64.whl (65.9 MB)\n",
      "   ---------------------------------------- 0.0/65.9 MB ? eta -:--:--\n",
      "   ---------------------------------------- 0.0/65.9 MB ? eta -:--:--\n",
      "   ---------------------------------------- 0.0/65.9 MB ? eta -:--:--\n",
      "   ---------------------------------------- 0.0/65.9 MB ? eta -:--:--\n",
      "   ---------------------------------------- 0.0/65.9 MB ? eta -:--:--\n",
      "   ---------------------------------------- 0.0/65.9 MB ? eta -:--:--\n",
      "   ---------------------------------------- 0.1/65.9 MB 308.0 kB/s eta 0:03:34\n",
      "   ---------------------------------------- 0.1/65.9 MB 308.0 kB/s eta 0:03:34\n",
      "   ---------------------------------------- 0.1/65.9 MB 308.0 kB/s eta 0:03:34\n",
      "   ---------------------------------------- 0.1/65.9 MB 308.0 kB/s eta 0:03:34\n",
      "   ---------------------------------------- 0.1/65.9 MB 308.0 kB/s eta 0:03:34\n",
      "   ---------------------------------------- 0.1/65.9 MB 308.0 kB/s eta 0:03:34\n",
      "   ---------------------------------------- 0.1/65.9 MB 308.0 kB/s eta 0:03:34\n",
      "   ---------------------------------------- 0.1/65.9 MB 189.6 kB/s eta 0:05:48\n",
      "   ---------------------------------------- 0.2/65.9 MB 344.1 kB/s eta 0:03:12\n",
      "   ---------------------------------------- 0.2/65.9 MB 344.1 kB/s eta 0:03:12\n",
      "   ---------------------------------------- 0.2/65.9 MB 344.1 kB/s eta 0:03:12\n",
      "   ---------------------------------------- 0.2/65.9 MB 344.1 kB/s eta 0:03:12\n",
      "   ---------------------------------------- 0.2/65.9 MB 344.1 kB/s eta 0:03:12\n",
      "   ---------------------------------------- 0.2/65.9 MB 344.1 kB/s eta 0:03:12\n",
      "   ---------------------------------------- 0.3/65.9 MB 366.5 kB/s eta 0:02:59\n",
      "   ---------------------------------------- 0.3/65.9 MB 366.5 kB/s eta 0:02:59\n",
      "   ---------------------------------------- 0.3/65.9 MB 366.5 kB/s eta 0:02:59\n",
      "   ---------------------------------------- 0.3/65.9 MB 366.5 kB/s eta 0:02:59\n",
      "   ---------------------------------------- 0.3/65.9 MB 366.5 kB/s eta 0:02:59\n",
      "   ---------------------------------------- 0.5/65.9 MB 373.4 kB/s eta 0:02:56\n",
      "   ---------------------------------------- 0.5/65.9 MB 393.2 kB/s eta 0:02:47\n",
      "   ---------------------------------------- 0.5/65.9 MB 393.2 kB/s eta 0:02:47\n",
      "   ---------------------------------------- 0.5/65.9 MB 393.2 kB/s eta 0:02:47\n",
      "   ---------------------------------------- 0.5/65.9 MB 393.2 kB/s eta 0:02:47\n",
      "   ---------------------------------------- 0.5/65.9 MB 393.2 kB/s eta 0:02:47\n",
      "   ---------------------------------------- 0.5/65.9 MB 341.1 kB/s eta 0:03:12\n",
      "   ---------------------------------------- 0.5/65.9 MB 341.1 kB/s eta 0:03:12\n",
      "   ---------------------------------------- 0.5/65.9 MB 341.1 kB/s eta 0:03:12\n",
      "   ---------------------------------------- 0.5/65.9 MB 341.1 kB/s eta 0:03:12\n",
      "   ---------------------------------------- 0.5/65.9 MB 341.1 kB/s eta 0:03:12\n",
      "   ---------------------------------------- 0.5/65.9 MB 341.1 kB/s eta 0:03:12\n",
      "   ---------------------------------------- 0.5/65.9 MB 341.1 kB/s eta 0:03:12\n",
      "   ---------------------------------------- 0.5/65.9 MB 341.1 kB/s eta 0:03:12\n",
      "   ---------------------------------------- 0.5/65.9 MB 341.1 kB/s eta 0:03:12\n",
      "   ---------------------------------------- 0.5/65.9 MB 341.1 kB/s eta 0:03:12\n",
      "   ---------------------------------------- 0.5/65.9 MB 341.1 kB/s eta 0:03:12\n",
      "   ---------------------------------------- 0.7/65.9 MB 327.7 kB/s eta 0:03:20\n",
      "   ---------------------------------------- 0.7/65.9 MB 327.7 kB/s eta 0:03:20\n",
      "   ---------------------------------------- 0.7/65.9 MB 327.7 kB/s eta 0:03:20\n",
      "   ---------------------------------------- 0.7/65.9 MB 327.7 kB/s eta 0:03:20\n",
      "   ---------------------------------------- 0.7/65.9 MB 327.7 kB/s eta 0:03:20\n",
      "   ---------------------------------------- 0.7/65.9 MB 327.7 kB/s eta 0:03:20\n",
      "   ---------------------------------------- 0.7/65.9 MB 327.7 kB/s eta 0:03:20\n",
      "    --------------------------------------- 0.9/65.9 MB 356.7 kB/s eta 0:03:03\n",
      "    --------------------------------------- 0.9/65.9 MB 356.7 kB/s eta 0:03:03\n",
      "    --------------------------------------- 0.9/65.9 MB 356.7 kB/s eta 0:03:03\n",
      "    --------------------------------------- 0.9/65.9 MB 356.7 kB/s eta 0:03:03\n",
      "    --------------------------------------- 0.9/65.9 MB 356.7 kB/s eta 0:03:03\n",
      "    --------------------------------------- 1.0/65.9 MB 363.7 kB/s eta 0:02:59\n",
      "    --------------------------------------- 1.0/65.9 MB 373.9 kB/s eta 0:02:54\n",
      "    --------------------------------------- 1.1/65.9 MB 391.7 kB/s eta 0:02:46\n",
      "    --------------------------------------- 1.2/65.9 MB 422.6 kB/s eta 0:02:34\n",
      "    --------------------------------------- 1.3/65.9 MB 453.4 kB/s eta 0:02:23\n",
      "    --------------------------------------- 1.4/65.9 MB 484.6 kB/s eta 0:02:14\n",
      "    --------------------------------------- 1.6/65.9 MB 531.9 kB/s eta 0:02:01\n",
      "   - -------------------------------------- 1.7/65.9 MB 553.4 kB/s eta 0:01:57\n",
      "   - -------------------------------------- 1.7/65.9 MB 557.9 kB/s eta 0:01:56\n",
      "   - -------------------------------------- 1.9/65.9 MB 612.8 kB/s eta 0:01:45\n",
      "   - -------------------------------------- 2.0/65.9 MB 636.0 kB/s eta 0:01:41\n",
      "   - -------------------------------------- 2.1/65.9 MB 655.4 kB/s eta 0:01:38\n",
      "   - -------------------------------------- 2.1/65.9 MB 655.4 kB/s eta 0:01:38\n",
      "   - -------------------------------------- 2.2/65.9 MB 674.1 kB/s eta 0:01:35\n",
      "   - -------------------------------------- 2.3/65.9 MB 685.9 kB/s eta 0:01:33\n",
      "   - -------------------------------------- 2.4/65.9 MB 691.5 kB/s eta 0:01:32\n",
      "   - -------------------------------------- 2.5/65.9 MB 717.3 kB/s eta 0:01:29\n",
      "   - -------------------------------------- 2.6/65.9 MB 734.4 kB/s eta 0:01:27\n",
      "   - -------------------------------------- 2.6/65.9 MB 741.9 kB/s eta 0:01:26\n",
      "   - -------------------------------------- 2.7/65.9 MB 743.6 kB/s eta 0:01:26\n",
      "   - -------------------------------------- 2.8/65.9 MB 761.8 kB/s eta 0:01:23\n",
      "   - -------------------------------------- 2.9/65.9 MB 782.6 kB/s eta 0:01:21\n",
      "   - -------------------------------------- 3.0/65.9 MB 803.5 kB/s eta 0:01:19\n",
      "   - -------------------------------------- 3.1/65.9 MB 813.0 kB/s eta 0:01:18\n",
      "   - -------------------------------------- 3.2/65.9 MB 832.7 kB/s eta 0:01:16\n",
      "   - -------------------------------------- 3.2/65.9 MB 835.1 kB/s eta 0:01:16\n",
      "   -- ------------------------------------- 3.4/65.9 MB 859.9 kB/s eta 0:01:13\n",
      "   -- ------------------------------------- 3.5/65.9 MB 872.0 kB/s eta 0:01:12\n",
      "   -- ------------------------------------- 3.6/65.9 MB 878.9 kB/s eta 0:01:11\n",
      "   -- ------------------------------------- 3.6/65.9 MB 885.6 kB/s eta 0:01:11\n",
      "   -- ------------------------------------- 3.6/65.9 MB 885.6 kB/s eta 0:01:11\n",
      "   -- ------------------------------------- 3.7/65.9 MB 887.0 kB/s eta 0:01:11\n",
      "   -- ------------------------------------- 3.8/65.9 MB 900.5 kB/s eta 0:01:10\n",
      "   -- ------------------------------------- 3.9/65.9 MB 914.5 kB/s eta 0:01:08\n",
      "   -- ------------------------------------- 4.0/65.9 MB 922.7 kB/s eta 0:01:08\n",
      "   -- ------------------------------------- 4.0/65.9 MB 924.1 kB/s eta 0:01:08\n",
      "   -- ------------------------------------- 4.0/65.9 MB 924.1 kB/s eta 0:01:08\n",
      "   -- ------------------------------------- 4.1/65.9 MB 926.7 kB/s eta 0:01:07\n",
      "   -- ------------------------------------- 4.2/65.9 MB 938.7 kB/s eta 0:01:06\n",
      "   -- ------------------------------------- 4.4/65.9 MB 955.1 kB/s eta 0:01:05\n",
      "   -- ------------------------------------- 4.4/65.9 MB 966.3 kB/s eta 0:01:04\n",
      "   -- ------------------------------------- 4.5/65.9 MB 977.4 kB/s eta 0:01:03\n",
      "   -- ------------------------------------- 4.6/65.9 MB 975.3 kB/s eta 0:01:03\n",
      "   -- ------------------------------------- 4.7/65.9 MB 986.4 kB/s eta 0:01:03\n",
      "   -- ------------------------------------- 4.7/65.9 MB 990.5 kB/s eta 0:01:02\n",
      "   -- ------------------------------------- 4.8/65.9 MB 997.8 kB/s eta 0:01:02\n",
      "   -- ------------------------------------- 4.9/65.9 MB 1.0 MB/s eta 0:01:01\n",
      "   --- ------------------------------------ 5.0/65.9 MB 1.0 MB/s eta 0:01:01\n",
      "   --- ------------------------------------ 5.1/65.9 MB 1.0 MB/s eta 0:01:00\n",
      "   --- ------------------------------------ 5.2/65.9 MB 1.0 MB/s eta 0:00:59\n",
      "   --- ------------------------------------ 5.4/65.9 MB 1.1 MB/s eta 0:00:58\n",
      "   --- ------------------------------------ 5.5/65.9 MB 1.1 MB/s eta 0:00:57\n",
      "   --- ------------------------------------ 5.6/65.9 MB 1.1 MB/s eta 0:00:57\n",
      "   --- ------------------------------------ 5.7/65.9 MB 1.1 MB/s eta 0:00:56\n",
      "   --- ------------------------------------ 5.8/65.9 MB 1.1 MB/s eta 0:00:55\n",
      "   --- ------------------------------------ 5.9/65.9 MB 1.1 MB/s eta 0:00:55\n",
      "   --- ------------------------------------ 6.0/65.9 MB 1.1 MB/s eta 0:00:54\n",
      "   --- ------------------------------------ 6.1/65.9 MB 1.1 MB/s eta 0:00:53\n",
      "   --- ------------------------------------ 6.2/65.9 MB 1.1 MB/s eta 0:00:53\n",
      "   --- ------------------------------------ 6.3/65.9 MB 1.2 MB/s eta 0:00:52\n",
      "   --- ------------------------------------ 6.3/65.9 MB 1.2 MB/s eta 0:00:52\n",
      "   --- ------------------------------------ 6.4/65.9 MB 1.1 MB/s eta 0:00:53\n",
      "   --- ------------------------------------ 6.4/65.9 MB 1.1 MB/s eta 0:00:53\n",
      "   --- ------------------------------------ 6.4/65.9 MB 1.1 MB/s eta 0:00:53\n",
      "   --- ------------------------------------ 6.4/65.9 MB 1.1 MB/s eta 0:00:53\n",
      "   --- ------------------------------------ 6.4/65.9 MB 1.1 MB/s eta 0:00:53\n",
      "   --- ------------------------------------ 6.6/65.9 MB 1.1 MB/s eta 0:00:53\n",
      "   --- ------------------------------------ 6.6/65.9 MB 1.1 MB/s eta 0:00:53\n",
      "   --- ------------------------------------ 6.6/65.9 MB 1.1 MB/s eta 0:00:53\n",
      "   ---- ----------------------------------- 6.6/65.9 MB 1.1 MB/s eta 0:00:54\n",
      "   ---- ----------------------------------- 6.7/65.9 MB 1.1 MB/s eta 0:00:54\n",
      "   ---- ----------------------------------- 6.7/65.9 MB 1.1 MB/s eta 0:00:54\n",
      "   ---- ----------------------------------- 6.8/65.9 MB 1.1 MB/s eta 0:00:54\n",
      "   ---- ----------------------------------- 6.9/65.9 MB 1.1 MB/s eta 0:00:54\n",
      "   ---- ----------------------------------- 6.9/65.9 MB 1.1 MB/s eta 0:00:53\n",
      "   ---- ----------------------------------- 7.0/65.9 MB 1.1 MB/s eta 0:00:54\n",
      "   ---- ----------------------------------- 7.0/65.9 MB 1.1 MB/s eta 0:00:54\n",
      "   ---- ----------------------------------- 7.1/65.9 MB 1.1 MB/s eta 0:00:54\n",
      "   ---- ----------------------------------- 7.1/65.9 MB 1.1 MB/s eta 0:00:54\n",
      "   ---- ----------------------------------- 7.2/65.9 MB 1.1 MB/s eta 0:00:53\n",
      "   ---- ----------------------------------- 7.3/65.9 MB 1.1 MB/s eta 0:00:53\n",
      "   ---- ----------------------------------- 7.4/65.9 MB 1.1 MB/s eta 0:00:53\n",
      "   ---- ----------------------------------- 7.4/65.9 MB 1.1 MB/s eta 0:00:53\n",
      "   ---- ----------------------------------- 7.5/65.9 MB 1.1 MB/s eta 0:00:52\n",
      "   ---- ----------------------------------- 7.6/65.9 MB 1.1 MB/s eta 0:00:52\n",
      "   ---- ----------------------------------- 7.7/65.9 MB 1.1 MB/s eta 0:00:52\n",
      "   ---- ----------------------------------- 7.7/65.9 MB 1.1 MB/s eta 0:00:52\n",
      "   ---- ----------------------------------- 7.8/65.9 MB 1.1 MB/s eta 0:00:52\n",
      "   ---- ----------------------------------- 7.9/65.9 MB 1.1 MB/s eta 0:00:52\n",
      "   ---- ----------------------------------- 7.9/65.9 MB 1.1 MB/s eta 0:00:51\n",
      "   ---- ----------------------------------- 8.0/65.9 MB 1.1 MB/s eta 0:00:51\n",
      "   ---- ----------------------------------- 8.1/65.9 MB 1.1 MB/s eta 0:00:51\n",
      "   ---- ----------------------------------- 8.1/65.9 MB 1.1 MB/s eta 0:00:51\n",
      "   ---- ----------------------------------- 8.2/65.9 MB 1.2 MB/s eta 0:00:51\n",
      "   ----- ---------------------------------- 8.3/65.9 MB 1.2 MB/s eta 0:00:50\n",
      "   ----- ---------------------------------- 8.4/65.9 MB 1.2 MB/s eta 0:00:50\n",
      "   ----- ---------------------------------- 8.5/65.9 MB 1.2 MB/s eta 0:00:50\n",
      "   ----- ---------------------------------- 8.6/65.9 MB 1.2 MB/s eta 0:00:50\n",
      "   ----- ---------------------------------- 8.6/65.9 MB 1.2 MB/s eta 0:00:49\n",
      "   ----- ---------------------------------- 8.7/65.9 MB 1.2 MB/s eta 0:00:49\n",
      "   ----- ---------------------------------- 8.8/65.9 MB 1.2 MB/s eta 0:00:50\n",
      "   ----- ---------------------------------- 8.9/65.9 MB 1.2 MB/s eta 0:00:49\n",
      "   ----- ---------------------------------- 9.0/65.9 MB 1.2 MB/s eta 0:00:49\n",
      "   ----- ---------------------------------- 9.1/65.9 MB 1.2 MB/s eta 0:00:49\n",
      "   ----- ---------------------------------- 9.1/65.9 MB 1.2 MB/s eta 0:00:49\n",
      "   ----- ---------------------------------- 9.1/65.9 MB 1.2 MB/s eta 0:00:49\n",
      "   ----- ---------------------------------- 9.1/65.9 MB 1.2 MB/s eta 0:00:49\n",
      "   ----- ---------------------------------- 9.2/65.9 MB 1.2 MB/s eta 0:00:49\n",
      "   ----- ---------------------------------- 9.3/65.9 MB 1.2 MB/s eta 0:00:49\n",
      "   ----- ---------------------------------- 9.3/65.9 MB 1.2 MB/s eta 0:00:49\n",
      "   ----- ---------------------------------- 9.4/65.9 MB 1.2 MB/s eta 0:00:49\n",
      "   ----- ---------------------------------- 9.4/65.9 MB 1.2 MB/s eta 0:00:49\n",
      "   ----- ---------------------------------- 9.5/65.9 MB 1.2 MB/s eta 0:00:49\n",
      "   ----- ---------------------------------- 9.6/65.9 MB 1.2 MB/s eta 0:00:48\n",
      "   ----- ---------------------------------- 9.6/65.9 MB 1.2 MB/s eta 0:00:48\n",
      "   ----- ---------------------------------- 9.7/65.9 MB 1.2 MB/s eta 0:00:48\n",
      "   ----- ---------------------------------- 9.8/65.9 MB 1.2 MB/s eta 0:00:48\n",
      "   ----- ---------------------------------- 9.8/65.9 MB 1.2 MB/s eta 0:00:48\n",
      "   ----- ---------------------------------- 9.9/65.9 MB 1.2 MB/s eta 0:00:48\n",
      "   ------ --------------------------------- 9.9/65.9 MB 1.2 MB/s eta 0:00:48\n",
      "   ------ --------------------------------- 9.9/65.9 MB 1.2 MB/s eta 0:00:48\n",
      "   ------ --------------------------------- 9.9/65.9 MB 1.2 MB/s eta 0:00:48\n",
      "   ------ --------------------------------- 9.9/65.9 MB 1.2 MB/s eta 0:00:48\n",
      "   ------ --------------------------------- 9.9/65.9 MB 1.2 MB/s eta 0:00:48\n",
      "   ------ --------------------------------- 9.9/65.9 MB 1.1 MB/s eta 0:00:49\n",
      "   ------ --------------------------------- 10.0/65.9 MB 1.1 MB/s eta 0:00:49\n",
      "   ------ --------------------------------- 10.0/65.9 MB 1.1 MB/s eta 0:00:49\n",
      "   ------ --------------------------------- 10.0/65.9 MB 1.1 MB/s eta 0:00:49\n",
      "   ------ --------------------------------- 10.1/65.9 MB 1.1 MB/s eta 0:00:49\n",
      "   ------ --------------------------------- 10.2/65.9 MB 1.1 MB/s eta 0:00:49\n",
      "   ------ --------------------------------- 10.2/65.9 MB 1.1 MB/s eta 0:00:49\n",
      "   ------ --------------------------------- 10.2/65.9 MB 1.1 MB/s eta 0:00:50\n",
      "   ------ --------------------------------- 10.2/65.9 MB 1.1 MB/s eta 0:00:50\n",
      "   ------ --------------------------------- 10.3/65.9 MB 1.1 MB/s eta 0:00:50\n",
      "   ------ --------------------------------- 10.3/65.9 MB 1.1 MB/s eta 0:00:49\n",
      "   ------ --------------------------------- 10.3/65.9 MB 1.2 MB/s eta 0:00:48\n",
      "   ------ --------------------------------- 10.4/65.9 MB 1.2 MB/s eta 0:00:48\n",
      "   ------ --------------------------------- 10.5/65.9 MB 1.2 MB/s eta 0:00:46\n",
      "   ------ --------------------------------- 10.5/65.9 MB 1.2 MB/s eta 0:00:46\n",
      "   ------ --------------------------------- 10.6/65.9 MB 1.2 MB/s eta 0:00:45\n",
      "   ------ --------------------------------- 10.7/65.9 MB 1.2 MB/s eta 0:00:45\n",
      "   ------ --------------------------------- 10.7/65.9 MB 1.2 MB/s eta 0:00:45\n",
      "   ------ --------------------------------- 10.7/65.9 MB 1.3 MB/s eta 0:00:44\n",
      "   ------ --------------------------------- 10.8/65.9 MB 1.4 MB/s eta 0:00:41\n",
      "   ------ --------------------------------- 10.9/65.9 MB 1.4 MB/s eta 0:00:41\n",
      "   ------ --------------------------------- 11.0/65.9 MB 1.4 MB/s eta 0:00:40\n",
      "   ------ --------------------------------- 11.0/65.9 MB 1.4 MB/s eta 0:00:40\n",
      "   ------ --------------------------------- 11.1/65.9 MB 1.4 MB/s eta 0:00:40\n",
      "   ------ --------------------------------- 11.1/65.9 MB 1.4 MB/s eta 0:00:40\n",
      "   ------ --------------------------------- 11.1/65.9 MB 1.4 MB/s eta 0:00:40\n",
      "   ------ --------------------------------- 11.2/65.9 MB 1.4 MB/s eta 0:00:39\n",
      "   ------ --------------------------------- 11.2/65.9 MB 1.4 MB/s eta 0:00:40\n",
      "   ------ --------------------------------- 11.3/65.9 MB 1.4 MB/s eta 0:00:40\n",
      "   ------ --------------------------------- 11.3/65.9 MB 1.4 MB/s eta 0:00:40\n",
      "   ------ --------------------------------- 11.4/65.9 MB 1.4 MB/s eta 0:00:40\n",
      "   ------ --------------------------------- 11.4/65.9 MB 1.4 MB/s eta 0:00:40\n",
      "   ------ --------------------------------- 11.5/65.9 MB 1.4 MB/s eta 0:00:40\n",
      "   ------ --------------------------------- 11.5/65.9 MB 1.4 MB/s eta 0:00:40\n",
      "   ------- -------------------------------- 11.6/65.9 MB 1.4 MB/s eta 0:00:40\n",
      "   ------- -------------------------------- 11.6/65.9 MB 1.4 MB/s eta 0:00:40\n",
      "   ------- -------------------------------- 11.7/65.9 MB 1.4 MB/s eta 0:00:40\n",
      "   ------- -------------------------------- 11.8/65.9 MB 1.4 MB/s eta 0:00:40\n",
      "   ------- -------------------------------- 11.9/65.9 MB 1.4 MB/s eta 0:00:40\n",
      "   ------- -------------------------------- 11.9/65.9 MB 1.4 MB/s eta 0:00:40\n",
      "   ------- -------------------------------- 11.9/65.9 MB 1.3 MB/s eta 0:00:41\n",
      "   ------- -------------------------------- 12.0/65.9 MB 1.4 MB/s eta 0:00:40\n",
      "   ------- -------------------------------- 12.0/65.9 MB 1.3 MB/s eta 0:00:41\n",
      "   ------- -------------------------------- 12.1/65.9 MB 1.3 MB/s eta 0:00:41\n",
      "   ------- -------------------------------- 12.1/65.9 MB 1.3 MB/s eta 0:00:41\n",
      "   ------- -------------------------------- 12.2/65.9 MB 1.3 MB/s eta 0:00:41\n",
      "   ------- -------------------------------- 12.3/65.9 MB 1.3 MB/s eta 0:00:41\n",
      "   ------- -------------------------------- 12.4/65.9 MB 1.3 MB/s eta 0:00:41\n",
      "   ------- -------------------------------- 12.4/65.9 MB 1.3 MB/s eta 0:00:41\n",
      "   ------- -------------------------------- 12.5/65.9 MB 1.3 MB/s eta 0:00:41\n",
      "   ------- -------------------------------- 12.6/65.9 MB 1.3 MB/s eta 0:00:41\n",
      "   ------- -------------------------------- 12.7/65.9 MB 1.3 MB/s eta 0:00:41\n",
      "   ------- -------------------------------- 12.7/65.9 MB 1.3 MB/s eta 0:00:41\n",
      "   ------- -------------------------------- 12.8/65.9 MB 1.3 MB/s eta 0:00:41\n",
      "   ------- -------------------------------- 12.8/65.9 MB 1.3 MB/s eta 0:00:41\n",
      "   ------- -------------------------------- 12.9/65.9 MB 1.3 MB/s eta 0:00:41\n",
      "   ------- -------------------------------- 13.0/65.9 MB 1.3 MB/s eta 0:00:40\n",
      "   ------- -------------------------------- 13.1/65.9 MB 1.3 MB/s eta 0:00:40\n",
      "   ------- -------------------------------- 13.1/65.9 MB 1.3 MB/s eta 0:00:40\n",
      "   -------- ------------------------------- 13.2/65.9 MB 1.3 MB/s eta 0:00:41\n",
      "   -------- ------------------------------- 13.3/65.9 MB 1.3 MB/s eta 0:00:41\n",
      "   -------- ------------------------------- 13.4/65.9 MB 1.3 MB/s eta 0:00:40\n",
      "   -------- ------------------------------- 13.4/65.9 MB 1.3 MB/s eta 0:00:41\n",
      "   -------- ------------------------------- 13.5/65.9 MB 1.3 MB/s eta 0:00:40\n",
      "   -------- ------------------------------- 13.6/65.9 MB 1.3 MB/s eta 0:00:41\n",
      "   -------- ------------------------------- 13.6/65.9 MB 1.3 MB/s eta 0:00:41\n",
      "   -------- ------------------------------- 13.7/65.9 MB 1.3 MB/s eta 0:00:41\n",
      "   -------- ------------------------------- 13.8/65.9 MB 1.3 MB/s eta 0:00:40\n",
      "   -------- ------------------------------- 13.9/65.9 MB 1.3 MB/s eta 0:00:40\n",
      "   -------- ------------------------------- 14.0/65.9 MB 1.3 MB/s eta 0:00:40\n",
      "   -------- ------------------------------- 14.0/65.9 MB 1.3 MB/s eta 0:00:40\n",
      "   -------- ------------------------------- 14.1/65.9 MB 1.3 MB/s eta 0:00:40\n",
      "   -------- ------------------------------- 14.2/65.9 MB 1.3 MB/s eta 0:00:40\n",
      "   -------- ------------------------------- 14.2/65.9 MB 1.3 MB/s eta 0:00:40\n",
      "   -------- ------------------------------- 14.2/65.9 MB 1.3 MB/s eta 0:00:40\n",
      "   -------- ------------------------------- 14.3/65.9 MB 1.3 MB/s eta 0:00:40\n",
      "   -------- ------------------------------- 14.3/65.9 MB 1.3 MB/s eta 0:00:40\n",
      "   -------- ------------------------------- 14.4/65.9 MB 1.3 MB/s eta 0:00:40\n",
      "   -------- ------------------------------- 14.5/65.9 MB 1.3 MB/s eta 0:00:40\n",
      "   -------- ------------------------------- 14.6/65.9 MB 1.3 MB/s eta 0:00:40\n",
      "   -------- ------------------------------- 14.7/65.9 MB 1.3 MB/s eta 0:00:40\n",
      "   -------- ------------------------------- 14.8/65.9 MB 1.3 MB/s eta 0:00:40\n",
      "   --------- ------------------------------ 14.9/65.9 MB 1.3 MB/s eta 0:00:40\n",
      "   --------- ------------------------------ 15.0/65.9 MB 1.3 MB/s eta 0:00:39\n",
      "   --------- ------------------------------ 15.2/65.9 MB 1.3 MB/s eta 0:00:39\n",
      "   --------- ------------------------------ 15.3/65.9 MB 1.3 MB/s eta 0:00:39\n",
      "   --------- ------------------------------ 15.4/65.9 MB 1.3 MB/s eta 0:00:39\n",
      "   --------- ------------------------------ 15.5/65.9 MB 1.3 MB/s eta 0:00:39\n",
      "   --------- ------------------------------ 15.5/65.9 MB 1.3 MB/s eta 0:00:39\n",
      "   --------- ------------------------------ 15.6/65.9 MB 1.3 MB/s eta 0:00:39\n",
      "   --------- ------------------------------ 15.7/65.9 MB 1.3 MB/s eta 0:00:39\n",
      "   --------- ------------------------------ 15.7/65.9 MB 1.3 MB/s eta 0:00:39\n",
      "   --------- ------------------------------ 15.8/65.9 MB 1.3 MB/s eta 0:00:39\n",
      "   --------- ------------------------------ 15.9/65.9 MB 1.3 MB/s eta 0:00:39\n",
      "   --------- ------------------------------ 16.0/65.9 MB 1.3 MB/s eta 0:00:39\n",
      "   --------- ------------------------------ 16.0/65.9 MB 1.3 MB/s eta 0:00:39\n",
      "   --------- ------------------------------ 16.1/65.9 MB 1.3 MB/s eta 0:00:39\n",
      "   --------- ------------------------------ 16.1/65.9 MB 1.3 MB/s eta 0:00:39\n",
      "   --------- ------------------------------ 16.1/65.9 MB 1.3 MB/s eta 0:00:39\n",
      "   --------- ------------------------------ 16.1/65.9 MB 1.3 MB/s eta 0:00:39\n",
      "   --------- ------------------------------ 16.1/65.9 MB 1.3 MB/s eta 0:00:39\n",
      "   --------- ------------------------------ 16.1/65.9 MB 1.3 MB/s eta 0:00:40\n",
      "   --------- ------------------------------ 16.2/65.9 MB 1.2 MB/s eta 0:00:40\n",
      "   --------- ------------------------------ 16.2/65.9 MB 1.2 MB/s eta 0:00:40\n",
      "   --------- ------------------------------ 16.2/65.9 MB 1.2 MB/s eta 0:00:40\n",
      "   --------- ------------------------------ 16.2/65.9 MB 1.2 MB/s eta 0:00:40\n",
      "   --------- ------------------------------ 16.2/65.9 MB 1.2 MB/s eta 0:00:40\n",
      "   --------- ------------------------------ 16.2/65.9 MB 1.2 MB/s eta 0:00:40\n",
      "   --------- ------------------------------ 16.2/65.9 MB 1.2 MB/s eta 0:00:40\n",
      "   --------- ------------------------------ 16.2/65.9 MB 1.2 MB/s eta 0:00:40\n",
      "   --------- ------------------------------ 16.2/65.9 MB 1.2 MB/s eta 0:00:40\n",
      "   --------- ------------------------------ 16.2/65.9 MB 1.2 MB/s eta 0:00:40\n",
      "   --------- ------------------------------ 16.2/65.9 MB 1.2 MB/s eta 0:00:40\n",
      "   --------- ------------------------------ 16.2/65.9 MB 1.2 MB/s eta 0:00:40\n",
      "   --------- ------------------------------ 16.2/65.9 MB 1.2 MB/s eta 0:00:40\n",
      "   --------- ------------------------------ 16.2/65.9 MB 1.2 MB/s eta 0:00:40\n",
      "   --------- ------------------------------ 16.2/65.9 MB 1.2 MB/s eta 0:00:40\n",
      "   --------- ------------------------------ 16.2/65.9 MB 1.2 MB/s eta 0:00:40\n",
      "   --------- ------------------------------ 16.2/65.9 MB 1.2 MB/s eta 0:00:40\n",
      "   --------- ------------------------------ 16.2/65.9 MB 1.2 MB/s eta 0:00:40\n",
      "   --------- ------------------------------ 16.3/65.9 MB 1.1 MB/s eta 0:00:44\n",
      "   --------- ------------------------------ 16.3/65.9 MB 1.1 MB/s eta 0:00:44\n",
      "   --------- ------------------------------ 16.3/65.9 MB 1.1 MB/s eta 0:00:44\n",
      "   --------- ------------------------------ 16.3/65.9 MB 1.1 MB/s eta 0:00:45\n",
      "   --------- ------------------------------ 16.4/65.9 MB 1.1 MB/s eta 0:00:45\n",
      "   --------- ------------------------------ 16.4/65.9 MB 1.1 MB/s eta 0:00:45\n",
      "   --------- ------------------------------ 16.4/65.9 MB 1.1 MB/s eta 0:00:45\n",
      "   ---------- ----------------------------- 16.5/65.9 MB 1.1 MB/s eta 0:00:45\n",
      "   ---------- ----------------------------- 16.6/65.9 MB 1.1 MB/s eta 0:00:45\n",
      "   ---------- ----------------------------- 16.7/65.9 MB 1.1 MB/s eta 0:00:44\n",
      "   ---------- ----------------------------- 16.8/65.9 MB 1.2 MB/s eta 0:00:43\n",
      "   ---------- ----------------------------- 16.8/65.9 MB 1.1 MB/s eta 0:00:43\n",
      "   ---------- ----------------------------- 16.9/65.9 MB 1.2 MB/s eta 0:00:43\n",
      "   ---------- ----------------------------- 17.0/65.9 MB 1.2 MB/s eta 0:00:43\n",
      "   ---------- ----------------------------- 17.1/65.9 MB 1.2 MB/s eta 0:00:43\n",
      "   ---------- ----------------------------- 17.2/65.9 MB 1.2 MB/s eta 0:00:42\n",
      "   ---------- ----------------------------- 17.3/65.9 MB 1.2 MB/s eta 0:00:42\n",
      "   ---------- ----------------------------- 17.4/65.9 MB 1.2 MB/s eta 0:00:42\n",
      "   ---------- ----------------------------- 17.5/65.9 MB 1.2 MB/s eta 0:00:42\n",
      "   ---------- ----------------------------- 17.6/65.9 MB 1.2 MB/s eta 0:00:41\n",
      "   ---------- ----------------------------- 17.7/65.9 MB 1.2 MB/s eta 0:00:41\n",
      "   ---------- ----------------------------- 17.8/65.9 MB 1.2 MB/s eta 0:00:41\n",
      "   ---------- ----------------------------- 17.8/65.9 MB 1.2 MB/s eta 0:00:41\n",
      "   ---------- ----------------------------- 17.8/65.9 MB 1.2 MB/s eta 0:00:42\n",
      "   ---------- ----------------------------- 17.9/65.9 MB 1.2 MB/s eta 0:00:42\n",
      "   ---------- ----------------------------- 17.9/65.9 MB 1.2 MB/s eta 0:00:42\n",
      "   ---------- ----------------------------- 18.0/65.9 MB 1.2 MB/s eta 0:00:42\n",
      "   ---------- ----------------------------- 18.0/65.9 MB 1.2 MB/s eta 0:00:42\n",
      "   ---------- ----------------------------- 18.1/65.9 MB 1.2 MB/s eta 0:00:42\n",
      "   ----------- ---------------------------- 18.1/65.9 MB 1.2 MB/s eta 0:00:41\n",
      "   ----------- ---------------------------- 18.2/65.9 MB 1.2 MB/s eta 0:00:41\n",
      "   ----------- ---------------------------- 18.3/65.9 MB 1.2 MB/s eta 0:00:42\n",
      "   ----------- ---------------------------- 18.4/65.9 MB 1.2 MB/s eta 0:00:41\n",
      "   ----------- ---------------------------- 18.4/65.9 MB 1.2 MB/s eta 0:00:41\n",
      "   ----------- ---------------------------- 18.4/65.9 MB 1.2 MB/s eta 0:00:42\n",
      "   ----------- ---------------------------- 18.5/65.9 MB 1.2 MB/s eta 0:00:42\n",
      "   ----------- ---------------------------- 18.5/65.9 MB 1.1 MB/s eta 0:00:42\n",
      "   ----------- ---------------------------- 18.6/65.9 MB 1.2 MB/s eta 0:00:42\n",
      "   ----------- ---------------------------- 18.6/65.9 MB 1.2 MB/s eta 0:00:42\n",
      "   ----------- ---------------------------- 18.6/65.9 MB 1.2 MB/s eta 0:00:42\n",
      "   ----------- ---------------------------- 18.6/65.9 MB 1.2 MB/s eta 0:00:42\n",
      "   ----------- ---------------------------- 18.6/65.9 MB 1.1 MB/s eta 0:00:42\n",
      "   ----------- ---------------------------- 18.6/65.9 MB 1.1 MB/s eta 0:00:42\n",
      "   ----------- ---------------------------- 18.6/65.9 MB 1.1 MB/s eta 0:00:42\n",
      "   ----------- ---------------------------- 18.6/65.9 MB 1.1 MB/s eta 0:00:42\n",
      "   ----------- ---------------------------- 18.6/65.9 MB 1.1 MB/s eta 0:00:42\n",
      "   ----------- ---------------------------- 18.6/65.9 MB 1.1 MB/s eta 0:00:42\n",
      "   ----------- ---------------------------- 18.6/65.9 MB 1.1 MB/s eta 0:00:42\n",
      "   ----------- ---------------------------- 18.6/65.9 MB 1.1 MB/s eta 0:00:42\n",
      "   ----------- ---------------------------- 18.6/65.9 MB 1.1 MB/s eta 0:00:42\n",
      "   ----------- ---------------------------- 18.6/65.9 MB 1.1 MB/s eta 0:00:42\n",
      "   ----------- ---------------------------- 18.6/65.9 MB 1.1 MB/s eta 0:00:42\n",
      "   ----------- ---------------------------- 18.6/65.9 MB 1.1 MB/s eta 0:00:42\n",
      "   ----------- ---------------------------- 18.6/65.9 MB 1.1 MB/s eta 0:00:42\n",
      "   ----------- ---------------------------- 18.6/65.9 MB 1.1 MB/s eta 0:00:42\n",
      "   ----------- ---------------------------- 18.6/65.9 MB 1.1 MB/s eta 0:00:42\n",
      "   ----------- ---------------------------- 18.6/65.9 MB 1.1 MB/s eta 0:00:42\n",
      "   ----------- ---------------------------- 18.6/65.9 MB 1.1 MB/s eta 0:00:42\n",
      "   ----------- ---------------------------- 18.6/65.9 MB 1.0 MB/s eta 0:00:46\n",
      "   ----------- ---------------------------- 18.6/65.9 MB 1.0 MB/s eta 0:00:46\n",
      "   ----------- ---------------------------- 18.6/65.9 MB 1.0 MB/s eta 0:00:46\n",
      "   ----------- ---------------------------- 18.7/65.9 MB 1.0 MB/s eta 0:00:47\n",
      "   ----------- ---------------------------- 18.7/65.9 MB 1.0 MB/s eta 0:00:47\n",
      "   ----------- ---------------------------- 18.8/65.9 MB 1.0 MB/s eta 0:00:47\n",
      "   ----------- ---------------------------- 18.8/65.9 MB 1.0 MB/s eta 0:00:47\n",
      "   ----------- ---------------------------- 18.8/65.9 MB 1.0 MB/s eta 0:00:47\n",
      "   ----------- ---------------------------- 18.9/65.9 MB 1.0 MB/s eta 0:00:47\n",
      "   ----------- ---------------------------- 19.0/65.9 MB 1.0 MB/s eta 0:00:46\n",
      "   ----------- ---------------------------- 19.0/65.9 MB 1.0 MB/s eta 0:00:46\n",
      "   ----------- ---------------------------- 19.1/65.9 MB 1.0 MB/s eta 0:00:47\n",
      "   ----------- ---------------------------- 19.1/65.9 MB 1.0 MB/s eta 0:00:47\n",
      "   ----------- ---------------------------- 19.2/65.9 MB 1.0 MB/s eta 0:00:46\n",
      "   ----------- ---------------------------- 19.3/65.9 MB 1.0 MB/s eta 0:00:46\n",
      "   ----------- ---------------------------- 19.4/65.9 MB 1.0 MB/s eta 0:00:46\n",
      "   ----------- ---------------------------- 19.5/65.9 MB 1.0 MB/s eta 0:00:46\n",
      "   ----------- ---------------------------- 19.5/65.9 MB 1.0 MB/s eta 0:00:46\n",
      "   ----------- ---------------------------- 19.6/65.9 MB 1.0 MB/s eta 0:00:45\n",
      "   ----------- ---------------------------- 19.7/65.9 MB 1.0 MB/s eta 0:00:45\n",
      "   ----------- ---------------------------- 19.8/65.9 MB 1.0 MB/s eta 0:00:45\n",
      "   ------------ --------------------------- 19.9/65.9 MB 1.0 MB/s eta 0:00:45\n",
      "   ------------ --------------------------- 19.9/65.9 MB 1.0 MB/s eta 0:00:45\n",
      "   ------------ --------------------------- 20.0/65.9 MB 1.0 MB/s eta 0:00:45\n",
      "   ------------ --------------------------- 20.1/65.9 MB 1.0 MB/s eta 0:00:44\n",
      "   ------------ --------------------------- 20.2/65.9 MB 1.1 MB/s eta 0:00:43\n",
      "   ------------ --------------------------- 20.4/65.9 MB 1.1 MB/s eta 0:00:43\n",
      "   ------------ --------------------------- 20.5/65.9 MB 1.1 MB/s eta 0:00:42\n",
      "   ------------ --------------------------- 20.5/65.9 MB 1.1 MB/s eta 0:00:41\n",
      "   ------------ --------------------------- 20.7/65.9 MB 1.1 MB/s eta 0:00:41\n",
      "   ------------ --------------------------- 20.7/65.9 MB 1.1 MB/s eta 0:00:41\n",
      "   ------------ --------------------------- 20.9/65.9 MB 1.1 MB/s eta 0:00:40\n",
      "   ------------ --------------------------- 21.0/65.9 MB 1.1 MB/s eta 0:00:40\n",
      "   ------------ --------------------------- 21.1/65.9 MB 1.1 MB/s eta 0:00:40\n",
      "   ------------ --------------------------- 21.2/65.9 MB 1.1 MB/s eta 0:00:39\n",
      "   ------------ --------------------------- 21.4/65.9 MB 1.2 MB/s eta 0:00:39\n",
      "   ------------- -------------------------- 21.5/65.9 MB 1.2 MB/s eta 0:00:39\n",
      "   ------------- -------------------------- 21.6/65.9 MB 1.2 MB/s eta 0:00:38\n",
      "   ------------- -------------------------- 21.6/65.9 MB 1.2 MB/s eta 0:00:38\n",
      "   ------------- -------------------------- 21.7/65.9 MB 1.2 MB/s eta 0:00:38\n",
      "   ------------- -------------------------- 21.8/65.9 MB 1.2 MB/s eta 0:00:38\n",
      "   ------------- -------------------------- 21.9/65.9 MB 1.2 MB/s eta 0:00:38\n",
      "   ------------- -------------------------- 21.9/65.9 MB 1.2 MB/s eta 0:00:38\n",
      "   ------------- -------------------------- 22.0/65.9 MB 1.2 MB/s eta 0:00:37\n",
      "   ------------- -------------------------- 22.2/65.9 MB 1.2 MB/s eta 0:00:37\n",
      "   ------------- -------------------------- 22.2/65.9 MB 1.2 MB/s eta 0:00:37\n",
      "   ------------- -------------------------- 22.3/65.9 MB 1.2 MB/s eta 0:00:37\n",
      "   ------------- -------------------------- 22.4/65.9 MB 1.2 MB/s eta 0:00:37\n",
      "   ------------- -------------------------- 22.4/65.9 MB 1.2 MB/s eta 0:00:37\n",
      "   ------------- -------------------------- 22.5/65.9 MB 1.2 MB/s eta 0:00:37\n",
      "   ------------- -------------------------- 22.6/65.9 MB 1.2 MB/s eta 0:00:37\n",
      "   ------------- -------------------------- 22.7/65.9 MB 1.2 MB/s eta 0:00:37\n",
      "   ------------- -------------------------- 22.7/65.9 MB 1.2 MB/s eta 0:00:36\n",
      "   ------------- -------------------------- 22.8/65.9 MB 1.2 MB/s eta 0:00:36\n",
      "   ------------- -------------------------- 23.0/65.9 MB 1.2 MB/s eta 0:00:36\n",
      "   -------------- ------------------------- 23.1/65.9 MB 1.2 MB/s eta 0:00:36\n",
      "   -------------- ------------------------- 23.2/65.9 MB 1.2 MB/s eta 0:00:35\n",
      "   -------------- ------------------------- 23.2/65.9 MB 1.2 MB/s eta 0:00:35\n",
      "   -------------- ------------------------- 23.4/65.9 MB 1.2 MB/s eta 0:00:35\n",
      "   -------------- ------------------------- 23.6/65.9 MB 1.2 MB/s eta 0:00:35\n",
      "   -------------- ------------------------- 23.6/65.9 MB 1.2 MB/s eta 0:00:34\n",
      "   -------------- ------------------------- 23.7/65.9 MB 1.2 MB/s eta 0:00:35\n",
      "   -------------- ------------------------- 23.7/65.9 MB 1.2 MB/s eta 0:00:35\n",
      "   -------------- ------------------------- 23.9/65.9 MB 1.2 MB/s eta 0:00:35\n",
      "   -------------- ------------------------- 23.9/65.9 MB 1.2 MB/s eta 0:00:34\n",
      "   -------------- ------------------------- 24.0/65.9 MB 1.2 MB/s eta 0:00:35\n",
      "   -------------- ------------------------- 24.0/65.9 MB 1.2 MB/s eta 0:00:35\n",
      "   -------------- ------------------------- 24.1/65.9 MB 1.2 MB/s eta 0:00:35\n",
      "   -------------- ------------------------- 24.1/65.9 MB 1.2 MB/s eta 0:00:35\n",
      "   -------------- ------------------------- 24.1/65.9 MB 1.2 MB/s eta 0:00:35\n",
      "   -------------- ------------------------- 24.1/65.9 MB 1.2 MB/s eta 0:00:35\n",
      "   -------------- ------------------------- 24.2/65.9 MB 1.2 MB/s eta 0:00:35\n",
      "   -------------- ------------------------- 24.2/65.9 MB 1.2 MB/s eta 0:00:35\n",
      "   -------------- ------------------------- 24.2/65.9 MB 1.2 MB/s eta 0:00:35\n",
      "   -------------- ------------------------- 24.2/65.9 MB 1.2 MB/s eta 0:00:35\n",
      "   -------------- ------------------------- 24.3/65.9 MB 1.2 MB/s eta 0:00:35\n",
      "   -------------- ------------------------- 24.3/65.9 MB 1.2 MB/s eta 0:00:36\n",
      "   -------------- ------------------------- 24.3/65.9 MB 1.2 MB/s eta 0:00:36\n",
      "   -------------- ------------------------- 24.4/65.9 MB 1.2 MB/s eta 0:00:36\n",
      "   -------------- ------------------------- 24.4/65.9 MB 1.2 MB/s eta 0:00:36\n",
      "   -------------- ------------------------- 24.4/65.9 MB 1.2 MB/s eta 0:00:36\n",
      "   -------------- ------------------------- 24.4/65.9 MB 1.2 MB/s eta 0:00:36\n",
      "   -------------- ------------------------- 24.5/65.9 MB 1.2 MB/s eta 0:00:36\n",
      "   -------------- ------------------------- 24.5/65.9 MB 1.2 MB/s eta 0:00:36\n",
      "   -------------- ------------------------- 24.5/65.9 MB 1.2 MB/s eta 0:00:36\n",
      "   -------------- ------------------------- 24.5/65.9 MB 1.2 MB/s eta 0:00:36\n",
      "   -------------- ------------------------- 24.5/65.9 MB 1.2 MB/s eta 0:00:36\n",
      "   -------------- ------------------------- 24.5/65.9 MB 1.2 MB/s eta 0:00:36\n",
      "   -------------- ------------------------- 24.5/65.9 MB 1.1 MB/s eta 0:00:37\n",
      "   -------------- ------------------------- 24.6/65.9 MB 1.1 MB/s eta 0:00:37\n",
      "   -------------- ------------------------- 24.6/65.9 MB 1.1 MB/s eta 0:00:37\n",
      "   -------------- ------------------------- 24.6/65.9 MB 1.1 MB/s eta 0:00:37\n",
      "   -------------- ------------------------- 24.6/65.9 MB 1.1 MB/s eta 0:00:37\n",
      "   -------------- ------------------------- 24.7/65.9 MB 1.1 MB/s eta 0:00:37\n",
      "   -------------- ------------------------- 24.7/65.9 MB 1.1 MB/s eta 0:00:37\n",
      "   --------------- ------------------------ 24.7/65.9 MB 1.1 MB/s eta 0:00:37\n",
      "   --------------- ------------------------ 24.8/65.9 MB 1.1 MB/s eta 0:00:37\n",
      "   --------------- ------------------------ 24.8/65.9 MB 1.1 MB/s eta 0:00:38\n",
      "   --------------- ------------------------ 24.9/65.9 MB 1.1 MB/s eta 0:00:38\n",
      "   --------------- ------------------------ 24.9/65.9 MB 1.1 MB/s eta 0:00:38\n",
      "   --------------- ------------------------ 24.9/65.9 MB 1.1 MB/s eta 0:00:38\n",
      "   --------------- ------------------------ 25.0/65.9 MB 1.1 MB/s eta 0:00:38\n",
      "   --------------- ------------------------ 25.0/65.9 MB 1.1 MB/s eta 0:00:38\n",
      "   --------------- ------------------------ 25.0/65.9 MB 1.1 MB/s eta 0:00:38\n",
      "   --------------- ------------------------ 25.1/65.9 MB 1.1 MB/s eta 0:00:38\n",
      "   --------------- ------------------------ 25.1/65.9 MB 1.1 MB/s eta 0:00:38\n",
      "   --------------- ------------------------ 25.2/65.9 MB 1.1 MB/s eta 0:00:38\n",
      "   --------------- ------------------------ 25.2/65.9 MB 1.1 MB/s eta 0:00:38\n",
      "   --------------- ------------------------ 25.3/65.9 MB 1.1 MB/s eta 0:00:38\n",
      "   --------------- ------------------------ 25.3/65.9 MB 1.1 MB/s eta 0:00:38\n",
      "   --------------- ------------------------ 25.4/65.9 MB 1.1 MB/s eta 0:00:38\n",
      "   --------------- ------------------------ 25.4/65.9 MB 1.1 MB/s eta 0:00:38\n",
      "   --------------- ------------------------ 25.5/65.9 MB 1.1 MB/s eta 0:00:39\n",
      "   --------------- ------------------------ 25.5/65.9 MB 1.1 MB/s eta 0:00:38\n",
      "   --------------- ------------------------ 25.5/65.9 MB 1.1 MB/s eta 0:00:38\n",
      "   --------------- ------------------------ 25.5/65.9 MB 1.1 MB/s eta 0:00:39\n",
      "   --------------- ------------------------ 25.6/65.9 MB 1.1 MB/s eta 0:00:39\n",
      "   --------------- ------------------------ 25.6/65.9 MB 1.0 MB/s eta 0:00:39\n",
      "   --------------- ------------------------ 25.7/65.9 MB 1.0 MB/s eta 0:00:39\n",
      "   --------------- ------------------------ 25.7/65.9 MB 1.0 MB/s eta 0:00:39\n",
      "   --------------- ------------------------ 25.7/65.9 MB 1.0 MB/s eta 0:00:39\n",
      "   --------------- ------------------------ 25.7/65.9 MB 1.0 MB/s eta 0:00:39\n",
      "   --------------- ------------------------ 25.8/65.9 MB 1.0 MB/s eta 0:00:39\n",
      "   --------------- ------------------------ 25.8/65.9 MB 1.0 MB/s eta 0:00:39\n",
      "   --------------- ------------------------ 25.9/65.9 MB 1.0 MB/s eta 0:00:39\n",
      "   --------------- ------------------------ 26.0/65.9 MB 1.0 MB/s eta 0:00:39\n",
      "   --------------- ------------------------ 26.0/65.9 MB 1.0 MB/s eta 0:00:39\n",
      "   --------------- ------------------------ 26.1/65.9 MB 1.0 MB/s eta 0:00:39\n",
      "   --------------- ------------------------ 26.2/65.9 MB 1.0 MB/s eta 0:00:39\n",
      "   --------------- ------------------------ 26.2/65.9 MB 1.0 MB/s eta 0:00:39\n",
      "   --------------- ------------------------ 26.3/65.9 MB 1.0 MB/s eta 0:00:39\n",
      "   --------------- ------------------------ 26.3/65.9 MB 1.1 MB/s eta 0:00:38\n",
      "   --------------- ------------------------ 26.3/65.9 MB 1.1 MB/s eta 0:00:38\n",
      "   ---------------- ----------------------- 26.4/65.9 MB 1.0 MB/s eta 0:00:38\n",
      "   ---------------- ----------------------- 26.4/65.9 MB 1.1 MB/s eta 0:00:35\n",
      "   ---------------- ----------------------- 26.4/65.9 MB 1.1 MB/s eta 0:00:35\n",
      "   ---------------- ----------------------- 26.5/65.9 MB 1.1 MB/s eta 0:00:35\n",
      "   ---------------- ----------------------- 26.6/65.9 MB 1.1 MB/s eta 0:00:35\n",
      "   ---------------- ----------------------- 26.7/65.9 MB 1.2 MB/s eta 0:00:35\n",
      "   ---------------- ----------------------- 26.7/65.9 MB 1.1 MB/s eta 0:00:35\n",
      "   ---------------- ----------------------- 26.8/65.9 MB 1.2 MB/s eta 0:00:35\n",
      "   ---------------- ----------------------- 26.9/65.9 MB 1.1 MB/s eta 0:00:35\n",
      "   ---------------- ----------------------- 26.9/65.9 MB 1.1 MB/s eta 0:00:35\n",
      "   ---------------- ----------------------- 27.0/65.9 MB 1.1 MB/s eta 0:00:35\n",
      "   ---------------- ----------------------- 27.0/65.9 MB 1.1 MB/s eta 0:00:34\n",
      "   ---------------- ----------------------- 27.1/65.9 MB 1.1 MB/s eta 0:00:35\n",
      "   ---------------- ----------------------- 27.2/65.9 MB 1.1 MB/s eta 0:00:35\n",
      "   ---------------- ----------------------- 27.2/65.9 MB 1.1 MB/s eta 0:00:35\n",
      "   ---------------- ----------------------- 27.2/65.9 MB 1.1 MB/s eta 0:00:35\n",
      "   ---------------- ----------------------- 27.3/65.9 MB 1.1 MB/s eta 0:00:35\n",
      "   ---------------- ----------------------- 27.4/65.9 MB 1.1 MB/s eta 0:00:35\n",
      "   ---------------- ----------------------- 27.4/65.9 MB 1.1 MB/s eta 0:00:35\n",
      "   ---------------- ----------------------- 27.5/65.9 MB 1.1 MB/s eta 0:00:35\n",
      "   ---------------- ----------------------- 27.5/65.9 MB 1.1 MB/s eta 0:00:35\n",
      "   ---------------- ----------------------- 27.6/65.9 MB 1.1 MB/s eta 0:00:35\n",
      "   ---------------- ----------------------- 27.7/65.9 MB 1.1 MB/s eta 0:00:35\n",
      "   ---------------- ----------------------- 27.8/65.9 MB 1.1 MB/s eta 0:00:35\n",
      "   ---------------- ----------------------- 27.8/65.9 MB 1.1 MB/s eta 0:00:35\n",
      "   ---------------- ----------------------- 27.9/65.9 MB 1.1 MB/s eta 0:00:35\n",
      "   ---------------- ----------------------- 28.0/65.9 MB 1.1 MB/s eta 0:00:35\n",
      "   ----------------- ---------------------- 28.0/65.9 MB 1.1 MB/s eta 0:00:34\n",
      "   ----------------- ---------------------- 28.1/65.9 MB 1.1 MB/s eta 0:00:34\n",
      "   ----------------- ---------------------- 28.2/65.9 MB 1.1 MB/s eta 0:00:34\n",
      "   ----------------- ---------------------- 28.3/65.9 MB 1.1 MB/s eta 0:00:34\n",
      "   ----------------- ---------------------- 28.3/65.9 MB 1.1 MB/s eta 0:00:34\n",
      "   ----------------- ---------------------- 28.4/65.9 MB 1.1 MB/s eta 0:00:34\n",
      "   ----------------- ---------------------- 28.5/65.9 MB 1.1 MB/s eta 0:00:34\n",
      "   ----------------- ---------------------- 28.6/65.9 MB 1.1 MB/s eta 0:00:34\n",
      "   ----------------- ---------------------- 28.7/65.9 MB 1.1 MB/s eta 0:00:33\n",
      "   ----------------- ---------------------- 28.8/65.9 MB 1.2 MB/s eta 0:00:32\n",
      "   ----------------- ---------------------- 28.9/65.9 MB 1.3 MB/s eta 0:00:29\n",
      "   ----------------- ---------------------- 28.9/65.9 MB 1.3 MB/s eta 0:00:29\n",
      "   ----------------- ---------------------- 29.0/65.9 MB 1.3 MB/s eta 0:00:28\n",
      "   ----------------- ---------------------- 29.1/65.9 MB 1.3 MB/s eta 0:00:28\n",
      "   ----------------- ---------------------- 29.3/65.9 MB 1.3 MB/s eta 0:00:28\n",
      "   ----------------- ---------------------- 29.3/65.9 MB 1.3 MB/s eta 0:00:28\n",
      "   ----------------- ---------------------- 29.4/65.9 MB 1.3 MB/s eta 0:00:28\n",
      "   ----------------- ---------------------- 29.5/65.9 MB 1.3 MB/s eta 0:00:28\n",
      "   ----------------- ---------------------- 29.6/65.9 MB 1.3 MB/s eta 0:00:28\n",
      "   ----------------- ---------------------- 29.7/65.9 MB 1.3 MB/s eta 0:00:28\n",
      "   ------------------ --------------------- 29.7/65.9 MB 1.3 MB/s eta 0:00:28\n",
      "   ------------------ --------------------- 29.7/65.9 MB 1.3 MB/s eta 0:00:27\n",
      "   ------------------ --------------------- 29.9/65.9 MB 1.3 MB/s eta 0:00:27\n",
      "   ------------------ --------------------- 29.9/65.9 MB 1.3 MB/s eta 0:00:27\n",
      "   ------------------ --------------------- 30.1/65.9 MB 1.3 MB/s eta 0:00:27\n",
      "   ------------------ --------------------- 30.1/65.9 MB 1.3 MB/s eta 0:00:27\n",
      "   ------------------ --------------------- 30.2/65.9 MB 1.3 MB/s eta 0:00:27\n",
      "   ------------------ --------------------- 30.3/65.9 MB 1.3 MB/s eta 0:00:27\n",
      "   ------------------ --------------------- 30.4/65.9 MB 1.3 MB/s eta 0:00:27\n",
      "   ------------------ --------------------- 30.5/65.9 MB 1.3 MB/s eta 0:00:27\n",
      "   ------------------ --------------------- 30.6/65.9 MB 1.3 MB/s eta 0:00:27\n",
      "   ------------------ --------------------- 30.6/65.9 MB 1.3 MB/s eta 0:00:27\n",
      "   ------------------ --------------------- 30.7/65.9 MB 1.3 MB/s eta 0:00:27\n",
      "   ------------------ --------------------- 30.8/65.9 MB 1.3 MB/s eta 0:00:27\n",
      "   ------------------ --------------------- 30.9/65.9 MB 1.3 MB/s eta 0:00:27\n",
      "   ------------------ --------------------- 31.0/65.9 MB 1.3 MB/s eta 0:00:27\n",
      "   ------------------ --------------------- 31.1/65.9 MB 1.3 MB/s eta 0:00:27\n",
      "   ------------------ --------------------- 31.2/65.9 MB 1.3 MB/s eta 0:00:27\n",
      "   ------------------ --------------------- 31.2/65.9 MB 1.3 MB/s eta 0:00:27\n",
      "   ------------------- -------------------- 31.4/65.9 MB 1.3 MB/s eta 0:00:27\n",
      "   ------------------- -------------------- 31.4/65.9 MB 1.3 MB/s eta 0:00:27\n",
      "   ------------------- -------------------- 31.6/65.9 MB 1.3 MB/s eta 0:00:27\n",
      "   ------------------- -------------------- 31.7/65.9 MB 1.3 MB/s eta 0:00:26\n",
      "   ------------------- -------------------- 31.8/65.9 MB 1.3 MB/s eta 0:00:26\n",
      "   ------------------- -------------------- 31.8/65.9 MB 1.3 MB/s eta 0:00:26\n",
      "   ------------------- -------------------- 31.9/65.9 MB 1.3 MB/s eta 0:00:26\n",
      "   ------------------- -------------------- 32.0/65.9 MB 1.3 MB/s eta 0:00:26\n",
      "   ------------------- -------------------- 32.1/65.9 MB 1.3 MB/s eta 0:00:26\n",
      "   ------------------- -------------------- 32.2/65.9 MB 1.3 MB/s eta 0:00:26\n",
      "   ------------------- -------------------- 32.3/65.9 MB 1.3 MB/s eta 0:00:26\n",
      "   ------------------- -------------------- 32.4/65.9 MB 1.3 MB/s eta 0:00:26\n",
      "   ------------------- -------------------- 32.6/65.9 MB 1.3 MB/s eta 0:00:26\n",
      "   ------------------- -------------------- 32.7/65.9 MB 1.3 MB/s eta 0:00:25\n",
      "   ------------------- -------------------- 32.8/65.9 MB 1.3 MB/s eta 0:00:25\n",
      "   ------------------- -------------------- 32.9/65.9 MB 1.3 MB/s eta 0:00:25\n",
      "   ------------------- -------------------- 32.9/65.9 MB 1.3 MB/s eta 0:00:25\n",
      "   -------------------- ------------------- 33.0/65.9 MB 1.3 MB/s eta 0:00:25\n",
      "   -------------------- ------------------- 33.1/65.9 MB 1.3 MB/s eta 0:00:25\n",
      "   -------------------- ------------------- 33.2/65.9 MB 1.3 MB/s eta 0:00:25\n",
      "   -------------------- ------------------- 33.3/65.9 MB 1.3 MB/s eta 0:00:25\n",
      "   -------------------- ------------------- 33.4/65.9 MB 1.3 MB/s eta 0:00:25\n",
      "   -------------------- ------------------- 33.5/65.9 MB 1.3 MB/s eta 0:00:25\n",
      "   -------------------- ------------------- 33.6/65.9 MB 1.3 MB/s eta 0:00:25\n",
      "   -------------------- ------------------- 33.6/65.9 MB 1.3 MB/s eta 0:00:25\n",
      "   -------------------- ------------------- 33.8/65.9 MB 1.3 MB/s eta 0:00:25\n",
      "   -------------------- ------------------- 33.8/65.9 MB 1.3 MB/s eta 0:00:25\n",
      "   -------------------- ------------------- 33.9/65.9 MB 1.3 MB/s eta 0:00:25\n",
      "   -------------------- ------------------- 33.9/65.9 MB 1.3 MB/s eta 0:00:25\n",
      "   -------------------- ------------------- 33.9/65.9 MB 1.3 MB/s eta 0:00:25\n",
      "   -------------------- ------------------- 34.0/65.9 MB 1.3 MB/s eta 0:00:25\n",
      "   -------------------- ------------------- 34.0/65.9 MB 1.3 MB/s eta 0:00:25\n",
      "   -------------------- ------------------- 34.1/65.9 MB 1.3 MB/s eta 0:00:25\n",
      "   -------------------- ------------------- 34.2/65.9 MB 1.3 MB/s eta 0:00:25\n",
      "   -------------------- ------------------- 34.3/65.9 MB 1.3 MB/s eta 0:00:25\n",
      "   -------------------- ------------------- 34.4/65.9 MB 1.3 MB/s eta 0:00:24\n",
      "   -------------------- ------------------- 34.6/65.9 MB 1.4 MB/s eta 0:00:24\n",
      "   --------------------- ------------------ 34.7/65.9 MB 1.4 MB/s eta 0:00:23\n",
      "   --------------------- ------------------ 34.8/65.9 MB 1.4 MB/s eta 0:00:22\n",
      "   --------------------- ------------------ 34.9/65.9 MB 1.5 MB/s eta 0:00:22\n",
      "   --------------------- ------------------ 35.0/65.9 MB 1.5 MB/s eta 0:00:21\n",
      "   --------------------- ------------------ 35.2/65.9 MB 1.5 MB/s eta 0:00:21\n",
      "   --------------------- ------------------ 35.4/65.9 MB 1.5 MB/s eta 0:00:20\n",
      "   --------------------- ------------------ 35.5/65.9 MB 1.6 MB/s eta 0:00:20\n",
      "   --------------------- ------------------ 35.6/65.9 MB 1.6 MB/s eta 0:00:20\n",
      "   --------------------- ------------------ 35.7/65.9 MB 1.6 MB/s eta 0:00:20\n",
      "   --------------------- ------------------ 35.8/65.9 MB 1.6 MB/s eta 0:00:19\n",
      "   --------------------- ------------------ 35.9/65.9 MB 1.6 MB/s eta 0:00:19\n",
      "   --------------------- ------------------ 36.0/65.9 MB 1.7 MB/s eta 0:00:19\n",
      "   --------------------- ------------------ 36.1/65.9 MB 1.7 MB/s eta 0:00:18\n",
      "   --------------------- ------------------ 36.2/65.9 MB 1.7 MB/s eta 0:00:18\n",
      "   --------------------- ------------------ 36.2/65.9 MB 1.6 MB/s eta 0:00:19\n",
      "   ---------------------- ----------------- 36.3/65.9 MB 1.7 MB/s eta 0:00:18\n",
      "   ---------------------- ----------------- 36.4/65.9 MB 1.7 MB/s eta 0:00:18\n",
      "   ---------------------- ----------------- 36.5/65.9 MB 1.7 MB/s eta 0:00:18\n",
      "   ---------------------- ----------------- 36.6/65.9 MB 1.7 MB/s eta 0:00:18\n",
      "   ---------------------- ----------------- 36.7/65.9 MB 1.7 MB/s eta 0:00:17\n",
      "   ---------------------- ----------------- 36.8/65.9 MB 1.7 MB/s eta 0:00:17\n",
      "   ---------------------- ----------------- 36.9/65.9 MB 1.7 MB/s eta 0:00:17\n",
      "   ---------------------- ----------------- 37.0/65.9 MB 1.7 MB/s eta 0:00:17\n",
      "   ---------------------- ----------------- 37.1/65.9 MB 1.8 MB/s eta 0:00:17\n",
      "   ---------------------- ----------------- 37.3/65.9 MB 1.8 MB/s eta 0:00:17\n",
      "   ---------------------- ----------------- 37.4/65.9 MB 1.8 MB/s eta 0:00:16\n",
      "   ---------------------- ----------------- 37.5/65.9 MB 1.8 MB/s eta 0:00:16\n",
      "   ---------------------- ----------------- 37.7/65.9 MB 1.8 MB/s eta 0:00:16\n",
      "   ---------------------- ----------------- 37.7/65.9 MB 1.8 MB/s eta 0:00:16\n",
      "   ---------------------- ----------------- 37.7/65.9 MB 1.8 MB/s eta 0:00:16\n",
      "   ---------------------- ----------------- 37.8/65.9 MB 1.8 MB/s eta 0:00:16\n",
      "   ---------------------- ----------------- 37.8/65.9 MB 1.8 MB/s eta 0:00:16\n",
      "   ---------------------- ----------------- 37.8/65.9 MB 1.8 MB/s eta 0:00:16\n",
      "   ----------------------- ---------------- 37.9/65.9 MB 1.8 MB/s eta 0:00:16\n",
      "   ----------------------- ---------------- 37.9/65.9 MB 1.8 MB/s eta 0:00:16\n",
      "   ----------------------- ---------------- 38.0/65.9 MB 1.8 MB/s eta 0:00:16\n",
      "   ----------------------- ---------------- 38.0/65.9 MB 1.8 MB/s eta 0:00:16\n",
      "   ----------------------- ---------------- 38.0/65.9 MB 1.8 MB/s eta 0:00:16\n",
      "   ----------------------- ---------------- 38.1/65.9 MB 1.8 MB/s eta 0:00:16\n",
      "   ----------------------- ---------------- 38.1/65.9 MB 1.8 MB/s eta 0:00:16\n",
      "   ----------------------- ---------------- 38.2/65.9 MB 1.8 MB/s eta 0:00:16\n",
      "   ----------------------- ---------------- 38.2/65.9 MB 1.7 MB/s eta 0:00:16\n",
      "   ----------------------- ---------------- 38.2/65.9 MB 1.7 MB/s eta 0:00:16\n",
      "   ----------------------- ---------------- 38.3/65.9 MB 1.7 MB/s eta 0:00:16\n",
      "   ----------------------- ---------------- 38.3/65.9 MB 1.7 MB/s eta 0:00:16\n",
      "   ----------------------- ---------------- 38.4/65.9 MB 1.7 MB/s eta 0:00:17\n",
      "   ----------------------- ---------------- 38.4/65.9 MB 1.7 MB/s eta 0:00:17\n",
      "   ----------------------- ---------------- 38.5/65.9 MB 1.7 MB/s eta 0:00:17\n",
      "   ----------------------- ---------------- 38.5/65.9 MB 1.7 MB/s eta 0:00:17\n",
      "   ----------------------- ---------------- 38.6/65.9 MB 1.7 MB/s eta 0:00:17\n",
      "   ----------------------- ---------------- 38.6/65.9 MB 1.7 MB/s eta 0:00:17\n",
      "   ----------------------- ---------------- 38.7/65.9 MB 1.7 MB/s eta 0:00:17\n",
      "   ----------------------- ---------------- 38.7/65.9 MB 1.7 MB/s eta 0:00:17\n",
      "   ----------------------- ---------------- 38.8/65.9 MB 1.7 MB/s eta 0:00:17\n",
      "   ----------------------- ---------------- 38.8/65.9 MB 1.7 MB/s eta 0:00:17\n",
      "   ----------------------- ---------------- 38.9/65.9 MB 1.7 MB/s eta 0:00:17\n",
      "   ----------------------- ---------------- 39.0/65.9 MB 1.7 MB/s eta 0:00:17\n",
      "   ----------------------- ---------------- 39.0/65.9 MB 1.7 MB/s eta 0:00:17\n",
      "   ----------------------- ---------------- 39.1/65.9 MB 1.6 MB/s eta 0:00:17\n",
      "   ----------------------- ---------------- 39.1/65.9 MB 1.6 MB/s eta 0:00:17\n",
      "   ----------------------- ---------------- 39.2/65.9 MB 1.6 MB/s eta 0:00:17\n",
      "   ----------------------- ---------------- 39.3/65.9 MB 1.6 MB/s eta 0:00:17\n",
      "   ----------------------- ---------------- 39.3/65.9 MB 1.6 MB/s eta 0:00:17\n",
      "   ----------------------- ---------------- 39.4/65.9 MB 1.6 MB/s eta 0:00:17\n",
      "   ----------------------- ---------------- 39.5/65.9 MB 1.6 MB/s eta 0:00:17\n",
      "   ----------------------- ---------------- 39.5/65.9 MB 1.6 MB/s eta 0:00:17\n",
      "   ------------------------ --------------- 39.6/65.9 MB 1.6 MB/s eta 0:00:17\n",
      "   ------------------------ --------------- 39.6/65.9 MB 1.6 MB/s eta 0:00:17\n",
      "   ------------------------ --------------- 39.7/65.9 MB 1.6 MB/s eta 0:00:17\n",
      "   ------------------------ --------------- 39.8/65.9 MB 1.6 MB/s eta 0:00:17\n",
      "   ------------------------ --------------- 39.8/65.9 MB 1.6 MB/s eta 0:00:17\n",
      "   ------------------------ --------------- 39.9/65.9 MB 1.6 MB/s eta 0:00:17\n",
      "   ------------------------ --------------- 39.9/65.9 MB 1.6 MB/s eta 0:00:17\n",
      "   ------------------------ --------------- 40.0/65.9 MB 1.6 MB/s eta 0:00:17\n",
      "   ------------------------ --------------- 40.1/65.9 MB 1.6 MB/s eta 0:00:17\n",
      "   ------------------------ --------------- 40.1/65.9 MB 1.6 MB/s eta 0:00:17\n",
      "   ------------------------ --------------- 40.2/65.9 MB 1.6 MB/s eta 0:00:17\n",
      "   ------------------------ --------------- 40.3/65.9 MB 1.6 MB/s eta 0:00:17\n",
      "   ------------------------ --------------- 40.3/65.9 MB 1.6 MB/s eta 0:00:17\n",
      "   ------------------------ --------------- 40.3/65.9 MB 1.6 MB/s eta 0:00:17\n",
      "   ------------------------ --------------- 40.4/65.9 MB 1.6 MB/s eta 0:00:17\n",
      "   ------------------------ --------------- 40.4/65.9 MB 1.6 MB/s eta 0:00:17\n",
      "   ------------------------ --------------- 40.5/65.9 MB 1.6 MB/s eta 0:00:17\n",
      "   ------------------------ --------------- 40.5/65.9 MB 1.6 MB/s eta 0:00:17\n",
      "   ------------------------ --------------- 40.5/65.9 MB 1.5 MB/s eta 0:00:17\n",
      "   ------------------------ --------------- 40.5/65.9 MB 1.5 MB/s eta 0:00:17\n",
      "   ------------------------ --------------- 40.5/65.9 MB 1.5 MB/s eta 0:00:17\n",
      "   ------------------------ --------------- 40.5/65.9 MB 1.5 MB/s eta 0:00:17\n",
      "   ------------------------ --------------- 40.6/65.9 MB 1.5 MB/s eta 0:00:17\n",
      "   ------------------------ --------------- 40.7/65.9 MB 1.5 MB/s eta 0:00:17\n",
      "   ------------------------ --------------- 40.7/65.9 MB 1.5 MB/s eta 0:00:17\n",
      "   ------------------------ --------------- 40.8/65.9 MB 1.5 MB/s eta 0:00:17\n",
      "   ------------------------ --------------- 40.9/65.9 MB 1.5 MB/s eta 0:00:17\n",
      "   ------------------------ --------------- 40.9/65.9 MB 1.5 MB/s eta 0:00:17\n",
      "   ------------------------ --------------- 41.0/65.9 MB 1.5 MB/s eta 0:00:17\n",
      "   ------------------------ --------------- 41.0/65.9 MB 1.5 MB/s eta 0:00:17\n",
      "   ------------------------ --------------- 41.1/65.9 MB 1.5 MB/s eta 0:00:17\n",
      "   ------------------------ --------------- 41.1/65.9 MB 1.5 MB/s eta 0:00:17\n",
      "   ------------------------ --------------- 41.2/65.9 MB 1.5 MB/s eta 0:00:17\n",
      "   ------------------------- -------------- 41.3/65.9 MB 1.5 MB/s eta 0:00:17\n",
      "   ------------------------- -------------- 41.3/65.9 MB 1.5 MB/s eta 0:00:17\n",
      "   ------------------------- -------------- 41.4/65.9 MB 1.5 MB/s eta 0:00:17\n",
      "   ------------------------- -------------- 41.4/65.9 MB 1.5 MB/s eta 0:00:17\n",
      "   ------------------------- -------------- 41.5/65.9 MB 1.4 MB/s eta 0:00:17\n",
      "   ------------------------- -------------- 41.6/65.9 MB 1.4 MB/s eta 0:00:17\n",
      "   ------------------------- -------------- 41.7/65.9 MB 1.4 MB/s eta 0:00:17\n",
      "   ------------------------- -------------- 41.7/65.9 MB 1.4 MB/s eta 0:00:17\n",
      "   ------------------------- -------------- 41.9/65.9 MB 1.4 MB/s eta 0:00:17\n",
      "   ------------------------- -------------- 41.9/65.9 MB 1.4 MB/s eta 0:00:17\n",
      "   ------------------------- -------------- 42.0/65.9 MB 1.4 MB/s eta 0:00:17\n",
      "   ------------------------- -------------- 42.0/65.9 MB 1.4 MB/s eta 0:00:17\n",
      "   ------------------------- -------------- 42.1/65.9 MB 1.4 MB/s eta 0:00:17\n",
      "   ------------------------- -------------- 42.2/65.9 MB 1.4 MB/s eta 0:00:17\n",
      "   ------------------------- -------------- 42.3/65.9 MB 1.4 MB/s eta 0:00:17\n",
      "   ------------------------- -------------- 42.4/65.9 MB 1.4 MB/s eta 0:00:17\n",
      "   ------------------------- -------------- 42.5/65.9 MB 1.4 MB/s eta 0:00:17\n",
      "   ------------------------- -------------- 42.6/65.9 MB 1.4 MB/s eta 0:00:17\n",
      "   ------------------------- -------------- 42.7/65.9 MB 1.4 MB/s eta 0:00:17\n",
      "   ------------------------- -------------- 42.7/65.9 MB 1.4 MB/s eta 0:00:17\n",
      "   ------------------------- -------------- 42.8/65.9 MB 1.4 MB/s eta 0:00:17\n",
      "   ------------------------- -------------- 42.8/65.9 MB 1.4 MB/s eta 0:00:17\n",
      "   -------------------------- ------------- 42.9/65.9 MB 1.4 MB/s eta 0:00:17\n",
      "   -------------------------- ------------- 43.0/65.9 MB 1.4 MB/s eta 0:00:17\n",
      "   -------------------------- ------------- 43.0/65.9 MB 1.4 MB/s eta 0:00:17\n",
      "   -------------------------- ------------- 43.1/65.9 MB 1.4 MB/s eta 0:00:17\n",
      "   -------------------------- ------------- 43.1/65.9 MB 1.4 MB/s eta 0:00:17\n",
      "   -------------------------- ------------- 43.2/65.9 MB 1.4 MB/s eta 0:00:17\n",
      "   -------------------------- ------------- 43.3/65.9 MB 1.4 MB/s eta 0:00:17\n",
      "   -------------------------- ------------- 43.4/65.9 MB 1.4 MB/s eta 0:00:17\n",
      "   -------------------------- ------------- 43.5/65.9 MB 1.4 MB/s eta 0:00:17\n",
      "   -------------------------- ------------- 43.5/65.9 MB 1.4 MB/s eta 0:00:17\n",
      "   -------------------------- ------------- 43.6/65.9 MB 1.4 MB/s eta 0:00:17\n",
      "   -------------------------- ------------- 43.6/65.9 MB 1.4 MB/s eta 0:00:17\n",
      "   -------------------------- ------------- 43.7/65.9 MB 1.4 MB/s eta 0:00:17\n",
      "   -------------------------- ------------- 43.7/65.9 MB 1.4 MB/s eta 0:00:17\n",
      "   -------------------------- ------------- 43.8/65.9 MB 1.4 MB/s eta 0:00:17\n",
      "   -------------------------- ------------- 43.8/65.9 MB 1.4 MB/s eta 0:00:17\n",
      "   -------------------------- ------------- 43.8/65.9 MB 1.4 MB/s eta 0:00:17\n",
      "   -------------------------- ------------- 43.8/65.9 MB 1.4 MB/s eta 0:00:17\n",
      "   -------------------------- ------------- 43.9/65.9 MB 1.3 MB/s eta 0:00:17\n",
      "   -------------------------- ------------- 44.0/65.9 MB 1.3 MB/s eta 0:00:17\n",
      "   -------------------------- ------------- 44.0/65.9 MB 1.3 MB/s eta 0:00:17\n",
      "   -------------------------- ------------- 44.0/65.9 MB 1.3 MB/s eta 0:00:17\n",
      "   -------------------------- ------------- 44.0/65.9 MB 1.3 MB/s eta 0:00:17\n",
      "   -------------------------- ------------- 44.1/65.9 MB 1.3 MB/s eta 0:00:17\n",
      "   -------------------------- ------------- 44.2/65.9 MB 1.3 MB/s eta 0:00:17\n",
      "   -------------------------- ------------- 44.2/65.9 MB 1.3 MB/s eta 0:00:17\n",
      "   -------------------------- ------------- 44.2/65.9 MB 1.3 MB/s eta 0:00:17\n",
      "   -------------------------- ------------- 44.3/65.9 MB 1.3 MB/s eta 0:00:17\n",
      "   -------------------------- ------------- 44.3/65.9 MB 1.3 MB/s eta 0:00:17\n",
      "   -------------------------- ------------- 44.4/65.9 MB 1.3 MB/s eta 0:00:17\n",
      "   -------------------------- ------------- 44.4/65.9 MB 1.3 MB/s eta 0:00:17\n",
      "   -------------------------- ------------- 44.5/65.9 MB 1.3 MB/s eta 0:00:17\n",
      "   --------------------------- ------------ 44.6/65.9 MB 1.3 MB/s eta 0:00:17\n",
      "   --------------------------- ------------ 44.6/65.9 MB 1.3 MB/s eta 0:00:17\n",
      "   --------------------------- ------------ 44.7/65.9 MB 1.3 MB/s eta 0:00:17\n",
      "   --------------------------- ------------ 44.7/65.9 MB 1.3 MB/s eta 0:00:17\n",
      "   --------------------------- ------------ 44.8/65.9 MB 1.3 MB/s eta 0:00:17\n",
      "   --------------------------- ------------ 44.9/65.9 MB 1.3 MB/s eta 0:00:17\n",
      "   --------------------------- ------------ 44.9/65.9 MB 1.3 MB/s eta 0:00:17\n",
      "   --------------------------- ------------ 45.0/65.9 MB 1.3 MB/s eta 0:00:16\n",
      "   --------------------------- ------------ 45.1/65.9 MB 1.3 MB/s eta 0:00:16\n",
      "   --------------------------- ------------ 45.1/65.9 MB 1.3 MB/s eta 0:00:16\n",
      "   --------------------------- ------------ 45.2/65.9 MB 1.3 MB/s eta 0:00:16\n",
      "   --------------------------- ------------ 45.3/65.9 MB 1.3 MB/s eta 0:00:16\n",
      "   --------------------------- ------------ 45.3/65.9 MB 1.3 MB/s eta 0:00:16\n",
      "   --------------------------- ------------ 45.4/65.9 MB 1.3 MB/s eta 0:00:16\n",
      "   --------------------------- ------------ 45.5/65.9 MB 1.3 MB/s eta 0:00:16\n",
      "   --------------------------- ------------ 45.5/65.9 MB 1.3 MB/s eta 0:00:16\n",
      "   --------------------------- ------------ 45.6/65.9 MB 1.3 MB/s eta 0:00:16\n",
      "   --------------------------- ------------ 45.7/65.9 MB 1.3 MB/s eta 0:00:16\n",
      "   --------------------------- ------------ 45.8/65.9 MB 1.3 MB/s eta 0:00:16\n",
      "   --------------------------- ------------ 45.9/65.9 MB 1.3 MB/s eta 0:00:16\n",
      "   --------------------------- ------------ 45.9/65.9 MB 1.3 MB/s eta 0:00:16\n",
      "   --------------------------- ------------ 45.9/65.9 MB 1.3 MB/s eta 0:00:16\n",
      "   --------------------------- ------------ 46.0/65.9 MB 1.3 MB/s eta 0:00:16\n",
      "   --------------------------- ------------ 46.0/65.9 MB 1.3 MB/s eta 0:00:16\n",
      "   --------------------------- ------------ 46.1/65.9 MB 1.3 MB/s eta 0:00:16\n",
      "   ---------------------------- ----------- 46.2/65.9 MB 1.3 MB/s eta 0:00:16\n",
      "   ---------------------------- ----------- 46.3/65.9 MB 1.3 MB/s eta 0:00:16\n",
      "   ---------------------------- ----------- 46.3/65.9 MB 1.3 MB/s eta 0:00:16\n",
      "   ---------------------------- ----------- 46.5/65.9 MB 1.3 MB/s eta 0:00:16\n",
      "   ---------------------------- ----------- 46.5/65.9 MB 1.3 MB/s eta 0:00:16\n",
      "   ---------------------------- ----------- 46.6/65.9 MB 1.3 MB/s eta 0:00:16\n",
      "   ---------------------------- ----------- 46.7/65.9 MB 1.3 MB/s eta 0:00:16\n",
      "   ---------------------------- ----------- 46.7/65.9 MB 1.3 MB/s eta 0:00:16\n",
      "   ---------------------------- ----------- 46.8/65.9 MB 1.3 MB/s eta 0:00:16\n",
      "   ---------------------------- ----------- 46.9/65.9 MB 1.3 MB/s eta 0:00:16\n",
      "   ---------------------------- ----------- 46.9/65.9 MB 1.3 MB/s eta 0:00:16\n",
      "   ---------------------------- ----------- 47.0/65.9 MB 1.3 MB/s eta 0:00:16\n",
      "   ---------------------------- ----------- 47.1/65.9 MB 1.3 MB/s eta 0:00:15\n",
      "   ---------------------------- ----------- 47.1/65.9 MB 1.3 MB/s eta 0:00:16\n",
      "   ---------------------------- ----------- 47.2/65.9 MB 1.3 MB/s eta 0:00:15\n",
      "   ---------------------------- ----------- 47.3/65.9 MB 1.2 MB/s eta 0:00:15\n",
      "   ---------------------------- ----------- 47.3/65.9 MB 1.2 MB/s eta 0:00:15\n",
      "   ---------------------------- ----------- 47.4/65.9 MB 1.2 MB/s eta 0:00:15\n",
      "   ---------------------------- ----------- 47.5/65.9 MB 1.2 MB/s eta 0:00:15\n",
      "   ---------------------------- ----------- 47.6/65.9 MB 1.2 MB/s eta 0:00:15\n",
      "   ---------------------------- ----------- 47.7/65.9 MB 1.2 MB/s eta 0:00:15\n",
      "   ---------------------------- ----------- 47.7/65.9 MB 1.2 MB/s eta 0:00:15\n",
      "   ---------------------------- ----------- 47.8/65.9 MB 1.2 MB/s eta 0:00:15\n",
      "   ----------------------------- ---------- 47.8/65.9 MB 1.2 MB/s eta 0:00:15\n",
      "   ----------------------------- ---------- 47.9/65.9 MB 1.2 MB/s eta 0:00:15\n",
      "   ----------------------------- ---------- 48.0/65.9 MB 1.2 MB/s eta 0:00:15\n",
      "   ----------------------------- ---------- 48.1/65.9 MB 1.2 MB/s eta 0:00:15\n",
      "   ----------------------------- ---------- 48.2/65.9 MB 1.3 MB/s eta 0:00:15\n",
      "   ----------------------------- ---------- 48.3/65.9 MB 1.3 MB/s eta 0:00:14\n",
      "   ----------------------------- ---------- 48.4/65.9 MB 1.3 MB/s eta 0:00:14\n",
      "   ----------------------------- ---------- 48.4/65.9 MB 1.3 MB/s eta 0:00:14\n",
      "   ----------------------------- ---------- 48.5/65.9 MB 1.3 MB/s eta 0:00:14\n",
      "   ----------------------------- ---------- 48.5/65.9 MB 1.3 MB/s eta 0:00:14\n",
      "   ----------------------------- ---------- 48.6/65.9 MB 1.3 MB/s eta 0:00:14\n",
      "   ----------------------------- ---------- 48.7/65.9 MB 1.3 MB/s eta 0:00:14\n",
      "   ----------------------------- ---------- 48.8/65.9 MB 1.3 MB/s eta 0:00:14\n",
      "   ----------------------------- ---------- 48.9/65.9 MB 1.3 MB/s eta 0:00:13\n",
      "   ----------------------------- ---------- 48.9/65.9 MB 1.3 MB/s eta 0:00:13\n",
      "   ----------------------------- ---------- 49.0/65.9 MB 1.3 MB/s eta 0:00:13\n",
      "   ----------------------------- ---------- 49.1/65.9 MB 1.3 MB/s eta 0:00:13\n",
      "   ----------------------------- ---------- 49.2/65.9 MB 1.3 MB/s eta 0:00:13\n",
      "   ----------------------------- ---------- 49.3/65.9 MB 1.3 MB/s eta 0:00:13\n",
      "   ----------------------------- ---------- 49.4/65.9 MB 1.3 MB/s eta 0:00:13\n",
      "   ------------------------------ --------- 49.5/65.9 MB 1.3 MB/s eta 0:00:13\n",
      "   ------------------------------ --------- 49.6/65.9 MB 1.3 MB/s eta 0:00:13\n",
      "   ------------------------------ --------- 49.7/65.9 MB 1.4 MB/s eta 0:00:13\n",
      "   ------------------------------ --------- 49.7/65.9 MB 1.4 MB/s eta 0:00:13\n",
      "   ------------------------------ --------- 49.8/65.9 MB 1.3 MB/s eta 0:00:12\n",
      "   ------------------------------ --------- 49.9/65.9 MB 1.4 MB/s eta 0:00:12\n",
      "   ------------------------------ --------- 50.0/65.9 MB 1.4 MB/s eta 0:00:12\n",
      "   ------------------------------ --------- 50.0/65.9 MB 1.4 MB/s eta 0:00:12\n",
      "   ------------------------------ --------- 50.1/65.9 MB 1.4 MB/s eta 0:00:12\n",
      "   ------------------------------ --------- 50.2/65.9 MB 1.4 MB/s eta 0:00:12\n",
      "   ------------------------------ --------- 50.3/65.9 MB 1.4 MB/s eta 0:00:12\n",
      "   ------------------------------ --------- 50.3/65.9 MB 1.4 MB/s eta 0:00:12\n",
      "   ------------------------------ --------- 50.4/65.9 MB 1.4 MB/s eta 0:00:12\n",
      "   ------------------------------ --------- 50.5/65.9 MB 1.4 MB/s eta 0:00:12\n",
      "   ------------------------------ --------- 50.6/65.9 MB 1.4 MB/s eta 0:00:12\n",
      "   ------------------------------ --------- 50.6/65.9 MB 1.4 MB/s eta 0:00:12\n",
      "   ------------------------------ --------- 50.7/65.9 MB 1.4 MB/s eta 0:00:11\n",
      "   ------------------------------ --------- 50.9/65.9 MB 1.4 MB/s eta 0:00:11\n",
      "   ------------------------------ --------- 50.9/65.9 MB 1.4 MB/s eta 0:00:11\n",
      "   ------------------------------ --------- 51.0/65.9 MB 1.4 MB/s eta 0:00:11\n",
      "   ------------------------------- -------- 51.1/65.9 MB 1.4 MB/s eta 0:00:11\n",
      "   ------------------------------- -------- 51.2/65.9 MB 1.5 MB/s eta 0:00:11\n",
      "   ------------------------------- -------- 51.3/65.9 MB 1.5 MB/s eta 0:00:10\n",
      "   ------------------------------- -------- 51.4/65.9 MB 1.5 MB/s eta 0:00:10\n",
      "   ------------------------------- -------- 51.5/65.9 MB 1.5 MB/s eta 0:00:10\n",
      "   ------------------------------- -------- 51.6/65.9 MB 1.5 MB/s eta 0:00:10\n",
      "   ------------------------------- -------- 51.7/65.9 MB 1.5 MB/s eta 0:00:10\n",
      "   ------------------------------- -------- 51.7/65.9 MB 1.5 MB/s eta 0:00:10\n",
      "   ------------------------------- -------- 51.8/65.9 MB 1.5 MB/s eta 0:00:10\n",
      "   ------------------------------- -------- 52.0/65.9 MB 1.5 MB/s eta 0:00:10\n",
      "   ------------------------------- -------- 52.0/65.9 MB 1.5 MB/s eta 0:00:10\n",
      "   ------------------------------- -------- 52.2/65.9 MB 1.5 MB/s eta 0:00:10\n",
      "   ------------------------------- -------- 52.4/65.9 MB 1.5 MB/s eta 0:00:09\n",
      "   ------------------------------- -------- 52.4/65.9 MB 1.5 MB/s eta 0:00:09\n",
      "   ------------------------------- -------- 52.5/65.9 MB 1.5 MB/s eta 0:00:09\n",
      "   ------------------------------- -------- 52.5/65.9 MB 1.5 MB/s eta 0:00:09\n",
      "   ------------------------------- -------- 52.6/65.9 MB 1.5 MB/s eta 0:00:09\n",
      "   ------------------------------- -------- 52.7/65.9 MB 1.5 MB/s eta 0:00:09\n",
      "   -------------------------------- ------- 52.9/65.9 MB 1.5 MB/s eta 0:00:09\n",
      "   -------------------------------- ------- 53.0/65.9 MB 1.5 MB/s eta 0:00:09\n",
      "   -------------------------------- ------- 53.0/65.9 MB 1.5 MB/s eta 0:00:09\n",
      "   -------------------------------- ------- 53.2/65.9 MB 1.6 MB/s eta 0:00:09\n",
      "   -------------------------------- ------- 53.3/65.9 MB 1.6 MB/s eta 0:00:09\n",
      "   -------------------------------- ------- 53.4/65.9 MB 1.6 MB/s eta 0:00:09\n",
      "   -------------------------------- ------- 53.5/65.9 MB 1.6 MB/s eta 0:00:08\n",
      "   -------------------------------- ------- 53.6/65.9 MB 1.6 MB/s eta 0:00:08\n",
      "   -------------------------------- ------- 53.7/65.9 MB 1.6 MB/s eta 0:00:08\n",
      "   -------------------------------- ------- 53.8/65.9 MB 1.6 MB/s eta 0:00:08\n",
      "   -------------------------------- ------- 53.9/65.9 MB 1.6 MB/s eta 0:00:08\n",
      "   -------------------------------- ------- 54.1/65.9 MB 1.6 MB/s eta 0:00:08\n",
      "   -------------------------------- ------- 54.1/65.9 MB 1.6 MB/s eta 0:00:08\n",
      "   -------------------------------- ------- 54.2/65.9 MB 1.7 MB/s eta 0:00:08\n",
      "   -------------------------------- ------- 54.3/65.9 MB 1.7 MB/s eta 0:00:08\n",
      "   --------------------------------- ------ 54.4/65.9 MB 1.7 MB/s eta 0:00:07\n",
      "   --------------------------------- ------ 54.5/65.9 MB 1.7 MB/s eta 0:00:07\n",
      "   --------------------------------- ------ 54.7/65.9 MB 1.7 MB/s eta 0:00:07\n",
      "   --------------------------------- ------ 54.8/65.9 MB 1.7 MB/s eta 0:00:07\n",
      "   --------------------------------- ------ 54.9/65.9 MB 1.8 MB/s eta 0:00:07\n",
      "   --------------------------------- ------ 55.0/65.9 MB 1.8 MB/s eta 0:00:07\n",
      "   --------------------------------- ------ 55.1/65.9 MB 1.8 MB/s eta 0:00:07\n",
      "   --------------------------------- ------ 55.2/65.9 MB 1.8 MB/s eta 0:00:07\n",
      "   --------------------------------- ------ 55.2/65.9 MB 1.8 MB/s eta 0:00:06\n",
      "   --------------------------------- ------ 55.4/65.9 MB 1.8 MB/s eta 0:00:06\n",
      "   --------------------------------- ------ 55.4/65.9 MB 1.8 MB/s eta 0:00:06\n",
      "   --------------------------------- ------ 55.5/65.9 MB 1.8 MB/s eta 0:00:06\n",
      "   --------------------------------- ------ 55.6/65.9 MB 1.8 MB/s eta 0:00:06\n",
      "   --------------------------------- ------ 55.7/65.9 MB 1.8 MB/s eta 0:00:06\n",
      "   --------------------------------- ------ 55.8/65.9 MB 1.8 MB/s eta 0:00:06\n",
      "   --------------------------------- ------ 55.9/65.9 MB 1.8 MB/s eta 0:00:06\n",
      "   --------------------------------- ------ 56.0/65.9 MB 1.8 MB/s eta 0:00:06\n",
      "   ---------------------------------- ----- 56.1/65.9 MB 1.8 MB/s eta 0:00:06\n",
      "   ---------------------------------- ----- 56.2/65.9 MB 1.9 MB/s eta 0:00:06\n",
      "   ---------------------------------- ----- 56.3/65.9 MB 1.9 MB/s eta 0:00:06\n",
      "   ---------------------------------- ----- 56.4/65.9 MB 1.9 MB/s eta 0:00:06\n",
      "   ---------------------------------- ----- 56.5/65.9 MB 1.9 MB/s eta 0:00:06\n",
      "   ---------------------------------- ----- 56.6/65.9 MB 1.9 MB/s eta 0:00:05\n",
      "   ---------------------------------- ----- 56.6/65.9 MB 1.9 MB/s eta 0:00:05\n",
      "   ---------------------------------- ----- 56.7/65.9 MB 1.9 MB/s eta 0:00:05\n",
      "   ---------------------------------- ----- 56.7/65.9 MB 1.9 MB/s eta 0:00:05\n",
      "   ---------------------------------- ----- 56.8/65.9 MB 1.8 MB/s eta 0:00:05\n",
      "   ---------------------------------- ----- 56.9/65.9 MB 1.8 MB/s eta 0:00:05\n",
      "   ---------------------------------- ----- 56.9/65.9 MB 1.8 MB/s eta 0:00:05\n",
      "   ---------------------------------- ----- 57.0/65.9 MB 1.9 MB/s eta 0:00:05\n",
      "   ---------------------------------- ----- 57.0/65.9 MB 1.8 MB/s eta 0:00:05\n",
      "   ---------------------------------- ----- 57.1/65.9 MB 1.8 MB/s eta 0:00:05\n",
      "   ---------------------------------- ----- 57.2/65.9 MB 1.8 MB/s eta 0:00:05\n",
      "   ---------------------------------- ----- 57.2/65.9 MB 1.8 MB/s eta 0:00:05\n",
      "   ---------------------------------- ----- 57.2/65.9 MB 1.8 MB/s eta 0:00:05\n",
      "   ---------------------------------- ----- 57.2/65.9 MB 1.8 MB/s eta 0:00:05\n",
      "   ---------------------------------- ----- 57.2/65.9 MB 1.8 MB/s eta 0:00:05\n",
      "   ---------------------------------- ----- 57.3/65.9 MB 1.8 MB/s eta 0:00:05\n",
      "   ---------------------------------- ----- 57.3/65.9 MB 1.8 MB/s eta 0:00:05\n",
      "   ---------------------------------- ----- 57.4/65.9 MB 1.8 MB/s eta 0:00:05\n",
      "   ---------------------------------- ----- 57.5/65.9 MB 1.8 MB/s eta 0:00:05\n",
      "   ---------------------------------- ----- 57.6/65.9 MB 1.8 MB/s eta 0:00:05\n",
      "   ----------------------------------- ---- 57.7/65.9 MB 1.8 MB/s eta 0:00:05\n",
      "   ----------------------------------- ---- 57.8/65.9 MB 1.8 MB/s eta 0:00:05\n",
      "   ----------------------------------- ---- 57.9/65.9 MB 1.8 MB/s eta 0:00:05\n",
      "   ----------------------------------- ---- 58.0/65.9 MB 1.8 MB/s eta 0:00:05\n",
      "   ----------------------------------- ---- 58.1/65.9 MB 1.8 MB/s eta 0:00:05\n",
      "   ----------------------------------- ---- 58.2/65.9 MB 1.8 MB/s eta 0:00:05\n",
      "   ----------------------------------- ---- 58.2/65.9 MB 1.8 MB/s eta 0:00:05\n",
      "   ----------------------------------- ---- 58.3/65.9 MB 1.8 MB/s eta 0:00:05\n",
      "   ----------------------------------- ---- 58.4/65.9 MB 1.8 MB/s eta 0:00:05\n",
      "   ----------------------------------- ---- 58.5/65.9 MB 1.8 MB/s eta 0:00:05\n",
      "   ----------------------------------- ---- 58.6/65.9 MB 1.8 MB/s eta 0:00:05\n",
      "   ----------------------------------- ---- 58.7/65.9 MB 1.8 MB/s eta 0:00:04\n",
      "   ----------------------------------- ---- 58.7/65.9 MB 1.8 MB/s eta 0:00:04\n",
      "   ----------------------------------- ---- 58.8/65.9 MB 1.8 MB/s eta 0:00:04\n",
      "   ----------------------------------- ---- 59.0/65.9 MB 1.8 MB/s eta 0:00:04\n",
      "   ----------------------------------- ---- 59.0/65.9 MB 1.8 MB/s eta 0:00:04\n",
      "   ----------------------------------- ---- 59.1/65.9 MB 1.8 MB/s eta 0:00:04\n",
      "   ----------------------------------- ---- 59.2/65.9 MB 1.8 MB/s eta 0:00:04\n",
      "   ----------------------------------- ---- 59.3/65.9 MB 1.9 MB/s eta 0:00:04\n",
      "   ----------------------------------- ---- 59.3/65.9 MB 1.9 MB/s eta 0:00:04\n",
      "   ------------------------------------ --- 59.4/65.9 MB 1.9 MB/s eta 0:00:04\n",
      "   ------------------------------------ --- 59.5/65.9 MB 1.9 MB/s eta 0:00:04\n",
      "   ------------------------------------ --- 59.6/65.9 MB 1.9 MB/s eta 0:00:04\n",
      "   ------------------------------------ --- 59.7/65.9 MB 1.8 MB/s eta 0:00:04\n",
      "   ------------------------------------ --- 59.8/65.9 MB 1.8 MB/s eta 0:00:04\n",
      "   ------------------------------------ --- 59.8/65.9 MB 1.8 MB/s eta 0:00:04\n",
      "   ------------------------------------ --- 59.9/65.9 MB 1.9 MB/s eta 0:00:04\n",
      "   ------------------------------------ --- 60.0/65.9 MB 1.8 MB/s eta 0:00:04\n",
      "   ------------------------------------ --- 60.1/65.9 MB 1.9 MB/s eta 0:00:04\n",
      "   ------------------------------------ --- 60.2/65.9 MB 1.9 MB/s eta 0:00:04\n",
      "   ------------------------------------ --- 60.3/65.9 MB 1.9 MB/s eta 0:00:04\n",
      "   ------------------------------------ --- 60.4/65.9 MB 1.9 MB/s eta 0:00:03\n",
      "   ------------------------------------ --- 60.5/65.9 MB 1.9 MB/s eta 0:00:03\n",
      "   ------------------------------------ --- 60.7/65.9 MB 1.9 MB/s eta 0:00:03\n",
      "   ------------------------------------ --- 60.8/65.9 MB 1.9 MB/s eta 0:00:03\n",
      "   ------------------------------------ --- 60.9/65.9 MB 1.9 MB/s eta 0:00:03\n",
      "   ------------------------------------ --- 60.9/65.9 MB 1.9 MB/s eta 0:00:03\n",
      "   ------------------------------------ --- 61.0/65.9 MB 1.9 MB/s eta 0:00:03\n",
      "   ------------------------------------- -- 61.1/65.9 MB 1.9 MB/s eta 0:00:03\n",
      "   ------------------------------------- -- 61.1/65.9 MB 1.9 MB/s eta 0:00:03\n",
      "   ------------------------------------- -- 61.2/65.9 MB 1.9 MB/s eta 0:00:03\n",
      "   ------------------------------------- -- 61.2/65.9 MB 1.9 MB/s eta 0:00:03\n",
      "   ------------------------------------- -- 61.2/65.9 MB 1.9 MB/s eta 0:00:03\n",
      "   ------------------------------------- -- 61.3/65.9 MB 1.8 MB/s eta 0:00:03\n",
      "   ------------------------------------- -- 61.3/65.9 MB 1.8 MB/s eta 0:00:03\n",
      "   ------------------------------------- -- 61.4/65.9 MB 1.8 MB/s eta 0:00:03\n",
      "   ------------------------------------- -- 61.4/65.9 MB 1.8 MB/s eta 0:00:03\n",
      "   ------------------------------------- -- 61.4/65.9 MB 1.8 MB/s eta 0:00:03\n",
      "   ------------------------------------- -- 61.5/65.9 MB 1.8 MB/s eta 0:00:03\n",
      "   ------------------------------------- -- 61.5/65.9 MB 1.8 MB/s eta 0:00:03\n",
      "   ------------------------------------- -- 61.5/65.9 MB 1.8 MB/s eta 0:00:03\n",
      "   ------------------------------------- -- 61.5/65.9 MB 1.8 MB/s eta 0:00:03\n",
      "   ------------------------------------- -- 61.5/65.9 MB 1.8 MB/s eta 0:00:03\n",
      "   ------------------------------------- -- 61.6/65.9 MB 1.7 MB/s eta 0:00:03\n",
      "   ------------------------------------- -- 61.6/65.9 MB 1.7 MB/s eta 0:00:03\n",
      "   ------------------------------------- -- 61.7/65.9 MB 1.7 MB/s eta 0:00:03\n",
      "   ------------------------------------- -- 61.7/65.9 MB 1.7 MB/s eta 0:00:03\n",
      "   ------------------------------------- -- 61.8/65.9 MB 1.7 MB/s eta 0:00:03\n",
      "   ------------------------------------- -- 61.9/65.9 MB 1.7 MB/s eta 0:00:03\n",
      "   ------------------------------------- -- 61.9/65.9 MB 1.7 MB/s eta 0:00:03\n",
      "   ------------------------------------- -- 62.0/65.9 MB 1.7 MB/s eta 0:00:03\n",
      "   ------------------------------------- -- 62.0/65.9 MB 1.7 MB/s eta 0:00:03\n",
      "   ------------------------------------- -- 62.1/65.9 MB 1.7 MB/s eta 0:00:03\n",
      "   ------------------------------------- -- 62.1/65.9 MB 1.7 MB/s eta 0:00:03\n",
      "   ------------------------------------- -- 62.2/65.9 MB 1.7 MB/s eta 0:00:03\n",
      "   ------------------------------------- -- 62.2/65.9 MB 1.7 MB/s eta 0:00:03\n",
      "   ------------------------------------- -- 62.3/65.9 MB 1.7 MB/s eta 0:00:03\n",
      "   ------------------------------------- -- 62.3/65.9 MB 1.7 MB/s eta 0:00:03\n",
      "   ------------------------------------- -- 62.4/65.9 MB 1.7 MB/s eta 0:00:03\n",
      "   ------------------------------------- -- 62.5/65.9 MB 1.7 MB/s eta 0:00:03\n",
      "   ------------------------------------- -- 62.5/65.9 MB 1.7 MB/s eta 0:00:03\n",
      "   ------------------------------------- -- 62.6/65.9 MB 1.7 MB/s eta 0:00:03\n",
      "   -------------------------------------- - 62.7/65.9 MB 1.7 MB/s eta 0:00:02\n",
      "   -------------------------------------- - 62.8/65.9 MB 1.7 MB/s eta 0:00:02\n",
      "   -------------------------------------- - 62.8/65.9 MB 1.7 MB/s eta 0:00:02\n",
      "   -------------------------------------- - 62.9/65.9 MB 1.6 MB/s eta 0:00:02\n",
      "   -------------------------------------- - 62.9/65.9 MB 1.7 MB/s eta 0:00:02\n",
      "   -------------------------------------- - 63.0/65.9 MB 1.6 MB/s eta 0:00:02\n",
      "   -------------------------------------- - 63.1/65.9 MB 1.6 MB/s eta 0:00:02\n",
      "   -------------------------------------- - 63.1/65.9 MB 1.6 MB/s eta 0:00:02\n",
      "   -------------------------------------- - 63.2/65.9 MB 1.6 MB/s eta 0:00:02\n",
      "   -------------------------------------- - 63.3/65.9 MB 1.6 MB/s eta 0:00:02\n",
      "   -------------------------------------- - 63.3/65.9 MB 1.6 MB/s eta 0:00:02\n",
      "   -------------------------------------- - 63.4/65.9 MB 1.6 MB/s eta 0:00:02\n",
      "   -------------------------------------- - 63.4/65.9 MB 1.6 MB/s eta 0:00:02\n",
      "   -------------------------------------- - 63.5/65.9 MB 1.6 MB/s eta 0:00:02\n",
      "   -------------------------------------- - 63.6/65.9 MB 1.6 MB/s eta 0:00:02\n",
      "   -------------------------------------- - 63.6/65.9 MB 1.6 MB/s eta 0:00:02\n",
      "   -------------------------------------- - 63.7/65.9 MB 1.6 MB/s eta 0:00:02\n",
      "   -------------------------------------- - 63.8/65.9 MB 1.6 MB/s eta 0:00:02\n",
      "   -------------------------------------- - 63.8/65.9 MB 1.6 MB/s eta 0:00:02\n",
      "   -------------------------------------- - 63.9/65.9 MB 1.6 MB/s eta 0:00:02\n",
      "   -------------------------------------- - 64.0/65.9 MB 1.6 MB/s eta 0:00:02\n",
      "   -------------------------------------- - 64.1/65.9 MB 1.6 MB/s eta 0:00:02\n",
      "   -------------------------------------- - 64.2/65.9 MB 1.6 MB/s eta 0:00:02\n",
      "   -------------------------------------- - 64.2/65.9 MB 1.6 MB/s eta 0:00:02\n",
      "   ---------------------------------------  64.3/65.9 MB 1.6 MB/s eta 0:00:02\n",
      "   ---------------------------------------  64.4/65.9 MB 1.6 MB/s eta 0:00:01\n",
      "   ---------------------------------------  64.4/65.9 MB 1.6 MB/s eta 0:00:01\n",
      "   ---------------------------------------  64.6/65.9 MB 1.6 MB/s eta 0:00:01\n",
      "   ---------------------------------------  64.6/65.9 MB 1.6 MB/s eta 0:00:01\n",
      "   ---------------------------------------  64.7/65.9 MB 1.6 MB/s eta 0:00:01\n",
      "   ---------------------------------------  64.7/65.9 MB 1.6 MB/s eta 0:00:01\n",
      "   ---------------------------------------  64.8/65.9 MB 1.5 MB/s eta 0:00:01\n",
      "   ---------------------------------------  64.9/65.9 MB 1.5 MB/s eta 0:00:01\n",
      "   ---------------------------------------  65.0/65.9 MB 1.5 MB/s eta 0:00:01\n",
      "   ---------------------------------------  65.0/65.9 MB 1.5 MB/s eta 0:00:01\n",
      "   ---------------------------------------  65.1/65.9 MB 1.5 MB/s eta 0:00:01\n",
      "   ---------------------------------------  65.2/65.9 MB 1.5 MB/s eta 0:00:01\n",
      "   ---------------------------------------  65.2/65.9 MB 1.5 MB/s eta 0:00:01\n",
      "   ---------------------------------------  65.3/65.9 MB 1.5 MB/s eta 0:00:01\n",
      "   ---------------------------------------  65.4/65.9 MB 1.5 MB/s eta 0:00:01\n",
      "   ---------------------------------------  65.5/65.9 MB 1.5 MB/s eta 0:00:01\n",
      "   ---------------------------------------  65.5/65.9 MB 1.5 MB/s eta 0:00:01\n",
      "   ---------------------------------------  65.6/65.9 MB 1.5 MB/s eta 0:00:01\n",
      "   ---------------------------------------  65.7/65.9 MB 1.5 MB/s eta 0:00:01\n",
      "   ---------------------------------------  65.7/65.9 MB 1.5 MB/s eta 0:00:01\n",
      "   ---------------------------------------  65.8/65.9 MB 1.5 MB/s eta 0:00:01\n",
      "   ---------------------------------------  65.9/65.9 MB 1.5 MB/s eta 0:00:01\n",
      "   ---------------------------------------  65.9/65.9 MB 1.5 MB/s eta 0:00:01\n",
      "   ---------------------------------------  65.9/65.9 MB 1.5 MB/s eta 0:00:01\n",
      "   ---------------------------------------  65.9/65.9 MB 1.5 MB/s eta 0:00:01\n",
      "   ---------------------------------------  65.9/65.9 MB 1.5 MB/s eta 0:00:01\n",
      "   ---------------------------------------  65.9/65.9 MB 1.5 MB/s eta 0:00:01\n",
      "   ---------------------------------------  65.9/65.9 MB 1.5 MB/s eta 0:00:01\n",
      "   ---------------------------------------  65.9/65.9 MB 1.5 MB/s eta 0:00:01\n",
      "   ---------------------------------------  65.9/65.9 MB 1.5 MB/s eta 0:00:01\n",
      "   ---------------------------------------  65.9/65.9 MB 1.5 MB/s eta 0:00:01\n",
      "   ---------------------------------------  65.9/65.9 MB 1.5 MB/s eta 0:00:01\n",
      "   ---------------------------------------  65.9/65.9 MB 1.5 MB/s eta 0:00:01\n",
      "   ---------------------------------------  65.9/65.9 MB 1.5 MB/s eta 0:00:01\n",
      "   ---------------------------------------  65.9/65.9 MB 1.5 MB/s eta 0:00:01\n",
      "   ---------------------------------------  65.9/65.9 MB 1.5 MB/s eta 0:00:01\n",
      "   ---------------------------------------  65.9/65.9 MB 1.5 MB/s eta 0:00:01\n",
      "   ---------------------------------------  65.9/65.9 MB 1.5 MB/s eta 0:00:01\n",
      "   ---------------------------------------  65.9/65.9 MB 1.5 MB/s eta 0:00:01\n",
      "   ---------------------------------------  65.9/65.9 MB 1.5 MB/s eta 0:00:01\n",
      "   ---------------------------------------  65.9/65.9 MB 1.5 MB/s eta 0:00:01\n",
      "   ---------------------------------------  65.9/65.9 MB 1.5 MB/s eta 0:00:01\n",
      "   ---------------------------------------  65.9/65.9 MB 1.5 MB/s eta 0:00:01\n",
      "   ---------------------------------------  65.9/65.9 MB 1.5 MB/s eta 0:00:01\n",
      "   ---------------------------------------  65.9/65.9 MB 1.5 MB/s eta 0:00:01\n",
      "   ---------------------------------------  65.9/65.9 MB 1.5 MB/s eta 0:00:01\n",
      "   ---------------------------------------  65.9/65.9 MB 1.5 MB/s eta 0:00:01\n",
      "   ---------------------------------------  65.9/65.9 MB 1.5 MB/s eta 0:00:01\n",
      "   ---------------------------------------  65.9/65.9 MB 1.5 MB/s eta 0:00:01\n",
      "   ---------------------------------------  65.9/65.9 MB 1.5 MB/s eta 0:00:01\n",
      "   ---------------------------------------  65.9/65.9 MB 1.5 MB/s eta 0:00:01\n",
      "   ---------------------------------------  65.9/65.9 MB 1.5 MB/s eta 0:00:01\n",
      "   ---------------------------------------  65.9/65.9 MB 1.5 MB/s eta 0:00:01\n",
      "   ---------------------------------------  65.9/65.9 MB 1.5 MB/s eta 0:00:01\n",
      "   ---------------------------------------  65.9/65.9 MB 1.5 MB/s eta 0:00:01\n",
      "   ---------------------------------------  65.9/65.9 MB 1.5 MB/s eta 0:00:01\n",
      "   ---------------------------------------- 65.9/65.9 MB 1.2 MB/s eta 0:00:00\n",
      "Installing collected packages: kaleido\n",
      "Successfully installed kaleido-0.2.1\n"
     ]
    },
    {
     "name": "stderr",
     "output_type": "stream",
     "text": [
      "\n",
      "[notice] A new release of pip is available: 24.0 -> 24.2\n",
      "[notice] To update, run: python.exe -m pip install --upgrade pip\n"
     ]
    }
   ],
   "source": [
    "pip install -U kaleido\n"
   ]
  },
  {
   "cell_type": "code",
   "execution_count": 49,
   "metadata": {},
   "outputs": [
    {
     "name": "stdout",
     "output_type": "stream",
     "text": [
      "Requirement already satisfied: pip in c:\\users\\dell\\appdata\\local\\programs\\python\\python312\\lib\\site-packages (24.0)\n",
      "Collecting pip\n",
      "  Downloading pip-24.2-py3-none-any.whl.metadata (3.6 kB)\n",
      "Downloading pip-24.2-py3-none-any.whl (1.8 MB)\n",
      "   ---------------------------------------- 0.0/1.8 MB ? eta -:--:--\n",
      "   ---------------------------------------- 0.0/1.8 MB ? eta -:--:--\n",
      "   ---------------------------------------- 0.0/1.8 MB ? eta -:--:--\n",
      "   ---------------------------------------- 0.0/1.8 MB ? eta -:--:--\n",
      "    --------------------------------------- 0.0/1.8 MB 186.2 kB/s eta 0:00:10\n",
      "    --------------------------------------- 0.0/1.8 MB 196.9 kB/s eta 0:00:10\n",
      "   - -------------------------------------- 0.1/1.8 MB 272.3 kB/s eta 0:00:07\n",
      "   -- ------------------------------------- 0.1/1.8 MB 435.7 kB/s eta 0:00:04\n",
      "   ---- ----------------------------------- 0.2/1.8 MB 655.1 kB/s eta 0:00:03\n",
      "   ------ --------------------------------- 0.3/1.8 MB 905.4 kB/s eta 0:00:02\n",
      "   --------- ------------------------------ 0.5/1.8 MB 1.1 MB/s eta 0:00:02\n",
      "   ----------- ---------------------------- 0.5/1.8 MB 1.3 MB/s eta 0:00:02\n",
      "   ------------ --------------------------- 0.6/1.8 MB 1.1 MB/s eta 0:00:02\n",
      "   --------------- ------------------------ 0.7/1.8 MB 1.4 MB/s eta 0:00:01\n",
      "   -------------------- ------------------- 0.9/1.8 MB 1.6 MB/s eta 0:00:01\n",
      "   --------------------- ------------------ 1.0/1.8 MB 1.6 MB/s eta 0:00:01\n",
      "   ------------------------ --------------- 1.1/1.8 MB 1.7 MB/s eta 0:00:01\n",
      "   --------------------------- ------------ 1.2/1.8 MB 1.7 MB/s eta 0:00:01\n",
      "   --------------------------- ------------ 1.2/1.8 MB 1.7 MB/s eta 0:00:01\n",
      "   ------------------------------ --------- 1.4/1.8 MB 1.7 MB/s eta 0:00:01\n",
      "   -------------------------------- ------- 1.5/1.8 MB 1.7 MB/s eta 0:00:01\n",
      "   ----------------------------------- ---- 1.6/1.8 MB 1.8 MB/s eta 0:00:01\n",
      "   ------------------------------------- -- 1.7/1.8 MB 1.8 MB/s eta 0:00:01\n",
      "   ---------------------------------------  1.8/1.8 MB 1.8 MB/s eta 0:00:01\n",
      "   ---------------------------------------- 1.8/1.8 MB 1.8 MB/s eta 0:00:00\n",
      "Installing collected packages: pip\n",
      "  Attempting uninstall: pip\n",
      "    Found existing installation: pip 24.0\n",
      "    Uninstalling pip-24.0:\n",
      "      Successfully uninstalled pip-24.0\n",
      "Successfully installed pip-24.2\n",
      "Note: you may need to restart the kernel to use updated packages.\n"
     ]
    }
   ],
   "source": [
    "pip install --upgrade pip"
   ]
  },
  {
   "cell_type": "code",
   "execution_count": null,
   "metadata": {},
   "outputs": [],
   "source": []
  }
 ],
 "metadata": {
  "kernelspec": {
   "display_name": "Python 3",
   "language": "python",
   "name": "python3"
  },
  "language_info": {
   "codemirror_mode": {
    "name": "ipython",
    "version": 3
   },
   "file_extension": ".py",
   "mimetype": "text/x-python",
   "name": "python",
   "nbconvert_exporter": "python",
   "pygments_lexer": "ipython3",
   "version": "3.12.2"
  }
 },
 "nbformat": 4,
 "nbformat_minor": 2
}
